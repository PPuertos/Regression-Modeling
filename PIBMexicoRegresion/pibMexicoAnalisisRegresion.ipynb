{
 "cells": [
  {
   "cell_type": "markdown",
   "metadata": {},
   "source": [
    "# Desarrollo de una Estrategia de Inversión para Sectores y Actividades con Mayor Impacto en el Crecimiento del PIB\n",
    "\n",
    "## Objetivo del Proyecto\n",
    "Identificar y cuantificar los sectores y actividades con mayor impacto en el crecimiento del PIB nacional en México, con el fin de formular una estrategia de inversión informada que maximice el crecimiento económico del país.\n",
    "\n",
    "Este análisis proporcionará insights valiosos para inversionistas y autoridades, orientándolos sobre qué sectores priorizar para impulsar un crecimiento económico sostenible y productivo."
   ]
  },
  {
   "cell_type": "markdown",
   "metadata": {},
   "source": [
    "1. **Agricultura**  \n",
    "   La agricultura es fundamental para el sustento de muchas comunidades en México. Estados como Sinaloa y Jalisco son líderes en la producción de maíz y otros cultivos, mientras que Chiapas destaca en café. Este sector no solo contribuye al PIB, sino que también es vital para la seguridad alimentaria.\n",
    "\n",
    "2. **Minería**  \n",
    "   La minería es un sector clave, con estados como Zacatecas y Durango siendo importantes productores de plata y otros minerales. Además, Sonora es conocido por su producción de cobre, un recurso esencial para la industria.\n",
    "\n",
    "3. **Generación y Distribución de Energía Eléctrica**  \n",
    "   Este sector es crítico para el desarrollo económico. Veracruz y Tamaulipas son estados con importantes infraestructuras de energía, siendo fundamentales para la generación de electricidad a partir de fuentes renovables y convencionales.\n",
    "\n",
    "4. **Construcción**  \n",
    "   La construcción impulsa el desarrollo urbano, y la Ciudad de México, así como el Estado de México, son líderes en proyectos de infraestructura, incluyendo vivienda y obras públicas.\n",
    "\n",
    "5. **Industria Alimentaria**  \n",
    "   La industria alimentaria no solo satisface la demanda interna, sino que también exporta productos. Puebla y Jalisco son reconocidos por sus productos procesados, como el tequila y las salsas.\n",
    "\n",
    "6. **Industria de Bebidas y Tabaco**  \n",
    "   Estados como Jalisco y Coahuila son importantes en la producción de bebidas alcohólicas, especialmente el tequila. Esta industria genera empleo y es un motor de exportación.\n",
    "\n",
    "7. **Fabricación de Maquinaria y Equipo**  \n",
    "   La industria de maquinaria es vital en la manufactura, con Querétaro y Guanajuato como focos de desarrollo. Estas entidades son clave para la producción de maquinaria agrícola y automotriz.\n",
    "\n",
    "8. **Fabricación de Productos Químicos**  \n",
    "   La industria química es crucial para el desarrollo industrial, destacando el Estado de México y Veracruz en la producción de productos químicos básicos y especializados.\n",
    "\n",
    "9. **Comercio al por Mayor**  \n",
    "   El comercio al por mayor es un pilar del sector terciario. La Ciudad de México es un centro neurálgico, con múltiples mercados y mayoristas que abastecen al país.\n",
    "\n",
    "10. **Servicios Financieros y de Seguros**  \n",
    "    Este sector es fundamental para la economía, con la Ciudad de México como centro financiero. Las instituciones bancarias y aseguradoras son esenciales para la inversión y el desarrollo económico.\n",
    "\n",
    "11. **Transporte y Almacenamiento**    \n",
    "   Esta actividad es crucial para el comercio y la logística en México, facilitando la movilidad de mercancías y personas. Los estados con mayor actividad en este sector incluyen Veracruz, Estado de México y Nuevo León, donde se concentran puertos, aeropuertos y redes de transporte terrestre.\n",
    "\n",
    "12. **Servicios de Salud y Asistencia Social**     \n",
    "   La salud es un pilar fundamental en el bienestar de la población, y su desarrollo impacta directamente en la productividad y calidad de vida. Estados como Jalisco, Ciudad de México y Guanajuato cuentan con una infraestructura de salud bien establecida y en constante crecimiento.\n",
    "\n",
    "13. **Servicios Educativos**     \n",
    "   La educación es clave para el desarrollo del capital humano y la innovación. Estados como la Ciudad de México, Nuevo León y Jalisco tienen una alta concentración de instituciones educativas, desde escuelas primarias hasta universidades, contribuyendo a la formación de una fuerza laboral calificada.\n",
    "14. **Servicios de Alojamiento Temporal**    \n",
    "   Este sector es fundamental para el turismo, que es una de las principales fuentes de ingresos en México. Estados como Quintana Roo, Ciudad de México y Baja California Sur destacan por su infraestructura hotelera y de servicios turísticos, atrayendo a millones de visitantes cada año.\n",
    "\n",
    "15. **Servicios de Reparación y Mantenimiento**    \n",
    "   Este sector contribuye a la sostenibilidad de bienes y equipos, fomentando un consumo más consciente y eficiente. Las ciudades industriales como Monterrey, Tijuana y Guadalajara son centros importantes para este tipo de servicios, beneficiando tanto a empresas como a consumidores.\n",
    "\n",
    "### Referencias\n",
    "\n",
    "- Instituto Nacional de Estadística y Geografía (INEGI). (2024). *Cuentas Nacionales de México*. Recuperado de [INEGI](https://www.inegi.org.mx)\n",
    "- Secretaría de Hacienda y Crédito Público (SHCP). (2024). *Informe sobre la Situación Económica, las Finanzas Públicas y la Deuda Pública*. Recuperado de [SHCP](https://www.gob.mx/shcp)\n",
    "- Cámara Nacional de la Industria de Transformación (CANACINTRA). (2023). *Informe Anual sobre el Desarrollo Industrial en México*. Recuperado de [CANACINTRA](https://www.canacintra.org.mx)"
   ]
  },
  {
   "cell_type": "markdown",
   "metadata": {},
   "source": [
    "# Descarga y Selección de los Datos\n",
    "Inicialmente, los datos descargados cubrían desde el primer trimestre de 1993 hasta el primer trimestre de 2023, proporcionando un conjunto extenso de observaciones trimestrales. Sin embargo, dado el objetivo de estimar el PIB nacional en el contexto de las relaciones económicas actuales, fue necesario acortar el rango de tiempo para enfocarse en las tendencias y patrones más recientes.\n",
    "\n",
    "Al tomar en cuenta posibles cambios estructurales y económicos ocurridos a lo largo de tres décadas, se decidió utilizar datos únicamente desde el segundo trimestre de 2008 en adelante, abarcando los últimos 15 años de información hasta el dato más actual disponible (primer trimestre de 2023). Esta selección de 60 trimestres permite que el modelo capture de manera más precisa las relaciones actuales entre las actividades económicas y el PIB, al reducir la influencia de eventos económicos ya no representativos, como crisis económicas y cambios de política previos a este periodo.\n",
    "\n",
    "En resumen, este enfoque asegura que el modelo se ajuste a las condiciones actuales de la economía mexicana, ofreciendo así predicciones más relevantes y precisas."
   ]
  },
  {
   "cell_type": "code",
   "execution_count": 1,
   "metadata": {},
   "outputs": [
    {
     "name": "stdout",
     "output_type": "stream",
     "text": [
      "Sucessfully imported data: pibByActivity\n",
      "Sucessfully imported data: PIB_global\n",
      "Sucessfully imported data: PIB_primarias\n",
      "Sucessfully imported data: PIB_secundarias\n",
      "Sucessfully imported data: PIB_terciarias\n",
      "Data Successfully updated!\n"
     ]
    }
   ],
   "source": [
    "# Importación de Módulos Necesarios\n",
    "import moduloPrincipal as mp\n",
    "import moduloGraficas as mg\n",
    "# Importación de módulos para regresiones\n",
    "cm, mlr = mp.importModules()\n",
    "\n",
    "# Importacion de PIB por Actividad\n",
    "pibPorActividad = mp.pibPorActividad()\n",
    "# Acortando el rango de datos a los últimos 15 años\n",
    "pibPorActividad = pibPorActividad.iloc[:-61,:]\n",
    "\n",
    "# Importación de PIB por Actividad\n",
    "pibPorSector = mp.importacionDatos()"
   ]
  },
  {
   "cell_type": "markdown",
   "metadata": {},
   "source": [
    "# Análisis Descriptivo de los Datos\n",
    "\n",
    "## Aportación del PIB de cada Sector\n",
    "En el gráfico de proporciones (donut chart), observamos que los sectores se distribuyen de la siguiente manera: el sector primario representa el 3.4%, el sector secundario un 33.6%, y el sector terciario un 63% del total. Esta distribución resalta la predominancia del sector terciario en la estructura económica, lo que indica un enfoque hacia servicios y actividades relacionadas con la asistencia social, educación y alojamiento temporal."
   ]
  },
  {
   "cell_type": "code",
   "execution_count": 3,
   "metadata": {},
   "outputs": [
    {
     "data": {
      "application/vnd.plotly.v1+json": {
       "config": {
        "plotlyServerURL": "https://plot.ly"
       },
       "data": [
        {
         "hole": 0.35,
         "hoverinfo": "label+value+percent",
         "labels": [
          "PIB_primarias",
          "PIB_secundarias",
          "PIB_terciarias"
         ],
         "marker": {
          "line": {
           "color": "#000",
           "width": 1
          }
         },
         "textfont": {
          "color": "white",
          "size": 12
         },
         "textinfo": "percent",
         "type": "pie",
         "values": [
          811528.758084705,
          8031837.93641575,
          15036376.0921914
         ]
        }
       ],
       "layout": {
        "annotations": [
         {
          "font": {
           "color": "white",
           "size": 18
          },
          "showarrow": false,
          "text": "$25.27M",
          "x": 0.5,
          "y": 0.5
         }
        ],
        "autosize": true,
        "legend": {
         "font": {
          "color": "white",
          "size": 12
         },
         "orientation": "h",
         "x": 0.5,
         "xanchor": "center",
         "y": -0.1,
         "yanchor": "bottom"
        },
        "margin": {
         "b": 0,
         "t": 0
        },
        "paper_bgcolor": "rgba(0, 0, 0, 0)",
        "plot_bgcolor": "rgba(0,0,0,0)",
        "template": {
         "data": {
          "bar": [
           {
            "error_x": {
             "color": "#2a3f5f"
            },
            "error_y": {
             "color": "#2a3f5f"
            },
            "marker": {
             "line": {
              "color": "#E5ECF6",
              "width": 0.5
             },
             "pattern": {
              "fillmode": "overlay",
              "size": 10,
              "solidity": 0.2
             }
            },
            "type": "bar"
           }
          ],
          "barpolar": [
           {
            "marker": {
             "line": {
              "color": "#E5ECF6",
              "width": 0.5
             },
             "pattern": {
              "fillmode": "overlay",
              "size": 10,
              "solidity": 0.2
             }
            },
            "type": "barpolar"
           }
          ],
          "carpet": [
           {
            "aaxis": {
             "endlinecolor": "#2a3f5f",
             "gridcolor": "white",
             "linecolor": "white",
             "minorgridcolor": "white",
             "startlinecolor": "#2a3f5f"
            },
            "baxis": {
             "endlinecolor": "#2a3f5f",
             "gridcolor": "white",
             "linecolor": "white",
             "minorgridcolor": "white",
             "startlinecolor": "#2a3f5f"
            },
            "type": "carpet"
           }
          ],
          "choropleth": [
           {
            "colorbar": {
             "outlinewidth": 0,
             "ticks": ""
            },
            "type": "choropleth"
           }
          ],
          "contour": [
           {
            "colorbar": {
             "outlinewidth": 0,
             "ticks": ""
            },
            "colorscale": [
             [
              0,
              "#0d0887"
             ],
             [
              0.1111111111111111,
              "#46039f"
             ],
             [
              0.2222222222222222,
              "#7201a8"
             ],
             [
              0.3333333333333333,
              "#9c179e"
             ],
             [
              0.4444444444444444,
              "#bd3786"
             ],
             [
              0.5555555555555556,
              "#d8576b"
             ],
             [
              0.6666666666666666,
              "#ed7953"
             ],
             [
              0.7777777777777778,
              "#fb9f3a"
             ],
             [
              0.8888888888888888,
              "#fdca26"
             ],
             [
              1,
              "#f0f921"
             ]
            ],
            "type": "contour"
           }
          ],
          "contourcarpet": [
           {
            "colorbar": {
             "outlinewidth": 0,
             "ticks": ""
            },
            "type": "contourcarpet"
           }
          ],
          "heatmap": [
           {
            "colorbar": {
             "outlinewidth": 0,
             "ticks": ""
            },
            "colorscale": [
             [
              0,
              "#0d0887"
             ],
             [
              0.1111111111111111,
              "#46039f"
             ],
             [
              0.2222222222222222,
              "#7201a8"
             ],
             [
              0.3333333333333333,
              "#9c179e"
             ],
             [
              0.4444444444444444,
              "#bd3786"
             ],
             [
              0.5555555555555556,
              "#d8576b"
             ],
             [
              0.6666666666666666,
              "#ed7953"
             ],
             [
              0.7777777777777778,
              "#fb9f3a"
             ],
             [
              0.8888888888888888,
              "#fdca26"
             ],
             [
              1,
              "#f0f921"
             ]
            ],
            "type": "heatmap"
           }
          ],
          "heatmapgl": [
           {
            "colorbar": {
             "outlinewidth": 0,
             "ticks": ""
            },
            "colorscale": [
             [
              0,
              "#0d0887"
             ],
             [
              0.1111111111111111,
              "#46039f"
             ],
             [
              0.2222222222222222,
              "#7201a8"
             ],
             [
              0.3333333333333333,
              "#9c179e"
             ],
             [
              0.4444444444444444,
              "#bd3786"
             ],
             [
              0.5555555555555556,
              "#d8576b"
             ],
             [
              0.6666666666666666,
              "#ed7953"
             ],
             [
              0.7777777777777778,
              "#fb9f3a"
             ],
             [
              0.8888888888888888,
              "#fdca26"
             ],
             [
              1,
              "#f0f921"
             ]
            ],
            "type": "heatmapgl"
           }
          ],
          "histogram": [
           {
            "marker": {
             "pattern": {
              "fillmode": "overlay",
              "size": 10,
              "solidity": 0.2
             }
            },
            "type": "histogram"
           }
          ],
          "histogram2d": [
           {
            "colorbar": {
             "outlinewidth": 0,
             "ticks": ""
            },
            "colorscale": [
             [
              0,
              "#0d0887"
             ],
             [
              0.1111111111111111,
              "#46039f"
             ],
             [
              0.2222222222222222,
              "#7201a8"
             ],
             [
              0.3333333333333333,
              "#9c179e"
             ],
             [
              0.4444444444444444,
              "#bd3786"
             ],
             [
              0.5555555555555556,
              "#d8576b"
             ],
             [
              0.6666666666666666,
              "#ed7953"
             ],
             [
              0.7777777777777778,
              "#fb9f3a"
             ],
             [
              0.8888888888888888,
              "#fdca26"
             ],
             [
              1,
              "#f0f921"
             ]
            ],
            "type": "histogram2d"
           }
          ],
          "histogram2dcontour": [
           {
            "colorbar": {
             "outlinewidth": 0,
             "ticks": ""
            },
            "colorscale": [
             [
              0,
              "#0d0887"
             ],
             [
              0.1111111111111111,
              "#46039f"
             ],
             [
              0.2222222222222222,
              "#7201a8"
             ],
             [
              0.3333333333333333,
              "#9c179e"
             ],
             [
              0.4444444444444444,
              "#bd3786"
             ],
             [
              0.5555555555555556,
              "#d8576b"
             ],
             [
              0.6666666666666666,
              "#ed7953"
             ],
             [
              0.7777777777777778,
              "#fb9f3a"
             ],
             [
              0.8888888888888888,
              "#fdca26"
             ],
             [
              1,
              "#f0f921"
             ]
            ],
            "type": "histogram2dcontour"
           }
          ],
          "mesh3d": [
           {
            "colorbar": {
             "outlinewidth": 0,
             "ticks": ""
            },
            "type": "mesh3d"
           }
          ],
          "parcoords": [
           {
            "line": {
             "colorbar": {
              "outlinewidth": 0,
              "ticks": ""
             }
            },
            "type": "parcoords"
           }
          ],
          "pie": [
           {
            "automargin": true,
            "type": "pie"
           }
          ],
          "scatter": [
           {
            "fillpattern": {
             "fillmode": "overlay",
             "size": 10,
             "solidity": 0.2
            },
            "type": "scatter"
           }
          ],
          "scatter3d": [
           {
            "line": {
             "colorbar": {
              "outlinewidth": 0,
              "ticks": ""
             }
            },
            "marker": {
             "colorbar": {
              "outlinewidth": 0,
              "ticks": ""
             }
            },
            "type": "scatter3d"
           }
          ],
          "scattercarpet": [
           {
            "marker": {
             "colorbar": {
              "outlinewidth": 0,
              "ticks": ""
             }
            },
            "type": "scattercarpet"
           }
          ],
          "scattergeo": [
           {
            "marker": {
             "colorbar": {
              "outlinewidth": 0,
              "ticks": ""
             }
            },
            "type": "scattergeo"
           }
          ],
          "scattergl": [
           {
            "marker": {
             "colorbar": {
              "outlinewidth": 0,
              "ticks": ""
             }
            },
            "type": "scattergl"
           }
          ],
          "scattermapbox": [
           {
            "marker": {
             "colorbar": {
              "outlinewidth": 0,
              "ticks": ""
             }
            },
            "type": "scattermapbox"
           }
          ],
          "scatterpolar": [
           {
            "marker": {
             "colorbar": {
              "outlinewidth": 0,
              "ticks": ""
             }
            },
            "type": "scatterpolar"
           }
          ],
          "scatterpolargl": [
           {
            "marker": {
             "colorbar": {
              "outlinewidth": 0,
              "ticks": ""
             }
            },
            "type": "scatterpolargl"
           }
          ],
          "scatterternary": [
           {
            "marker": {
             "colorbar": {
              "outlinewidth": 0,
              "ticks": ""
             }
            },
            "type": "scatterternary"
           }
          ],
          "surface": [
           {
            "colorbar": {
             "outlinewidth": 0,
             "ticks": ""
            },
            "colorscale": [
             [
              0,
              "#0d0887"
             ],
             [
              0.1111111111111111,
              "#46039f"
             ],
             [
              0.2222222222222222,
              "#7201a8"
             ],
             [
              0.3333333333333333,
              "#9c179e"
             ],
             [
              0.4444444444444444,
              "#bd3786"
             ],
             [
              0.5555555555555556,
              "#d8576b"
             ],
             [
              0.6666666666666666,
              "#ed7953"
             ],
             [
              0.7777777777777778,
              "#fb9f3a"
             ],
             [
              0.8888888888888888,
              "#fdca26"
             ],
             [
              1,
              "#f0f921"
             ]
            ],
            "type": "surface"
           }
          ],
          "table": [
           {
            "cells": {
             "fill": {
              "color": "#EBF0F8"
             },
             "line": {
              "color": "white"
             }
            },
            "header": {
             "fill": {
              "color": "#C8D4E3"
             },
             "line": {
              "color": "white"
             }
            },
            "type": "table"
           }
          ]
         },
         "layout": {
          "annotationdefaults": {
           "arrowcolor": "#2a3f5f",
           "arrowhead": 0,
           "arrowwidth": 1
          },
          "autotypenumbers": "strict",
          "coloraxis": {
           "colorbar": {
            "outlinewidth": 0,
            "ticks": ""
           }
          },
          "colorscale": {
           "diverging": [
            [
             0,
             "#8e0152"
            ],
            [
             0.1,
             "#c51b7d"
            ],
            [
             0.2,
             "#de77ae"
            ],
            [
             0.3,
             "#f1b6da"
            ],
            [
             0.4,
             "#fde0ef"
            ],
            [
             0.5,
             "#f7f7f7"
            ],
            [
             0.6,
             "#e6f5d0"
            ],
            [
             0.7,
             "#b8e186"
            ],
            [
             0.8,
             "#7fbc41"
            ],
            [
             0.9,
             "#4d9221"
            ],
            [
             1,
             "#276419"
            ]
           ],
           "sequential": [
            [
             0,
             "#0d0887"
            ],
            [
             0.1111111111111111,
             "#46039f"
            ],
            [
             0.2222222222222222,
             "#7201a8"
            ],
            [
             0.3333333333333333,
             "#9c179e"
            ],
            [
             0.4444444444444444,
             "#bd3786"
            ],
            [
             0.5555555555555556,
             "#d8576b"
            ],
            [
             0.6666666666666666,
             "#ed7953"
            ],
            [
             0.7777777777777778,
             "#fb9f3a"
            ],
            [
             0.8888888888888888,
             "#fdca26"
            ],
            [
             1,
             "#f0f921"
            ]
           ],
           "sequentialminus": [
            [
             0,
             "#0d0887"
            ],
            [
             0.1111111111111111,
             "#46039f"
            ],
            [
             0.2222222222222222,
             "#7201a8"
            ],
            [
             0.3333333333333333,
             "#9c179e"
            ],
            [
             0.4444444444444444,
             "#bd3786"
            ],
            [
             0.5555555555555556,
             "#d8576b"
            ],
            [
             0.6666666666666666,
             "#ed7953"
            ],
            [
             0.7777777777777778,
             "#fb9f3a"
            ],
            [
             0.8888888888888888,
             "#fdca26"
            ],
            [
             1,
             "#f0f921"
            ]
           ]
          },
          "colorway": [
           "#636efa",
           "#EF553B",
           "#00cc96",
           "#ab63fa",
           "#FFA15A",
           "#19d3f3",
           "#FF6692",
           "#B6E880",
           "#FF97FF",
           "#FECB52"
          ],
          "font": {
           "color": "#2a3f5f"
          },
          "geo": {
           "bgcolor": "white",
           "lakecolor": "white",
           "landcolor": "#E5ECF6",
           "showlakes": true,
           "showland": true,
           "subunitcolor": "white"
          },
          "hoverlabel": {
           "align": "left"
          },
          "hovermode": "closest",
          "mapbox": {
           "style": "light"
          },
          "paper_bgcolor": "white",
          "plot_bgcolor": "#E5ECF6",
          "polar": {
           "angularaxis": {
            "gridcolor": "white",
            "linecolor": "white",
            "ticks": ""
           },
           "bgcolor": "#E5ECF6",
           "radialaxis": {
            "gridcolor": "white",
            "linecolor": "white",
            "ticks": ""
           }
          },
          "scene": {
           "xaxis": {
            "backgroundcolor": "#E5ECF6",
            "gridcolor": "white",
            "gridwidth": 2,
            "linecolor": "white",
            "showbackground": true,
            "ticks": "",
            "zerolinecolor": "white"
           },
           "yaxis": {
            "backgroundcolor": "#E5ECF6",
            "gridcolor": "white",
            "gridwidth": 2,
            "linecolor": "white",
            "showbackground": true,
            "ticks": "",
            "zerolinecolor": "white"
           },
           "zaxis": {
            "backgroundcolor": "#E5ECF6",
            "gridcolor": "white",
            "gridwidth": 2,
            "linecolor": "white",
            "showbackground": true,
            "ticks": "",
            "zerolinecolor": "white"
           }
          },
          "shapedefaults": {
           "line": {
            "color": "#2a3f5f"
           }
          },
          "ternary": {
           "aaxis": {
            "gridcolor": "white",
            "linecolor": "white",
            "ticks": ""
           },
           "baxis": {
            "gridcolor": "white",
            "linecolor": "white",
            "ticks": ""
           },
           "bgcolor": "#E5ECF6",
           "caxis": {
            "gridcolor": "white",
            "linecolor": "white",
            "ticks": ""
           }
          },
          "title": {
           "x": 0.05
          },
          "xaxis": {
           "automargin": true,
           "gridcolor": "white",
           "linecolor": "white",
           "ticks": "",
           "title": {
            "standoff": 15
           },
           "zerolinecolor": "white",
           "zerolinewidth": 2
          },
          "yaxis": {
           "automargin": true,
           "gridcolor": "white",
           "linecolor": "white",
           "ticks": "",
           "title": {
            "standoff": 15
           },
           "zerolinecolor": "white",
           "zerolinewidth": 2
          }
         }
        },
        "title": {
         "text": ""
        }
       }
      }
     },
     "metadata": {},
     "output_type": "display_data"
    }
   ],
   "source": [
    "fig = mg.pibPorSectorProporcion(pibPorSector).update_layout(margin=dict(t=0, b=0),title='', autosize=True, legend=dict(xanchor='center', yanchor='bottom', x=.5, y=-.1, orientation=\"h\"), plot_bgcolor='rgba(0,0,0,0)', paper_bgcolor='rgba(0, 0, 0, 0)').update_legends(font=dict(color='white', size=12)).update_traces(textfont=dict(color='white'))\n",
    "\n",
    "config = {\n",
    "    'responsive':True,\n",
    "    'scrollZoom':False,\n",
    "    'staticPlot':False,\n",
    "    'displayModeBar':False\n",
    "}\n",
    "\n",
    "nums = {\n",
    "    '0': '₀',\n",
    "    '1': '₁',\n",
    "    '2':'₂',\n",
    "    '3':'₃',\n",
    "    '4':'₄',\n",
    "    '5':'₅',\n",
    "    '6':'₆',\n",
    "    '7':'₇',\n",
    "    '8':'₈',\n",
    "    '9':'₉'\n",
    "}\n",
    "\n",
    "funcNum = lambda x: ''.join([nums[i] for i in str(x)])\n",
    "Numero = lambda x: 'X' + funcNum(x)\n",
    "\n",
    "fig"
   ]
  },
  {
   "cell_type": "markdown",
   "metadata": {},
   "source": [
    "## Rendimientos Esperados Anuales de cada Sector\n",
    "En el análisis de rendimientos (boxplot), el sector terciario no solo presenta el mayor rendimiento esperado, sino que también muestra una mayor consistencia en sus rendimientos, con una menor dispersión en los datos en comparación con los otros sectores. Esto sugiere que, además de contribuir de manera significativa a la economía, las actividades terciarias ofrecen una rentabilidad más estable y confiable."
   ]
  },
  {
   "cell_type": "code",
   "execution_count": 4,
   "metadata": {},
   "outputs": [
    {
     "data": {
      "application/vnd.plotly.v1+json": {
       "config": {
        "plotlyServerURL": "https://plot.ly"
       },
       "data": [
        {
         "boxpoints": false,
         "fillcolor": "lightblue",
         "hoverinfo": "none",
         "line": {
          "color": "blue"
         },
         "name": "PIB_primarias",
         "type": "box",
         "y": [
          -0.05980414241650628,
          0.01870193732269992,
          0.09720801706190613
         ]
        },
        {
         "boxpoints": false,
         "fillcolor": "lightblue",
         "hoverinfo": "none",
         "line": {
          "color": "blue"
         },
         "name": "PIB_secundarias",
         "type": "box",
         "y": [
          -0.04254454983276122,
          0.017600643638606393,
          0.07774583710997401
         ]
        },
        {
         "boxpoints": false,
         "fillcolor": "lightblue",
         "hoverinfo": "none",
         "line": {
          "color": "blue"
         },
         "name": "PIB_terciarias",
         "type": "box",
         "y": [
          -0.01622157001580413,
          0.024508997487958557,
          0.06523956499172125
         ]
        }
       ],
       "layout": {
        "annotations": [
         {
          "showarrow": false,
          "text": "Rendimiento: 1.87%",
          "x": "PIB_primarias",
          "y": 0.01870193732269992,
          "yshift": 15
         },
         {
          "showarrow": false,
          "text": "IC Inferior: -5.98%",
          "x": "PIB_primarias",
          "y": -0.05980414241650628,
          "yshift": -15
         },
         {
          "showarrow": false,
          "text": "IC Superior: 9.72%",
          "x": "PIB_primarias",
          "y": 0.09720801706190613,
          "yshift": 30
         },
         {
          "showarrow": false,
          "text": "Rendimiento: 1.76%",
          "x": "PIB_secundarias",
          "y": 0.017600643638606393,
          "yshift": 15
         },
         {
          "showarrow": false,
          "text": "IC Inferior: -4.25%",
          "x": "PIB_secundarias",
          "y": -0.04254454983276122,
          "yshift": -15
         },
         {
          "showarrow": false,
          "text": "IC Superior: 7.77%",
          "x": "PIB_secundarias",
          "y": 0.07774583710997401,
          "yshift": 30
         },
         {
          "showarrow": false,
          "text": "Rendimiento: 2.45%",
          "x": "PIB_terciarias",
          "y": 0.024508997487958557,
          "yshift": 15
         },
         {
          "showarrow": false,
          "text": "IC Inferior: -1.62%",
          "x": "PIB_terciarias",
          "y": -0.01622157001580413,
          "yshift": -15
         },
         {
          "showarrow": false,
          "text": "IC Superior: 6.52%",
          "x": "PIB_terciarias",
          "y": 0.06523956499172125,
          "yshift": 30
         }
        ],
        "height": 600,
        "showlegend": false,
        "template": {
         "data": {
          "bar": [
           {
            "error_x": {
             "color": "#2a3f5f"
            },
            "error_y": {
             "color": "#2a3f5f"
            },
            "marker": {
             "line": {
              "color": "#E5ECF6",
              "width": 0.5
             },
             "pattern": {
              "fillmode": "overlay",
              "size": 10,
              "solidity": 0.2
             }
            },
            "type": "bar"
           }
          ],
          "barpolar": [
           {
            "marker": {
             "line": {
              "color": "#E5ECF6",
              "width": 0.5
             },
             "pattern": {
              "fillmode": "overlay",
              "size": 10,
              "solidity": 0.2
             }
            },
            "type": "barpolar"
           }
          ],
          "carpet": [
           {
            "aaxis": {
             "endlinecolor": "#2a3f5f",
             "gridcolor": "white",
             "linecolor": "white",
             "minorgridcolor": "white",
             "startlinecolor": "#2a3f5f"
            },
            "baxis": {
             "endlinecolor": "#2a3f5f",
             "gridcolor": "white",
             "linecolor": "white",
             "minorgridcolor": "white",
             "startlinecolor": "#2a3f5f"
            },
            "type": "carpet"
           }
          ],
          "choropleth": [
           {
            "colorbar": {
             "outlinewidth": 0,
             "ticks": ""
            },
            "type": "choropleth"
           }
          ],
          "contour": [
           {
            "colorbar": {
             "outlinewidth": 0,
             "ticks": ""
            },
            "colorscale": [
             [
              0,
              "#0d0887"
             ],
             [
              0.1111111111111111,
              "#46039f"
             ],
             [
              0.2222222222222222,
              "#7201a8"
             ],
             [
              0.3333333333333333,
              "#9c179e"
             ],
             [
              0.4444444444444444,
              "#bd3786"
             ],
             [
              0.5555555555555556,
              "#d8576b"
             ],
             [
              0.6666666666666666,
              "#ed7953"
             ],
             [
              0.7777777777777778,
              "#fb9f3a"
             ],
             [
              0.8888888888888888,
              "#fdca26"
             ],
             [
              1,
              "#f0f921"
             ]
            ],
            "type": "contour"
           }
          ],
          "contourcarpet": [
           {
            "colorbar": {
             "outlinewidth": 0,
             "ticks": ""
            },
            "type": "contourcarpet"
           }
          ],
          "heatmap": [
           {
            "colorbar": {
             "outlinewidth": 0,
             "ticks": ""
            },
            "colorscale": [
             [
              0,
              "#0d0887"
             ],
             [
              0.1111111111111111,
              "#46039f"
             ],
             [
              0.2222222222222222,
              "#7201a8"
             ],
             [
              0.3333333333333333,
              "#9c179e"
             ],
             [
              0.4444444444444444,
              "#bd3786"
             ],
             [
              0.5555555555555556,
              "#d8576b"
             ],
             [
              0.6666666666666666,
              "#ed7953"
             ],
             [
              0.7777777777777778,
              "#fb9f3a"
             ],
             [
              0.8888888888888888,
              "#fdca26"
             ],
             [
              1,
              "#f0f921"
             ]
            ],
            "type": "heatmap"
           }
          ],
          "heatmapgl": [
           {
            "colorbar": {
             "outlinewidth": 0,
             "ticks": ""
            },
            "colorscale": [
             [
              0,
              "#0d0887"
             ],
             [
              0.1111111111111111,
              "#46039f"
             ],
             [
              0.2222222222222222,
              "#7201a8"
             ],
             [
              0.3333333333333333,
              "#9c179e"
             ],
             [
              0.4444444444444444,
              "#bd3786"
             ],
             [
              0.5555555555555556,
              "#d8576b"
             ],
             [
              0.6666666666666666,
              "#ed7953"
             ],
             [
              0.7777777777777778,
              "#fb9f3a"
             ],
             [
              0.8888888888888888,
              "#fdca26"
             ],
             [
              1,
              "#f0f921"
             ]
            ],
            "type": "heatmapgl"
           }
          ],
          "histogram": [
           {
            "marker": {
             "pattern": {
              "fillmode": "overlay",
              "size": 10,
              "solidity": 0.2
             }
            },
            "type": "histogram"
           }
          ],
          "histogram2d": [
           {
            "colorbar": {
             "outlinewidth": 0,
             "ticks": ""
            },
            "colorscale": [
             [
              0,
              "#0d0887"
             ],
             [
              0.1111111111111111,
              "#46039f"
             ],
             [
              0.2222222222222222,
              "#7201a8"
             ],
             [
              0.3333333333333333,
              "#9c179e"
             ],
             [
              0.4444444444444444,
              "#bd3786"
             ],
             [
              0.5555555555555556,
              "#d8576b"
             ],
             [
              0.6666666666666666,
              "#ed7953"
             ],
             [
              0.7777777777777778,
              "#fb9f3a"
             ],
             [
              0.8888888888888888,
              "#fdca26"
             ],
             [
              1,
              "#f0f921"
             ]
            ],
            "type": "histogram2d"
           }
          ],
          "histogram2dcontour": [
           {
            "colorbar": {
             "outlinewidth": 0,
             "ticks": ""
            },
            "colorscale": [
             [
              0,
              "#0d0887"
             ],
             [
              0.1111111111111111,
              "#46039f"
             ],
             [
              0.2222222222222222,
              "#7201a8"
             ],
             [
              0.3333333333333333,
              "#9c179e"
             ],
             [
              0.4444444444444444,
              "#bd3786"
             ],
             [
              0.5555555555555556,
              "#d8576b"
             ],
             [
              0.6666666666666666,
              "#ed7953"
             ],
             [
              0.7777777777777778,
              "#fb9f3a"
             ],
             [
              0.8888888888888888,
              "#fdca26"
             ],
             [
              1,
              "#f0f921"
             ]
            ],
            "type": "histogram2dcontour"
           }
          ],
          "mesh3d": [
           {
            "colorbar": {
             "outlinewidth": 0,
             "ticks": ""
            },
            "type": "mesh3d"
           }
          ],
          "parcoords": [
           {
            "line": {
             "colorbar": {
              "outlinewidth": 0,
              "ticks": ""
             }
            },
            "type": "parcoords"
           }
          ],
          "pie": [
           {
            "automargin": true,
            "type": "pie"
           }
          ],
          "scatter": [
           {
            "fillpattern": {
             "fillmode": "overlay",
             "size": 10,
             "solidity": 0.2
            },
            "type": "scatter"
           }
          ],
          "scatter3d": [
           {
            "line": {
             "colorbar": {
              "outlinewidth": 0,
              "ticks": ""
             }
            },
            "marker": {
             "colorbar": {
              "outlinewidth": 0,
              "ticks": ""
             }
            },
            "type": "scatter3d"
           }
          ],
          "scattercarpet": [
           {
            "marker": {
             "colorbar": {
              "outlinewidth": 0,
              "ticks": ""
             }
            },
            "type": "scattercarpet"
           }
          ],
          "scattergeo": [
           {
            "marker": {
             "colorbar": {
              "outlinewidth": 0,
              "ticks": ""
             }
            },
            "type": "scattergeo"
           }
          ],
          "scattergl": [
           {
            "marker": {
             "colorbar": {
              "outlinewidth": 0,
              "ticks": ""
             }
            },
            "type": "scattergl"
           }
          ],
          "scattermapbox": [
           {
            "marker": {
             "colorbar": {
              "outlinewidth": 0,
              "ticks": ""
             }
            },
            "type": "scattermapbox"
           }
          ],
          "scatterpolar": [
           {
            "marker": {
             "colorbar": {
              "outlinewidth": 0,
              "ticks": ""
             }
            },
            "type": "scatterpolar"
           }
          ],
          "scatterpolargl": [
           {
            "marker": {
             "colorbar": {
              "outlinewidth": 0,
              "ticks": ""
             }
            },
            "type": "scatterpolargl"
           }
          ],
          "scatterternary": [
           {
            "marker": {
             "colorbar": {
              "outlinewidth": 0,
              "ticks": ""
             }
            },
            "type": "scatterternary"
           }
          ],
          "surface": [
           {
            "colorbar": {
             "outlinewidth": 0,
             "ticks": ""
            },
            "colorscale": [
             [
              0,
              "#0d0887"
             ],
             [
              0.1111111111111111,
              "#46039f"
             ],
             [
              0.2222222222222222,
              "#7201a8"
             ],
             [
              0.3333333333333333,
              "#9c179e"
             ],
             [
              0.4444444444444444,
              "#bd3786"
             ],
             [
              0.5555555555555556,
              "#d8576b"
             ],
             [
              0.6666666666666666,
              "#ed7953"
             ],
             [
              0.7777777777777778,
              "#fb9f3a"
             ],
             [
              0.8888888888888888,
              "#fdca26"
             ],
             [
              1,
              "#f0f921"
             ]
            ],
            "type": "surface"
           }
          ],
          "table": [
           {
            "cells": {
             "fill": {
              "color": "#EBF0F8"
             },
             "line": {
              "color": "white"
             }
            },
            "header": {
             "fill": {
              "color": "#C8D4E3"
             },
             "line": {
              "color": "white"
             }
            },
            "type": "table"
           }
          ]
         },
         "layout": {
          "annotationdefaults": {
           "arrowcolor": "#2a3f5f",
           "arrowhead": 0,
           "arrowwidth": 1
          },
          "autotypenumbers": "strict",
          "coloraxis": {
           "colorbar": {
            "outlinewidth": 0,
            "ticks": ""
           }
          },
          "colorscale": {
           "diverging": [
            [
             0,
             "#8e0152"
            ],
            [
             0.1,
             "#c51b7d"
            ],
            [
             0.2,
             "#de77ae"
            ],
            [
             0.3,
             "#f1b6da"
            ],
            [
             0.4,
             "#fde0ef"
            ],
            [
             0.5,
             "#f7f7f7"
            ],
            [
             0.6,
             "#e6f5d0"
            ],
            [
             0.7,
             "#b8e186"
            ],
            [
             0.8,
             "#7fbc41"
            ],
            [
             0.9,
             "#4d9221"
            ],
            [
             1,
             "#276419"
            ]
           ],
           "sequential": [
            [
             0,
             "#0d0887"
            ],
            [
             0.1111111111111111,
             "#46039f"
            ],
            [
             0.2222222222222222,
             "#7201a8"
            ],
            [
             0.3333333333333333,
             "#9c179e"
            ],
            [
             0.4444444444444444,
             "#bd3786"
            ],
            [
             0.5555555555555556,
             "#d8576b"
            ],
            [
             0.6666666666666666,
             "#ed7953"
            ],
            [
             0.7777777777777778,
             "#fb9f3a"
            ],
            [
             0.8888888888888888,
             "#fdca26"
            ],
            [
             1,
             "#f0f921"
            ]
           ],
           "sequentialminus": [
            [
             0,
             "#0d0887"
            ],
            [
             0.1111111111111111,
             "#46039f"
            ],
            [
             0.2222222222222222,
             "#7201a8"
            ],
            [
             0.3333333333333333,
             "#9c179e"
            ],
            [
             0.4444444444444444,
             "#bd3786"
            ],
            [
             0.5555555555555556,
             "#d8576b"
            ],
            [
             0.6666666666666666,
             "#ed7953"
            ],
            [
             0.7777777777777778,
             "#fb9f3a"
            ],
            [
             0.8888888888888888,
             "#fdca26"
            ],
            [
             1,
             "#f0f921"
            ]
           ]
          },
          "colorway": [
           "#636efa",
           "#EF553B",
           "#00cc96",
           "#ab63fa",
           "#FFA15A",
           "#19d3f3",
           "#FF6692",
           "#B6E880",
           "#FF97FF",
           "#FECB52"
          ],
          "font": {
           "color": "#2a3f5f"
          },
          "geo": {
           "bgcolor": "white",
           "lakecolor": "white",
           "landcolor": "#E5ECF6",
           "showlakes": true,
           "showland": true,
           "subunitcolor": "white"
          },
          "hoverlabel": {
           "align": "left"
          },
          "hovermode": "closest",
          "mapbox": {
           "style": "light"
          },
          "paper_bgcolor": "white",
          "plot_bgcolor": "#E5ECF6",
          "polar": {
           "angularaxis": {
            "gridcolor": "white",
            "linecolor": "white",
            "ticks": ""
           },
           "bgcolor": "#E5ECF6",
           "radialaxis": {
            "gridcolor": "white",
            "linecolor": "white",
            "ticks": ""
           }
          },
          "scene": {
           "xaxis": {
            "backgroundcolor": "#E5ECF6",
            "gridcolor": "white",
            "gridwidth": 2,
            "linecolor": "white",
            "showbackground": true,
            "ticks": "",
            "zerolinecolor": "white"
           },
           "yaxis": {
            "backgroundcolor": "#E5ECF6",
            "gridcolor": "white",
            "gridwidth": 2,
            "linecolor": "white",
            "showbackground": true,
            "ticks": "",
            "zerolinecolor": "white"
           },
           "zaxis": {
            "backgroundcolor": "#E5ECF6",
            "gridcolor": "white",
            "gridwidth": 2,
            "linecolor": "white",
            "showbackground": true,
            "ticks": "",
            "zerolinecolor": "white"
           }
          },
          "shapedefaults": {
           "line": {
            "color": "#2a3f5f"
           }
          },
          "ternary": {
           "aaxis": {
            "gridcolor": "white",
            "linecolor": "white",
            "ticks": ""
           },
           "baxis": {
            "gridcolor": "white",
            "linecolor": "white",
            "ticks": ""
           },
           "bgcolor": "#E5ECF6",
           "caxis": {
            "gridcolor": "white",
            "linecolor": "white",
            "ticks": ""
           }
          },
          "title": {
           "x": 0.05
          },
          "xaxis": {
           "automargin": true,
           "gridcolor": "white",
           "linecolor": "white",
           "ticks": "",
           "title": {
            "standoff": 15
           },
           "zerolinecolor": "white",
           "zerolinewidth": 2
          },
          "yaxis": {
           "automargin": true,
           "gridcolor": "white",
           "linecolor": "white",
           "ticks": "",
           "title": {
            "standoff": 15
           },
           "zerolinecolor": "white",
           "zerolinewidth": 2
          }
         }
        },
        "title": {
         "text": "Rendimiento Esperado e Intervalos de Confianza de Cada Sector",
         "x": 0.5
        },
        "xaxis": {
         "title": {
          "text": "Sector"
         }
        },
        "yaxis": {
         "title": {
          "text": "Rendimiento Anualizado (%)"
         }
        }
       }
      }
     },
     "metadata": {},
     "output_type": "display_data"
    }
   ],
   "source": [
    "mg.boxPlot(pibPorSector).update_layout(height=600)"
   ]
  },
  {
   "cell_type": "markdown",
   "metadata": {},
   "source": [
    "# Matriz de Correlación\n",
    "\n",
    "Podemos observar por la matriz de correlación, que existe una relación directa positiva muy fuerte de las variables independientes **\"Comercio al por Mayor\"**, **\"Servicios Financieros y de Seguros\"** y **\"Transporte y Almacenamiento\"** con el **PIB Nacional**, superando el 90% de correlación.\n",
    "\n",
    "Esto es un claro indicador de que estas variables probablemente vayan a estar en el modelo final para estimar el PIB nacional."
   ]
  },
  {
   "cell_type": "code",
   "execution_count": 5,
   "metadata": {},
   "outputs": [],
   "source": [
    "dfAdoc = pibPorActividad.iloc[:,1:]\n",
    "dfAdoc.columns = ['Y'] + [Numero(i+1) for i in range(len(dfAdoc.columns) - 1)]"
   ]
  },
  {
   "cell_type": "code",
   "execution_count": 7,
   "metadata": {},
   "outputs": [
    {
     "data": {
      "application/vnd.plotly.v1+json": {
       "config": {
        "displayModeBar": false,
        "plotlyServerURL": "https://plot.ly",
        "responsive": true,
        "scrollZoom": false,
        "staticPlot": false
       },
       "data": [
        {
         "coloraxis": "coloraxis",
         "histfunc": "sum",
         "hovertemplate": "(%{x}, %{y}) = %{z:.2f}%",
         "name": "",
         "texttemplate": "%{z:,.0f}",
         "type": "histogram2d",
         "x": [
          "Y",
          "Y",
          "Y",
          "Y",
          "Y",
          "Y",
          "Y",
          "Y",
          "Y",
          "Y",
          "Y",
          "Y",
          "Y",
          "Y",
          "Y",
          "Y",
          "X₁",
          "X₁",
          "X₁",
          "X₁",
          "X₁",
          "X₁",
          "X₁",
          "X₁",
          "X₁",
          "X₁",
          "X₁",
          "X₁",
          "X₁",
          "X₁",
          "X₁",
          "X₁",
          "X₂",
          "X₂",
          "X₂",
          "X₂",
          "X₂",
          "X₂",
          "X₂",
          "X₂",
          "X₂",
          "X₂",
          "X₂",
          "X₂",
          "X₂",
          "X₂",
          "X₂",
          "X₂",
          "X₃",
          "X₃",
          "X₃",
          "X₃",
          "X₃",
          "X₃",
          "X₃",
          "X₃",
          "X₃",
          "X₃",
          "X₃",
          "X₃",
          "X₃",
          "X₃",
          "X₃",
          "X₃",
          "X₄",
          "X₄",
          "X₄",
          "X₄",
          "X₄",
          "X₄",
          "X₄",
          "X₄",
          "X₄",
          "X₄",
          "X₄",
          "X₄",
          "X₄",
          "X₄",
          "X₄",
          "X₄",
          "X₅",
          "X₅",
          "X₅",
          "X₅",
          "X₅",
          "X₅",
          "X₅",
          "X₅",
          "X₅",
          "X₅",
          "X₅",
          "X₅",
          "X₅",
          "X₅",
          "X₅",
          "X₅",
          "X₆",
          "X₆",
          "X₆",
          "X₆",
          "X₆",
          "X₆",
          "X₆",
          "X₆",
          "X₆",
          "X₆",
          "X₆",
          "X₆",
          "X₆",
          "X₆",
          "X₆",
          "X₆",
          "X₇",
          "X₇",
          "X₇",
          "X₇",
          "X₇",
          "X₇",
          "X₇",
          "X₇",
          "X₇",
          "X₇",
          "X₇",
          "X₇",
          "X₇",
          "X₇",
          "X₇",
          "X₇",
          "X₈",
          "X₈",
          "X₈",
          "X₈",
          "X₈",
          "X₈",
          "X₈",
          "X₈",
          "X₈",
          "X₈",
          "X₈",
          "X₈",
          "X₈",
          "X₈",
          "X₈",
          "X₈",
          "X₉",
          "X₉",
          "X₉",
          "X₉",
          "X₉",
          "X₉",
          "X₉",
          "X₉",
          "X₉",
          "X₉",
          "X₉",
          "X₉",
          "X₉",
          "X₉",
          "X₉",
          "X₉",
          "X₁₀",
          "X₁₀",
          "X₁₀",
          "X₁₀",
          "X₁₀",
          "X₁₀",
          "X₁₀",
          "X₁₀",
          "X₁₀",
          "X₁₀",
          "X₁₀",
          "X₁₀",
          "X₁₀",
          "X₁₀",
          "X₁₀",
          "X₁₀",
          "X₁₁",
          "X₁₁",
          "X₁₁",
          "X₁₁",
          "X₁₁",
          "X₁₁",
          "X₁₁",
          "X₁₁",
          "X₁₁",
          "X₁₁",
          "X₁₁",
          "X₁₁",
          "X₁₁",
          "X₁₁",
          "X₁₁",
          "X₁₁",
          "X₁₂",
          "X₁₂",
          "X₁₂",
          "X₁₂",
          "X₁₂",
          "X₁₂",
          "X₁₂",
          "X₁₂",
          "X₁₂",
          "X₁₂",
          "X₁₂",
          "X₁₂",
          "X₁₂",
          "X₁₂",
          "X₁₂",
          "X₁₂",
          "X₁₃",
          "X₁₃",
          "X₁₃",
          "X₁₃",
          "X₁₃",
          "X₁₃",
          "X₁₃",
          "X₁₃",
          "X₁₃",
          "X₁₃",
          "X₁₃",
          "X₁₃",
          "X₁₃",
          "X₁₃",
          "X₁₃",
          "X₁₃",
          "X₁₄",
          "X₁₄",
          "X₁₄",
          "X₁₄",
          "X₁₄",
          "X₁₄",
          "X₁₄",
          "X₁₄",
          "X₁₄",
          "X₁₄",
          "X₁₄",
          "X₁₄",
          "X₁₄",
          "X₁₄",
          "X₁₄",
          "X₁₄",
          "X₁₅",
          "X₁₅",
          "X₁₅",
          "X₁₅",
          "X₁₅",
          "X₁₅",
          "X₁₅",
          "X₁₅",
          "X₁₅",
          "X₁₅",
          "X₁₅",
          "X₁₅",
          "X₁₅",
          "X₁₅",
          "X₁₅",
          "X₁₅"
         ],
         "xaxis": "x",
         "xbingroup": "x",
         "y": [
          "X₁₅",
          "X₁₄",
          "X₁₃",
          "X₁₂",
          "X₁₁",
          "X₁₀",
          "X₉",
          "X₈",
          "X₇",
          "X₆",
          "X₅",
          "X₄",
          "X₃",
          "X₂",
          "X₁",
          "Y",
          "X₁₅",
          "X₁₄",
          "X₁₃",
          "X₁₂",
          "X₁₁",
          "X₁₀",
          "X₉",
          "X₈",
          "X₇",
          "X₆",
          "X₅",
          "X₄",
          "X₃",
          "X₂",
          "X₁",
          "Y",
          "X₁₅",
          "X₁₄",
          "X₁₃",
          "X₁₂",
          "X₁₁",
          "X₁₀",
          "X₉",
          "X₈",
          "X₇",
          "X₆",
          "X₅",
          "X₄",
          "X₃",
          "X₂",
          "X₁",
          "Y",
          "X₁₅",
          "X₁₄",
          "X₁₃",
          "X₁₂",
          "X₁₁",
          "X₁₀",
          "X₉",
          "X₈",
          "X₇",
          "X₆",
          "X₅",
          "X₄",
          "X₃",
          "X₂",
          "X₁",
          "Y",
          "X₁₅",
          "X₁₄",
          "X₁₃",
          "X₁₂",
          "X₁₁",
          "X₁₀",
          "X₉",
          "X₈",
          "X₇",
          "X₆",
          "X₅",
          "X₄",
          "X₃",
          "X₂",
          "X₁",
          "Y",
          "X₁₅",
          "X₁₄",
          "X₁₃",
          "X₁₂",
          "X₁₁",
          "X₁₀",
          "X₉",
          "X₈",
          "X₇",
          "X₆",
          "X₅",
          "X₄",
          "X₃",
          "X₂",
          "X₁",
          "Y",
          "X₁₅",
          "X₁₄",
          "X₁₃",
          "X₁₂",
          "X₁₁",
          "X₁₀",
          "X₉",
          "X₈",
          "X₇",
          "X₆",
          "X₅",
          "X₄",
          "X₃",
          "X₂",
          "X₁",
          "Y",
          "X₁₅",
          "X₁₄",
          "X₁₃",
          "X₁₂",
          "X₁₁",
          "X₁₀",
          "X₉",
          "X₈",
          "X₇",
          "X₆",
          "X₅",
          "X₄",
          "X₃",
          "X₂",
          "X₁",
          "Y",
          "X₁₅",
          "X₁₄",
          "X₁₃",
          "X₁₂",
          "X₁₁",
          "X₁₀",
          "X₉",
          "X₈",
          "X₇",
          "X₆",
          "X₅",
          "X₄",
          "X₃",
          "X₂",
          "X₁",
          "Y",
          "X₁₅",
          "X₁₄",
          "X₁₃",
          "X₁₂",
          "X₁₁",
          "X₁₀",
          "X₉",
          "X₈",
          "X₇",
          "X₆",
          "X₅",
          "X₄",
          "X₃",
          "X₂",
          "X₁",
          "Y",
          "X₁₅",
          "X₁₄",
          "X₁₃",
          "X₁₂",
          "X₁₁",
          "X₁₀",
          "X₉",
          "X₈",
          "X₇",
          "X₆",
          "X₅",
          "X₄",
          "X₃",
          "X₂",
          "X₁",
          "Y",
          "X₁₅",
          "X₁₄",
          "X₁₃",
          "X₁₂",
          "X₁₁",
          "X₁₀",
          "X₉",
          "X₈",
          "X₇",
          "X₆",
          "X₅",
          "X₄",
          "X₃",
          "X₂",
          "X₁",
          "Y",
          "X₁₅",
          "X₁₄",
          "X₁₃",
          "X₁₂",
          "X₁₁",
          "X₁₀",
          "X₉",
          "X₈",
          "X₇",
          "X₆",
          "X₅",
          "X₄",
          "X₃",
          "X₂",
          "X₁",
          "Y",
          "X₁₅",
          "X₁₄",
          "X₁₃",
          "X₁₂",
          "X₁₁",
          "X₁₀",
          "X₉",
          "X₈",
          "X₇",
          "X₆",
          "X₅",
          "X₄",
          "X₃",
          "X₂",
          "X₁",
          "Y",
          "X₁₅",
          "X₁₄",
          "X₁₃",
          "X₁₂",
          "X₁₁",
          "X₁₀",
          "X₉",
          "X₈",
          "X₇",
          "X₆",
          "X₅",
          "X₄",
          "X₃",
          "X₂",
          "X₁",
          "Y",
          "X₁₅",
          "X₁₄",
          "X₁₃",
          "X₁₂",
          "X₁₁",
          "X₁₀",
          "X₉",
          "X₈",
          "X₇",
          "X₆",
          "X₅",
          "X₄",
          "X₃",
          "X₂",
          "X₁",
          "Y"
         ],
         "yaxis": "y",
         "ybingroup": "y",
         "z": [
          53.682101309089504,
          73.0994494101496,
          67.88357824606705,
          73.40334026030324,
          94.61676414736402,
          92.1821935578768,
          97.68162243493099,
          -75.12529013911843,
          63.48918019306956,
          82.83385759704375,
          83.55114254379423,
          24.567683645789447,
          51.072261806417295,
          -75.92606675371636,
          59.060196694064146,
          100,
          23.886477068179698,
          26.243929272174167,
          72.61931796369801,
          25.497154098350137,
          45.52612694524795,
          51.160159108169545,
          55.066128201879025,
          -59.02272331468005,
          14.217284628384375,
          41.60211474809763,
          59.92799915726965,
          2.6846967835864084,
          0.055497985394567226,
          -49.03394633290062,
          100,
          59.060196694064146,
          -15.366117351652347,
          -33.90560232281826,
          -50.77539794182017,
          -79.23585744497746,
          -64.09118059597667,
          -89.10256715509743,
          -79.26140367212174,
          94.71020291561358,
          -31.411091049087748,
          -84.61150939216311,
          -89.6384067705531,
          31.172345273532482,
          -31.028425388133428,
          100,
          -49.03394633290062,
          -75.92606675371636,
          38.47250492128977,
          34.00212587344759,
          8.72185164556352,
          25.245191194909143,
          43.97568666600683,
          49.88677157255352,
          47.41973313778495,
          -24.756393691458825,
          41.30250048771827,
          39.09795778522185,
          17.856573478208343,
          36.74581550470565,
          100,
          -31.028425388133428,
          0.055497985394567226,
          51.072261806417295,
          60.523122024843936,
          53.55639025941772,
          9.480936647876925,
          -21.613929442171624,
          34.77030101288062,
          -2.574802838073776,
          12.287514189951775,
          31.850669780730072,
          28.964868409747872,
          -7.64475603998853,
          -23.800526281985597,
          100,
          36.74581550470565,
          31.172345273532482,
          2.6846967835864084,
          24.567683645789447,
          15.007628642758993,
          46.26651324201057,
          71.37706088532136,
          80.66759646853741,
          73.92482053732843,
          91.75094245387196,
          85.21062569244947,
          -92.55232081388523,
          43.612584180956915,
          75.8191633303938,
          100,
          -23.800526281985597,
          17.856573478208343,
          -89.6384067705531,
          59.92799915726965,
          83.55114254379423,
          45.40903713629932,
          53.407710310385106,
          38.41830291586262,
          81.28827557670468,
          78.48752899667059,
          80.4193915646713,
          87.62724578789498,
          -74.92978589383206,
          49.61500791256025,
          100,
          75.8191633303938,
          -7.64475603998853,
          39.09795778522185,
          -84.61150939216311,
          41.60211474809763,
          82.83385759704375,
          34.77743674282412,
          57.1911897475592,
          32.732081577564806,
          47.99609666239418,
          67.73591749556765,
          48.33372721210507,
          65.63420611809724,
          -29.78227234812083,
          100,
          49.61500791256025,
          43.612584180956915,
          28.964868409747872,
          41.30250048771827,
          -31.411091049087748,
          14.217284628384375,
          63.48918019306956,
          -10.848082152900382,
          -29.120660878073178,
          -60.663043094715285,
          -75.94671138883736,
          -60.0012496679848,
          -89.24109277074666,
          -77.17021343577554,
          100,
          -29.78227234812083,
          -74.92978589383206,
          -92.55232081388523,
          31.850669780730072,
          -24.756393691458825,
          94.71020291561358,
          -59.02272331468005,
          -75.12529013911843,
          49.94215328585139,
          66.47796182038815,
          62.022276810245124,
          79.32857507449468,
          91.70385585807992,
          91.94619416969635,
          100,
          -77.17021343577554,
          65.63420611809724,
          87.62724578789498,
          85.21062569244947,
          12.287514189951775,
          47.41973313778495,
          -79.26140367212174,
          55.066128201879025,
          97.68162243493099,
          31.96189558904222,
          54.85828491201441,
          62.76720239434142,
          79.11409379591042,
          81.65852204461885,
          100,
          91.94619416969635,
          -89.24109277074666,
          48.33372721210507,
          80.4193915646713,
          91.75094245387196,
          -2.574802838073776,
          49.88677157255352,
          -89.10256715509743,
          51.160159108169545,
          92.1821935578768,
          60.132059735830815,
          89.92112762145956,
          62.00187855719192,
          70.3693550477924,
          100,
          81.65852204461885,
          91.70385585807992,
          -60.0012496679848,
          67.73591749556765,
          78.48752899667059,
          73.92482053732843,
          34.77030101288062,
          43.97568666600683,
          -64.09118059597667,
          45.52612694524795,
          94.61676414736402,
          23.256409455393147,
          45.41227553231253,
          32.48468929842136,
          100,
          70.3693550477924,
          79.11409379591042,
          79.32857507449468,
          -75.94671138883736,
          47.99609666239418,
          81.28827557670468,
          80.66759646853741,
          -21.613929442171624,
          25.245191194909143,
          -79.23585744497746,
          25.497154098350137,
          73.40334026030324,
          19.23311134664657,
          48.92863896297629,
          100,
          32.48468929842136,
          62.00187855719192,
          62.76720239434142,
          62.022276810245124,
          -60.663043094715285,
          32.732081577564806,
          38.41830291586262,
          71.37706088532136,
          9.480936647876925,
          8.72185164556352,
          -50.77539794182017,
          72.61931796369801,
          67.88357824606705,
          63.612449067414026,
          100,
          48.92863896297629,
          45.41227553231253,
          89.92112762145956,
          54.85828491201441,
          66.47796182038815,
          -29.120660878073178,
          57.1911897475592,
          53.407710310385106,
          46.26651324201057,
          53.55639025941772,
          34.00212587344759,
          -33.90560232281826,
          26.243929272174167,
          73.0994494101496,
          100,
          63.612449067414026,
          19.23311134664657,
          23.256409455393147,
          60.132059735830815,
          31.96189558904222,
          49.94215328585139,
          -10.848082152900382,
          34.77743674282412,
          45.40903713629932,
          15.007628642758993,
          60.523122024843936,
          38.47250492128977,
          -15.366117351652347,
          23.886477068179698,
          53.682101309089504
         ]
        }
       ],
       "layout": {
        "autosize": true,
        "coloraxis": {
         "cmax": 100,
         "cmin": -100,
         "colorbar": {
          "title": {
           "text": "correlation"
          }
         },
         "colorscale": [
          [
           0,
           "blue"
          ],
          [
           0.5,
           "gray"
          ],
          [
           1,
           "red"
          ]
         ]
        },
        "legend": {
         "tracegroupgap": 0
        },
        "margin": {
         "b": 0,
         "l": 0,
         "r": 0,
         "t": 30
        },
        "paper_bgcolor": "rgba(0, 0, 0, 0)",
        "plot_bgcolor": "rgba(0,0,0,0)",
        "template": {
         "data": {
          "bar": [
           {
            "error_x": {
             "color": "#f2f5fa"
            },
            "error_y": {
             "color": "#f2f5fa"
            },
            "marker": {
             "line": {
              "color": "rgb(17,17,17)",
              "width": 0.5
             },
             "pattern": {
              "fillmode": "overlay",
              "size": 10,
              "solidity": 0.2
             }
            },
            "type": "bar"
           }
          ],
          "barpolar": [
           {
            "marker": {
             "line": {
              "color": "rgb(17,17,17)",
              "width": 0.5
             },
             "pattern": {
              "fillmode": "overlay",
              "size": 10,
              "solidity": 0.2
             }
            },
            "type": "barpolar"
           }
          ],
          "carpet": [
           {
            "aaxis": {
             "endlinecolor": "#A2B1C6",
             "gridcolor": "#506784",
             "linecolor": "#506784",
             "minorgridcolor": "#506784",
             "startlinecolor": "#A2B1C6"
            },
            "baxis": {
             "endlinecolor": "#A2B1C6",
             "gridcolor": "#506784",
             "linecolor": "#506784",
             "minorgridcolor": "#506784",
             "startlinecolor": "#A2B1C6"
            },
            "type": "carpet"
           }
          ],
          "choropleth": [
           {
            "colorbar": {
             "outlinewidth": 0,
             "ticks": ""
            },
            "type": "choropleth"
           }
          ],
          "contour": [
           {
            "colorbar": {
             "outlinewidth": 0,
             "ticks": ""
            },
            "colorscale": [
             [
              0,
              "#0d0887"
             ],
             [
              0.1111111111111111,
              "#46039f"
             ],
             [
              0.2222222222222222,
              "#7201a8"
             ],
             [
              0.3333333333333333,
              "#9c179e"
             ],
             [
              0.4444444444444444,
              "#bd3786"
             ],
             [
              0.5555555555555556,
              "#d8576b"
             ],
             [
              0.6666666666666666,
              "#ed7953"
             ],
             [
              0.7777777777777778,
              "#fb9f3a"
             ],
             [
              0.8888888888888888,
              "#fdca26"
             ],
             [
              1,
              "#f0f921"
             ]
            ],
            "type": "contour"
           }
          ],
          "contourcarpet": [
           {
            "colorbar": {
             "outlinewidth": 0,
             "ticks": ""
            },
            "type": "contourcarpet"
           }
          ],
          "heatmap": [
           {
            "colorbar": {
             "outlinewidth": 0,
             "ticks": ""
            },
            "colorscale": [
             [
              0,
              "#0d0887"
             ],
             [
              0.1111111111111111,
              "#46039f"
             ],
             [
              0.2222222222222222,
              "#7201a8"
             ],
             [
              0.3333333333333333,
              "#9c179e"
             ],
             [
              0.4444444444444444,
              "#bd3786"
             ],
             [
              0.5555555555555556,
              "#d8576b"
             ],
             [
              0.6666666666666666,
              "#ed7953"
             ],
             [
              0.7777777777777778,
              "#fb9f3a"
             ],
             [
              0.8888888888888888,
              "#fdca26"
             ],
             [
              1,
              "#f0f921"
             ]
            ],
            "type": "heatmap"
           }
          ],
          "heatmapgl": [
           {
            "colorbar": {
             "outlinewidth": 0,
             "ticks": ""
            },
            "colorscale": [
             [
              0,
              "#0d0887"
             ],
             [
              0.1111111111111111,
              "#46039f"
             ],
             [
              0.2222222222222222,
              "#7201a8"
             ],
             [
              0.3333333333333333,
              "#9c179e"
             ],
             [
              0.4444444444444444,
              "#bd3786"
             ],
             [
              0.5555555555555556,
              "#d8576b"
             ],
             [
              0.6666666666666666,
              "#ed7953"
             ],
             [
              0.7777777777777778,
              "#fb9f3a"
             ],
             [
              0.8888888888888888,
              "#fdca26"
             ],
             [
              1,
              "#f0f921"
             ]
            ],
            "type": "heatmapgl"
           }
          ],
          "histogram": [
           {
            "marker": {
             "pattern": {
              "fillmode": "overlay",
              "size": 10,
              "solidity": 0.2
             }
            },
            "type": "histogram"
           }
          ],
          "histogram2d": [
           {
            "colorbar": {
             "outlinewidth": 0,
             "ticks": ""
            },
            "colorscale": [
             [
              0,
              "#0d0887"
             ],
             [
              0.1111111111111111,
              "#46039f"
             ],
             [
              0.2222222222222222,
              "#7201a8"
             ],
             [
              0.3333333333333333,
              "#9c179e"
             ],
             [
              0.4444444444444444,
              "#bd3786"
             ],
             [
              0.5555555555555556,
              "#d8576b"
             ],
             [
              0.6666666666666666,
              "#ed7953"
             ],
             [
              0.7777777777777778,
              "#fb9f3a"
             ],
             [
              0.8888888888888888,
              "#fdca26"
             ],
             [
              1,
              "#f0f921"
             ]
            ],
            "type": "histogram2d"
           }
          ],
          "histogram2dcontour": [
           {
            "colorbar": {
             "outlinewidth": 0,
             "ticks": ""
            },
            "colorscale": [
             [
              0,
              "#0d0887"
             ],
             [
              0.1111111111111111,
              "#46039f"
             ],
             [
              0.2222222222222222,
              "#7201a8"
             ],
             [
              0.3333333333333333,
              "#9c179e"
             ],
             [
              0.4444444444444444,
              "#bd3786"
             ],
             [
              0.5555555555555556,
              "#d8576b"
             ],
             [
              0.6666666666666666,
              "#ed7953"
             ],
             [
              0.7777777777777778,
              "#fb9f3a"
             ],
             [
              0.8888888888888888,
              "#fdca26"
             ],
             [
              1,
              "#f0f921"
             ]
            ],
            "type": "histogram2dcontour"
           }
          ],
          "mesh3d": [
           {
            "colorbar": {
             "outlinewidth": 0,
             "ticks": ""
            },
            "type": "mesh3d"
           }
          ],
          "parcoords": [
           {
            "line": {
             "colorbar": {
              "outlinewidth": 0,
              "ticks": ""
             }
            },
            "type": "parcoords"
           }
          ],
          "pie": [
           {
            "automargin": true,
            "type": "pie"
           }
          ],
          "scatter": [
           {
            "marker": {
             "line": {
              "color": "#283442"
             }
            },
            "type": "scatter"
           }
          ],
          "scatter3d": [
           {
            "line": {
             "colorbar": {
              "outlinewidth": 0,
              "ticks": ""
             }
            },
            "marker": {
             "colorbar": {
              "outlinewidth": 0,
              "ticks": ""
             }
            },
            "type": "scatter3d"
           }
          ],
          "scattercarpet": [
           {
            "marker": {
             "colorbar": {
              "outlinewidth": 0,
              "ticks": ""
             }
            },
            "type": "scattercarpet"
           }
          ],
          "scattergeo": [
           {
            "marker": {
             "colorbar": {
              "outlinewidth": 0,
              "ticks": ""
             }
            },
            "type": "scattergeo"
           }
          ],
          "scattergl": [
           {
            "marker": {
             "line": {
              "color": "#283442"
             }
            },
            "type": "scattergl"
           }
          ],
          "scattermapbox": [
           {
            "marker": {
             "colorbar": {
              "outlinewidth": 0,
              "ticks": ""
             }
            },
            "type": "scattermapbox"
           }
          ],
          "scatterpolar": [
           {
            "marker": {
             "colorbar": {
              "outlinewidth": 0,
              "ticks": ""
             }
            },
            "type": "scatterpolar"
           }
          ],
          "scatterpolargl": [
           {
            "marker": {
             "colorbar": {
              "outlinewidth": 0,
              "ticks": ""
             }
            },
            "type": "scatterpolargl"
           }
          ],
          "scatterternary": [
           {
            "marker": {
             "colorbar": {
              "outlinewidth": 0,
              "ticks": ""
             }
            },
            "type": "scatterternary"
           }
          ],
          "surface": [
           {
            "colorbar": {
             "outlinewidth": 0,
             "ticks": ""
            },
            "colorscale": [
             [
              0,
              "#0d0887"
             ],
             [
              0.1111111111111111,
              "#46039f"
             ],
             [
              0.2222222222222222,
              "#7201a8"
             ],
             [
              0.3333333333333333,
              "#9c179e"
             ],
             [
              0.4444444444444444,
              "#bd3786"
             ],
             [
              0.5555555555555556,
              "#d8576b"
             ],
             [
              0.6666666666666666,
              "#ed7953"
             ],
             [
              0.7777777777777778,
              "#fb9f3a"
             ],
             [
              0.8888888888888888,
              "#fdca26"
             ],
             [
              1,
              "#f0f921"
             ]
            ],
            "type": "surface"
           }
          ],
          "table": [
           {
            "cells": {
             "fill": {
              "color": "#506784"
             },
             "line": {
              "color": "rgb(17,17,17)"
             }
            },
            "header": {
             "fill": {
              "color": "#2a3f5f"
             },
             "line": {
              "color": "rgb(17,17,17)"
             }
            },
            "type": "table"
           }
          ]
         },
         "layout": {
          "annotationdefaults": {
           "arrowcolor": "#f2f5fa",
           "arrowhead": 0,
           "arrowwidth": 1
          },
          "autotypenumbers": "strict",
          "coloraxis": {
           "colorbar": {
            "outlinewidth": 0,
            "ticks": ""
           }
          },
          "colorscale": {
           "diverging": [
            [
             0,
             "#8e0152"
            ],
            [
             0.1,
             "#c51b7d"
            ],
            [
             0.2,
             "#de77ae"
            ],
            [
             0.3,
             "#f1b6da"
            ],
            [
             0.4,
             "#fde0ef"
            ],
            [
             0.5,
             "#f7f7f7"
            ],
            [
             0.6,
             "#e6f5d0"
            ],
            [
             0.7,
             "#b8e186"
            ],
            [
             0.8,
             "#7fbc41"
            ],
            [
             0.9,
             "#4d9221"
            ],
            [
             1,
             "#276419"
            ]
           ],
           "sequential": [
            [
             0,
             "#0d0887"
            ],
            [
             0.1111111111111111,
             "#46039f"
            ],
            [
             0.2222222222222222,
             "#7201a8"
            ],
            [
             0.3333333333333333,
             "#9c179e"
            ],
            [
             0.4444444444444444,
             "#bd3786"
            ],
            [
             0.5555555555555556,
             "#d8576b"
            ],
            [
             0.6666666666666666,
             "#ed7953"
            ],
            [
             0.7777777777777778,
             "#fb9f3a"
            ],
            [
             0.8888888888888888,
             "#fdca26"
            ],
            [
             1,
             "#f0f921"
            ]
           ],
           "sequentialminus": [
            [
             0,
             "#0d0887"
            ],
            [
             0.1111111111111111,
             "#46039f"
            ],
            [
             0.2222222222222222,
             "#7201a8"
            ],
            [
             0.3333333333333333,
             "#9c179e"
            ],
            [
             0.4444444444444444,
             "#bd3786"
            ],
            [
             0.5555555555555556,
             "#d8576b"
            ],
            [
             0.6666666666666666,
             "#ed7953"
            ],
            [
             0.7777777777777778,
             "#fb9f3a"
            ],
            [
             0.8888888888888888,
             "#fdca26"
            ],
            [
             1,
             "#f0f921"
            ]
           ]
          },
          "colorway": [
           "#636efa",
           "#EF553B",
           "#00cc96",
           "#ab63fa",
           "#FFA15A",
           "#19d3f3",
           "#FF6692",
           "#B6E880",
           "#FF97FF",
           "#FECB52"
          ],
          "font": {
           "color": "#f2f5fa"
          },
          "geo": {
           "bgcolor": "rgb(17,17,17)",
           "lakecolor": "rgb(17,17,17)",
           "landcolor": "rgb(17,17,17)",
           "showlakes": true,
           "showland": true,
           "subunitcolor": "#506784"
          },
          "hoverlabel": {
           "align": "left"
          },
          "hovermode": "closest",
          "mapbox": {
           "style": "dark"
          },
          "paper_bgcolor": "rgb(17,17,17)",
          "plot_bgcolor": "rgb(17,17,17)",
          "polar": {
           "angularaxis": {
            "gridcolor": "#506784",
            "linecolor": "#506784",
            "ticks": ""
           },
           "bgcolor": "rgb(17,17,17)",
           "radialaxis": {
            "gridcolor": "#506784",
            "linecolor": "#506784",
            "ticks": ""
           }
          },
          "scene": {
           "xaxis": {
            "backgroundcolor": "rgb(17,17,17)",
            "gridcolor": "#506784",
            "gridwidth": 2,
            "linecolor": "#506784",
            "showbackground": true,
            "ticks": "",
            "zerolinecolor": "#C8D4E3"
           },
           "yaxis": {
            "backgroundcolor": "rgb(17,17,17)",
            "gridcolor": "#506784",
            "gridwidth": 2,
            "linecolor": "#506784",
            "showbackground": true,
            "ticks": "",
            "zerolinecolor": "#C8D4E3"
           },
           "zaxis": {
            "backgroundcolor": "rgb(17,17,17)",
            "gridcolor": "#506784",
            "gridwidth": 2,
            "linecolor": "#506784",
            "showbackground": true,
            "ticks": "",
            "zerolinecolor": "#C8D4E3"
           }
          },
          "shapedefaults": {
           "line": {
            "color": "#f2f5fa"
           }
          },
          "sliderdefaults": {
           "bgcolor": "#C8D4E3",
           "bordercolor": "rgb(17,17,17)",
           "borderwidth": 1,
           "tickwidth": 0
          },
          "ternary": {
           "aaxis": {
            "gridcolor": "#506784",
            "linecolor": "#506784",
            "ticks": ""
           },
           "baxis": {
            "gridcolor": "#506784",
            "linecolor": "#506784",
            "ticks": ""
           },
           "bgcolor": "rgb(17,17,17)",
           "caxis": {
            "gridcolor": "#506784",
            "linecolor": "#506784",
            "ticks": ""
           }
          },
          "title": {
           "x": 0.05
          },
          "updatemenudefaults": {
           "bgcolor": "#506784",
           "borderwidth": 0
          },
          "xaxis": {
           "automargin": true,
           "gridcolor": "#283442",
           "linecolor": "#506784",
           "ticks": "",
           "title": {
            "standoff": 15
           },
           "zerolinecolor": "#283442",
           "zerolinewidth": 2
          },
          "yaxis": {
           "automargin": true,
           "gridcolor": "#283442",
           "linecolor": "#506784",
           "ticks": "",
           "title": {
            "standoff": 15
           },
           "zerolinecolor": "#283442",
           "zerolinewidth": 2
          }
         }
        },
        "title": {
         "text": ""
        },
        "xaxis": {
         "anchor": "y",
         "domain": [
          0,
          1
         ],
         "title": {
          "text": ""
         }
        },
        "yaxis": {
         "anchor": "x",
         "domain": [
          0,
          1
         ],
         "title": {
          "text": ""
         }
        }
       }
      }
     },
     "metadata": {},
     "output_type": "display_data"
    }
   ],
   "source": [
    "fig = cm.correlation_matrix_heatmap(dfAdoc)\n",
    "\n",
    "fig.update_layout(margin=dict(t=30, b=0, l=0, r=0),title='', autosize=True, plot_bgcolor='rgba(0,0,0,0)', paper_bgcolor='rgba(0, 0, 0, 0)').update_traces(texttemplate='%{z:,.0f}')\n",
    "\n",
    "config = {\n",
    "    'responsive':True,\n",
    "    'scrollZoom':False,\n",
    "    'staticPlot':False,\n",
    "    'displayModeBar':False\n",
    "}\n",
    "\n",
    "fig.show(config=config)"
   ]
  },
  {
   "cell_type": "markdown",
   "metadata": {},
   "source": [
    "# Multicolinealidad\n",
    "\n",
    "Ahora, revisaremos la multicolinealidad de las variables. Si el VIF más grande es mayor o igual a 10, eliminaremos la variable y volveremos a correr el modelo, pero ahora sin esta variable.\n",
    "\n",
    "Iteraremos hasta que el VIF más grande sea menor a 10."
   ]
  },
  {
   "cell_type": "markdown",
   "metadata": {},
   "source": [
    "## Iteración 1\n",
    "\n",
    "En la primera iteración, como podemos observar, el VIF mayor es de la variable \"Transporte y Almacenamiento\", además de ser mayor que 10, por lo que esta variable será eliminada."
   ]
  },
  {
   "cell_type": "code",
   "execution_count": 7,
   "metadata": {},
   "outputs": [
    {
     "name": "stdout",
     "output_type": "stream",
     "text": [
      "1. PIB Nacional\n",
      "2. Agricultura\n",
      "3. Minería\n",
      "4. Generación, Transmisión y Distribución de Energía Eléctrica\n",
      "5. Construcción\n",
      "6. Industria Alimentaria\n",
      "7. Industria de las Bebidas y del Tabaco\n",
      "8. Fabricación de Maquinaria y Equipo\n",
      "9. Fabricación de Productos Químicos\n",
      "10. Comercio al Por Mayor\n",
      "11. Servicios Financieros y de Seguros\n",
      "12. Transporte y Almacenamiento\n",
      "13. Servicios de Salud y Asistencia Social\n",
      "14. Servicios Educativos\n",
      "15. Servicios de Alojamiento Temporal\n",
      "16. Servicios de Reparación y Mantenimiento\n"
     ]
    },
    {
     "data": {
      "text/html": [
       "<div>\n",
       "<style scoped>\n",
       "    .dataframe tbody tr th:only-of-type {\n",
       "        vertical-align: middle;\n",
       "    }\n",
       "\n",
       "    .dataframe tbody tr th {\n",
       "        vertical-align: top;\n",
       "    }\n",
       "\n",
       "    .dataframe thead th {\n",
       "        text-align: right;\n",
       "    }\n",
       "</style>\n",
       "<table border=\"1\" class=\"dataframe\">\n",
       "  <thead>\n",
       "    <tr style=\"text-align: right;\">\n",
       "      <th></th>\n",
       "      <th>Term</th>\n",
       "      <th>Coef</th>\n",
       "      <th>95% CI</th>\n",
       "      <th>VIF</th>\n",
       "    </tr>\n",
       "  </thead>\n",
       "  <tbody>\n",
       "    <tr>\n",
       "      <th>0</th>\n",
       "      <td>const</td>\n",
       "      <td>942957.449380</td>\n",
       "      <td>-2232516.3761 &lt; b0 &lt; 4118431.2749</td>\n",
       "      <td>1.050760</td>\n",
       "    </tr>\n",
       "    <tr>\n",
       "      <th>1</th>\n",
       "      <td>Agricultura</td>\n",
       "      <td>1.472967</td>\n",
       "      <td>0.7509 &lt; b1 &lt; 2.195</td>\n",
       "      <td>4.477251</td>\n",
       "    </tr>\n",
       "    <tr>\n",
       "      <th>2</th>\n",
       "      <td>Minería</td>\n",
       "      <td>1.278449</td>\n",
       "      <td>0.2771 &lt; b2 &lt; 2.2798</td>\n",
       "      <td>25.482052</td>\n",
       "    </tr>\n",
       "    <tr>\n",
       "      <th>3</th>\n",
       "      <td>Generación, Transmisión y Distribución de Ener...</td>\n",
       "      <td>4.191431</td>\n",
       "      <td>1.9789 &lt; b3 &lt; 6.4039</td>\n",
       "      <td>4.896581</td>\n",
       "    </tr>\n",
       "    <tr>\n",
       "      <th>4</th>\n",
       "      <td>Construcción</td>\n",
       "      <td>1.913055</td>\n",
       "      <td>1.2371 &lt; b4 &lt; 2.5891</td>\n",
       "      <td>5.925695</td>\n",
       "    </tr>\n",
       "    <tr>\n",
       "      <th>5</th>\n",
       "      <td>Industria Alimentaria</td>\n",
       "      <td>4.124027</td>\n",
       "      <td>1.018 &lt; b5 &lt; 7.2301</td>\n",
       "      <td>47.472805</td>\n",
       "    </tr>\n",
       "    <tr>\n",
       "      <th>6</th>\n",
       "      <td>Industria de las Bebidas y del Tabaco</td>\n",
       "      <td>4.492451</td>\n",
       "      <td>-0.0133 &lt; b6 &lt; 8.9982</td>\n",
       "      <td>15.956483</td>\n",
       "    </tr>\n",
       "    <tr>\n",
       "      <th>7</th>\n",
       "      <td>Fabricación de Maquinaria y Equipo</td>\n",
       "      <td>-1.042003</td>\n",
       "      <td>-4.5278 &lt; b7 &lt; 2.4438</td>\n",
       "      <td>3.930162</td>\n",
       "    </tr>\n",
       "    <tr>\n",
       "      <th>8</th>\n",
       "      <td>Fabricación de Productos Químicos</td>\n",
       "      <td>-3.756213</td>\n",
       "      <td>-10.3245 &lt; b8 &lt; 2.8121</td>\n",
       "      <td>27.450125</td>\n",
       "    </tr>\n",
       "    <tr>\n",
       "      <th>9</th>\n",
       "      <td>Comercio al Por Mayor</td>\n",
       "      <td>0.828449</td>\n",
       "      <td>-0.1319 &lt; b9 &lt; 1.7888</td>\n",
       "      <td>58.941983</td>\n",
       "    </tr>\n",
       "    <tr>\n",
       "      <th>10</th>\n",
       "      <td>Servicios Financieros y de Seguros</td>\n",
       "      <td>1.139115</td>\n",
       "      <td>0.2095 &lt; b10 &lt; 2.0688</td>\n",
       "      <td>54.584295</td>\n",
       "    </tr>\n",
       "    <tr>\n",
       "      <th>11</th>\n",
       "      <td>Transporte y Almacenamiento</td>\n",
       "      <td>8.286508</td>\n",
       "      <td>5.4098 &lt; b11 &lt; 11.1632</td>\n",
       "      <td>201.438311</td>\n",
       "    </tr>\n",
       "    <tr>\n",
       "      <th>12</th>\n",
       "      <td>Servicios de Salud y Asistencia Social</td>\n",
       "      <td>-1.476364</td>\n",
       "      <td>-4.7765 &lt; b12 &lt; 1.8238</td>\n",
       "      <td>9.247870</td>\n",
       "    </tr>\n",
       "    <tr>\n",
       "      <th>13</th>\n",
       "      <td>Servicios Educativos</td>\n",
       "      <td>0.415697</td>\n",
       "      <td>-2.2064 &lt; b13 &lt; 3.0378</td>\n",
       "      <td>6.278902</td>\n",
       "    </tr>\n",
       "    <tr>\n",
       "      <th>14</th>\n",
       "      <td>Servicios de Alojamiento Temporal</td>\n",
       "      <td>-10.425515</td>\n",
       "      <td>-14.8546 &lt; b14 &lt; -5.9964</td>\n",
       "      <td>48.613678</td>\n",
       "    </tr>\n",
       "    <tr>\n",
       "      <th>15</th>\n",
       "      <td>Servicios de Reparación y Mantenimiento</td>\n",
       "      <td>2.540981</td>\n",
       "      <td>-4.9648 &lt; b15 &lt; 10.0468</td>\n",
       "      <td>3.379014</td>\n",
       "    </tr>\n",
       "  </tbody>\n",
       "</table>\n",
       "</div>"
      ],
      "text/plain": [
       "                                                 Term           Coef  \\\n",
       "0                                               const  942957.449380   \n",
       "1                                         Agricultura       1.472967   \n",
       "2                                             Minería       1.278449   \n",
       "3   Generación, Transmisión y Distribución de Ener...       4.191431   \n",
       "4                                        Construcción       1.913055   \n",
       "5                               Industria Alimentaria       4.124027   \n",
       "6               Industria de las Bebidas y del Tabaco       4.492451   \n",
       "7                  Fabricación de Maquinaria y Equipo      -1.042003   \n",
       "8                   Fabricación de Productos Químicos      -3.756213   \n",
       "9                               Comercio al Por Mayor       0.828449   \n",
       "10                 Servicios Financieros y de Seguros       1.139115   \n",
       "11                        Transporte y Almacenamiento       8.286508   \n",
       "12             Servicios de Salud y Asistencia Social      -1.476364   \n",
       "13                               Servicios Educativos       0.415697   \n",
       "14                  Servicios de Alojamiento Temporal     -10.425515   \n",
       "15            Servicios de Reparación y Mantenimiento       2.540981   \n",
       "\n",
       "                               95% CI         VIF  \n",
       "0   -2232516.3761 < b0 < 4118431.2749    1.050760  \n",
       "1                 0.7509 < b1 < 2.195    4.477251  \n",
       "2                0.2771 < b2 < 2.2798   25.482052  \n",
       "3                1.9789 < b3 < 6.4039    4.896581  \n",
       "4                1.2371 < b4 < 2.5891    5.925695  \n",
       "5                 1.018 < b5 < 7.2301   47.472805  \n",
       "6               -0.0133 < b6 < 8.9982   15.956483  \n",
       "7               -4.5278 < b7 < 2.4438    3.930162  \n",
       "8              -10.3245 < b8 < 2.8121   27.450125  \n",
       "9               -0.1319 < b9 < 1.7888   58.941983  \n",
       "10              0.2095 < b10 < 2.0688   54.584295  \n",
       "11             5.4098 < b11 < 11.1632  201.438311  \n",
       "12             -4.7765 < b12 < 1.8238    9.247870  \n",
       "13             -2.2064 < b13 < 3.0378    6.278902  \n",
       "14           -14.8546 < b14 < -5.9964   48.613678  \n",
       "15            -4.9648 < b15 < 10.0468    3.379014  "
      ]
     },
     "execution_count": 7,
     "metadata": {},
     "output_type": "execute_result"
    }
   ],
   "source": [
    "# Iteración 1\n",
    "mlr.coef_summary(pibPorActividad.iloc[:,1:], False)"
   ]
  },
  {
   "cell_type": "markdown",
   "metadata": {},
   "source": [
    "## Iteración 2\n",
    "\n",
    "En esta nueva iteración observamos que el VIF más grande es el de la variable \"Servicios Financieros y de Seguros\", por lo que esta variable será también eliminada."
   ]
  },
  {
   "cell_type": "code",
   "execution_count": 8,
   "metadata": {},
   "outputs": [
    {
     "name": "stdout",
     "output_type": "stream",
     "text": [
      "1. PIB Nacional\n",
      "2. Agricultura\n",
      "3. Minería\n",
      "4. Generación, Transmisión y Distribución de Energía Eléctrica\n",
      "5. Construcción\n",
      "6. Industria Alimentaria\n",
      "7. Industria de las Bebidas y del Tabaco\n",
      "8. Fabricación de Maquinaria y Equipo\n",
      "9. Fabricación de Productos Químicos\n",
      "10. Comercio al Por Mayor\n",
      "11. Servicios Financieros y de Seguros\n",
      "12. Servicios de Salud y Asistencia Social\n",
      "13. Servicios Educativos\n",
      "14. Servicios de Alojamiento Temporal\n",
      "15. Servicios de Reparación y Mantenimiento\n"
     ]
    },
    {
     "data": {
      "text/html": [
       "<div>\n",
       "<style scoped>\n",
       "    .dataframe tbody tr th:only-of-type {\n",
       "        vertical-align: middle;\n",
       "    }\n",
       "\n",
       "    .dataframe tbody tr th {\n",
       "        vertical-align: top;\n",
       "    }\n",
       "\n",
       "    .dataframe thead th {\n",
       "        text-align: right;\n",
       "    }\n",
       "</style>\n",
       "<table border=\"1\" class=\"dataframe\">\n",
       "  <thead>\n",
       "    <tr style=\"text-align: right;\">\n",
       "      <th></th>\n",
       "      <th>Term</th>\n",
       "      <th>Coef</th>\n",
       "      <th>95% CI</th>\n",
       "      <th>VIF</th>\n",
       "    </tr>\n",
       "  </thead>\n",
       "  <tbody>\n",
       "    <tr>\n",
       "      <th>0</th>\n",
       "      <td>const</td>\n",
       "      <td>-1.219381e+06</td>\n",
       "      <td>-5271288.0939 &lt; b0 &lt; 2832526.1159</td>\n",
       "      <td>1.001084</td>\n",
       "    </tr>\n",
       "    <tr>\n",
       "      <th>1</th>\n",
       "      <td>Agricultura</td>\n",
       "      <td>1.916982e+00</td>\n",
       "      <td>0.9907 &lt; b1 &lt; 2.8433</td>\n",
       "      <td>4.273191</td>\n",
       "    </tr>\n",
       "    <tr>\n",
       "      <th>2</th>\n",
       "      <td>Minería</td>\n",
       "      <td>7.295655e-01</td>\n",
       "      <td>-0.5614 &lt; b2 &lt; 2.0205</td>\n",
       "      <td>24.559310</td>\n",
       "    </tr>\n",
       "    <tr>\n",
       "      <th>3</th>\n",
       "      <td>Generación, Transmisión y Distribución de Ener...</td>\n",
       "      <td>3.633713e+00</td>\n",
       "      <td>0.7394 &lt; b3 &lt; 6.528</td>\n",
       "      <td>4.859082</td>\n",
       "    </tr>\n",
       "    <tr>\n",
       "      <th>4</th>\n",
       "      <td>Construcción</td>\n",
       "      <td>2.673564e+00</td>\n",
       "      <td>1.8563 &lt; b4 &lt; 3.4908</td>\n",
       "      <td>5.021826</td>\n",
       "    </tr>\n",
       "    <tr>\n",
       "      <th>5</th>\n",
       "      <td>Industria Alimentaria</td>\n",
       "      <td>4.473955e+00</td>\n",
       "      <td>0.3981 &lt; b5 &lt; 8.5498</td>\n",
       "      <td>47.400189</td>\n",
       "    </tr>\n",
       "    <tr>\n",
       "      <th>6</th>\n",
       "      <td>Industria de las Bebidas y del Tabaco</td>\n",
       "      <td>8.419282e+00</td>\n",
       "      <td>2.7796 &lt; b6 &lt; 14.059</td>\n",
       "      <td>14.495853</td>\n",
       "    </tr>\n",
       "    <tr>\n",
       "      <th>7</th>\n",
       "      <td>Fabricación de Maquinaria y Equipo</td>\n",
       "      <td>1.948783e+00</td>\n",
       "      <td>-2.421 &lt; b7 &lt; 6.3186</td>\n",
       "      <td>3.581478</td>\n",
       "    </tr>\n",
       "    <tr>\n",
       "      <th>8</th>\n",
       "      <td>Fabricación de Productos Químicos</td>\n",
       "      <td>3.246845e+00</td>\n",
       "      <td>-4.7662 &lt; b8 &lt; 11.2599</td>\n",
       "      <td>23.689507</td>\n",
       "    </tr>\n",
       "    <tr>\n",
       "      <th>9</th>\n",
       "      <td>Comercio al Por Mayor</td>\n",
       "      <td>2.442702e+00</td>\n",
       "      <td>1.4185 &lt; b9 &lt; 3.4669</td>\n",
       "      <td>38.872111</td>\n",
       "    </tr>\n",
       "    <tr>\n",
       "      <th>10</th>\n",
       "      <td>Servicios Financieros y de Seguros</td>\n",
       "      <td>1.739036e+00</td>\n",
       "      <td>0.5492 &lt; b10 &lt; 2.9288</td>\n",
       "      <td>51.844852</td>\n",
       "    </tr>\n",
       "    <tr>\n",
       "      <th>11</th>\n",
       "      <td>Servicios de Salud y Asistencia Social</td>\n",
       "      <td>2.516694e+00</td>\n",
       "      <td>-1.4163 &lt; b11 &lt; 6.4497</td>\n",
       "      <td>7.616220</td>\n",
       "    </tr>\n",
       "    <tr>\n",
       "      <th>12</th>\n",
       "      <td>Servicios Educativos</td>\n",
       "      <td>2.863589e+00</td>\n",
       "      <td>-0.3939 &lt; b12 &lt; 6.1211</td>\n",
       "      <td>5.619381</td>\n",
       "    </tr>\n",
       "    <tr>\n",
       "      <th>13</th>\n",
       "      <td>Servicios de Alojamiento Temporal</td>\n",
       "      <td>1.684513e+00</td>\n",
       "      <td>-0.146 &lt; b13 &lt; 3.515</td>\n",
       "      <td>4.814731</td>\n",
       "    </tr>\n",
       "    <tr>\n",
       "      <th>14</th>\n",
       "      <td>Servicios de Reparación y Mantenimiento</td>\n",
       "      <td>-2.316870e-01</td>\n",
       "      <td>-10.0071 &lt; b14 &lt; 9.5437</td>\n",
       "      <td>3.323443</td>\n",
       "    </tr>\n",
       "  </tbody>\n",
       "</table>\n",
       "</div>"
      ],
      "text/plain": [
       "                                                 Term          Coef  \\\n",
       "0                                               const -1.219381e+06   \n",
       "1                                         Agricultura  1.916982e+00   \n",
       "2                                             Minería  7.295655e-01   \n",
       "3   Generación, Transmisión y Distribución de Ener...  3.633713e+00   \n",
       "4                                        Construcción  2.673564e+00   \n",
       "5                               Industria Alimentaria  4.473955e+00   \n",
       "6               Industria de las Bebidas y del Tabaco  8.419282e+00   \n",
       "7                  Fabricación de Maquinaria y Equipo  1.948783e+00   \n",
       "8                   Fabricación de Productos Químicos  3.246845e+00   \n",
       "9                               Comercio al Por Mayor  2.442702e+00   \n",
       "10                 Servicios Financieros y de Seguros  1.739036e+00   \n",
       "11             Servicios de Salud y Asistencia Social  2.516694e+00   \n",
       "12                               Servicios Educativos  2.863589e+00   \n",
       "13                  Servicios de Alojamiento Temporal  1.684513e+00   \n",
       "14            Servicios de Reparación y Mantenimiento -2.316870e-01   \n",
       "\n",
       "                               95% CI        VIF  \n",
       "0   -5271288.0939 < b0 < 2832526.1159   1.001084  \n",
       "1                0.9907 < b1 < 2.8433   4.273191  \n",
       "2               -0.5614 < b2 < 2.0205  24.559310  \n",
       "3                 0.7394 < b3 < 6.528   4.859082  \n",
       "4                1.8563 < b4 < 3.4908   5.021826  \n",
       "5                0.3981 < b5 < 8.5498  47.400189  \n",
       "6                2.7796 < b6 < 14.059  14.495853  \n",
       "7                -2.421 < b7 < 6.3186   3.581478  \n",
       "8              -4.7662 < b8 < 11.2599  23.689507  \n",
       "9                1.4185 < b9 < 3.4669  38.872111  \n",
       "10              0.5492 < b10 < 2.9288  51.844852  \n",
       "11             -1.4163 < b11 < 6.4497   7.616220  \n",
       "12             -0.3939 < b12 < 6.1211   5.619381  \n",
       "13               -0.146 < b13 < 3.515   4.814731  \n",
       "14            -10.0071 < b14 < 9.5437   3.323443  "
      ]
     },
     "execution_count": 8,
     "metadata": {},
     "output_type": "execute_result"
    }
   ],
   "source": [
    "# Iteración 2\n",
    "nuevoDF = pibPorActividad.drop(columns=['Transporte y Almacenamiento'])\n",
    "\n",
    "mlr.coef_summary(nuevoDF.iloc[:,1:], False)"
   ]
  },
  {
   "cell_type": "markdown",
   "metadata": {},
   "source": [
    "# Iteración 3\n",
    "\n",
    "En esta tercera iteración, podemos observar que el VIF más alto es el de la variable \"Industria Alimentaria\", y sigue siendo mayor que 10, por lo que de nueva cuenta tendremos que correr el modelo, eliminando también ésta variable."
   ]
  },
  {
   "cell_type": "code",
   "execution_count": 9,
   "metadata": {},
   "outputs": [
    {
     "name": "stdout",
     "output_type": "stream",
     "text": [
      "1. PIB Nacional\n",
      "2. Agricultura\n",
      "3. Minería\n",
      "4. Generación, Transmisión y Distribución de Energía Eléctrica\n",
      "5. Construcción\n",
      "6. Industria Alimentaria\n",
      "7. Industria de las Bebidas y del Tabaco\n",
      "8. Fabricación de Maquinaria y Equipo\n",
      "9. Fabricación de Productos Químicos\n",
      "10. Comercio al Por Mayor\n",
      "11. Servicios de Salud y Asistencia Social\n",
      "12. Servicios Educativos\n",
      "13. Servicios de Alojamiento Temporal\n",
      "14. Servicios de Reparación y Mantenimiento\n"
     ]
    },
    {
     "data": {
      "text/html": [
       "<div>\n",
       "<style scoped>\n",
       "    .dataframe tbody tr th:only-of-type {\n",
       "        vertical-align: middle;\n",
       "    }\n",
       "\n",
       "    .dataframe tbody tr th {\n",
       "        vertical-align: top;\n",
       "    }\n",
       "\n",
       "    .dataframe thead th {\n",
       "        text-align: right;\n",
       "    }\n",
       "</style>\n",
       "<table border=\"1\" class=\"dataframe\">\n",
       "  <thead>\n",
       "    <tr style=\"text-align: right;\">\n",
       "      <th></th>\n",
       "      <th>Term</th>\n",
       "      <th>Coef</th>\n",
       "      <th>95% CI</th>\n",
       "      <th>VIF</th>\n",
       "    </tr>\n",
       "  </thead>\n",
       "  <tbody>\n",
       "    <tr>\n",
       "      <th>0</th>\n",
       "      <td>const</td>\n",
       "      <td>-1.044745e+06</td>\n",
       "      <td>-5416755.5335 &lt; b0 &lt; 3327265.5265</td>\n",
       "      <td>1.340494</td>\n",
       "    </tr>\n",
       "    <tr>\n",
       "      <th>1</th>\n",
       "      <td>Agricultura</td>\n",
       "      <td>1.444579e+00</td>\n",
       "      <td>0.5075 &lt; b1 &lt; 2.3817</td>\n",
       "      <td>3.752953</td>\n",
       "    </tr>\n",
       "    <tr>\n",
       "      <th>2</th>\n",
       "      <td>Minería</td>\n",
       "      <td>5.154755e-01</td>\n",
       "      <td>-0.8691 &lt; b2 &lt; 1.9</td>\n",
       "      <td>24.243135</td>\n",
       "    </tr>\n",
       "    <tr>\n",
       "      <th>3</th>\n",
       "      <td>Generación, Transmisión y Distribución de Ener...</td>\n",
       "      <td>6.393734e+00</td>\n",
       "      <td>4.0259 &lt; b3 &lt; 8.7615</td>\n",
       "      <td>2.790746</td>\n",
       "    </tr>\n",
       "    <tr>\n",
       "      <th>4</th>\n",
       "      <td>Construcción</td>\n",
       "      <td>2.964397e+00</td>\n",
       "      <td>2.1088 &lt; b4 &lt; 3.82</td>\n",
       "      <td>4.724113</td>\n",
       "    </tr>\n",
       "    <tr>\n",
       "      <th>5</th>\n",
       "      <td>Industria Alimentaria</td>\n",
       "      <td>7.858060e+00</td>\n",
       "      <td>4.2371 &lt; b5 &lt; 11.479</td>\n",
       "      <td>32.104323</td>\n",
       "    </tr>\n",
       "    <tr>\n",
       "      <th>6</th>\n",
       "      <td>Industria de las Bebidas y del Tabaco</td>\n",
       "      <td>5.971782e+00</td>\n",
       "      <td>0.1584 &lt; b6 &lt; 11.7851</td>\n",
       "      <td>13.217900</td>\n",
       "    </tr>\n",
       "    <tr>\n",
       "      <th>7</th>\n",
       "      <td>Fabricación de Maquinaria y Equipo</td>\n",
       "      <td>-1.232836e+00</td>\n",
       "      <td>-5.323 &lt; b7 &lt; 2.8573</td>\n",
       "      <td>2.692747</td>\n",
       "    </tr>\n",
       "    <tr>\n",
       "      <th>8</th>\n",
       "      <td>Fabricación de Productos Químicos</td>\n",
       "      <td>-6.794354e-01</td>\n",
       "      <td>-8.8288 &lt; b8 &lt; 7.4699</td>\n",
       "      <td>21.027188</td>\n",
       "    </tr>\n",
       "    <tr>\n",
       "      <th>9</th>\n",
       "      <td>Comercio al Por Mayor</td>\n",
       "      <td>3.252784e+00</td>\n",
       "      <td>2.3231 &lt; b9 &lt; 4.1825</td>\n",
       "      <td>27.488678</td>\n",
       "    </tr>\n",
       "    <tr>\n",
       "      <th>10</th>\n",
       "      <td>Servicios de Salud y Asistencia Social</td>\n",
       "      <td>1.569620e+00</td>\n",
       "      <td>-2.6179 &lt; b10 &lt; 5.7572</td>\n",
       "      <td>7.409493</td>\n",
       "    </tr>\n",
       "    <tr>\n",
       "      <th>11</th>\n",
       "      <td>Servicios Educativos</td>\n",
       "      <td>1.784596e+00</td>\n",
       "      <td>-1.6403 &lt; b11 &lt; 5.2095</td>\n",
       "      <td>5.330782</td>\n",
       "    </tr>\n",
       "    <tr>\n",
       "      <th>12</th>\n",
       "      <td>Servicios de Alojamiento Temporal</td>\n",
       "      <td>2.063987e+00</td>\n",
       "      <td>0.108 &lt; b12 &lt; 4.0199</td>\n",
       "      <td>4.717869</td>\n",
       "    </tr>\n",
       "    <tr>\n",
       "      <th>13</th>\n",
       "      <td>Servicios de Reparación y Mantenimiento</td>\n",
       "      <td>-9.603804e-01</td>\n",
       "      <td>-11.4989 &lt; b13 &lt; 9.5781</td>\n",
       "      <td>3.314799</td>\n",
       "    </tr>\n",
       "  </tbody>\n",
       "</table>\n",
       "</div>"
      ],
      "text/plain": [
       "                                                 Term          Coef  \\\n",
       "0                                               const -1.044745e+06   \n",
       "1                                         Agricultura  1.444579e+00   \n",
       "2                                             Minería  5.154755e-01   \n",
       "3   Generación, Transmisión y Distribución de Ener...  6.393734e+00   \n",
       "4                                        Construcción  2.964397e+00   \n",
       "5                               Industria Alimentaria  7.858060e+00   \n",
       "6               Industria de las Bebidas y del Tabaco  5.971782e+00   \n",
       "7                  Fabricación de Maquinaria y Equipo -1.232836e+00   \n",
       "8                   Fabricación de Productos Químicos -6.794354e-01   \n",
       "9                               Comercio al Por Mayor  3.252784e+00   \n",
       "10             Servicios de Salud y Asistencia Social  1.569620e+00   \n",
       "11                               Servicios Educativos  1.784596e+00   \n",
       "12                  Servicios de Alojamiento Temporal  2.063987e+00   \n",
       "13            Servicios de Reparación y Mantenimiento -9.603804e-01   \n",
       "\n",
       "                               95% CI        VIF  \n",
       "0   -5416755.5335 < b0 < 3327265.5265   1.340494  \n",
       "1                0.5075 < b1 < 2.3817   3.752953  \n",
       "2                  -0.8691 < b2 < 1.9  24.243135  \n",
       "3                4.0259 < b3 < 8.7615   2.790746  \n",
       "4                  2.1088 < b4 < 3.82   4.724113  \n",
       "5                4.2371 < b5 < 11.479  32.104323  \n",
       "6               0.1584 < b6 < 11.7851  13.217900  \n",
       "7                -5.323 < b7 < 2.8573   2.692747  \n",
       "8               -8.8288 < b8 < 7.4699  21.027188  \n",
       "9                2.3231 < b9 < 4.1825  27.488678  \n",
       "10             -2.6179 < b10 < 5.7572   7.409493  \n",
       "11             -1.6403 < b11 < 5.2095   5.330782  \n",
       "12               0.108 < b12 < 4.0199   4.717869  \n",
       "13            -11.4989 < b13 < 9.5781   3.314799  "
      ]
     },
     "execution_count": 9,
     "metadata": {},
     "output_type": "execute_result"
    }
   ],
   "source": [
    "# Iteración 3\n",
    "nuevoDF = pibPorActividad.drop(columns=['Transporte y Almacenamiento', 'Servicios Financieros y de Seguros'])\n",
    "\n",
    "mlr.coef_summary(nuevoDF.iloc[:,1:], False)"
   ]
  },
  {
   "cell_type": "markdown",
   "metadata": {},
   "source": [
    "# Iteración 4\n",
    "\n",
    "En esta cuarta iteración, podemos observar que el VIF más alto, es el de la variable \"Minería\", y al ser mayor que 10, tendremos que eliminar la variable del modelo y volverlo a correr."
   ]
  },
  {
   "cell_type": "code",
   "execution_count": 10,
   "metadata": {},
   "outputs": [
    {
     "name": "stdout",
     "output_type": "stream",
     "text": [
      "1. PIB Nacional\n",
      "2. Agricultura\n",
      "3. Minería\n",
      "4. Generación, Transmisión y Distribución de Energía Eléctrica\n",
      "5. Construcción\n",
      "6. Industria de las Bebidas y del Tabaco\n",
      "7. Fabricación de Maquinaria y Equipo\n",
      "8. Fabricación de Productos Químicos\n",
      "9. Comercio al Por Mayor\n",
      "10. Servicios de Salud y Asistencia Social\n",
      "11. Servicios Educativos\n",
      "12. Servicios de Alojamiento Temporal\n",
      "13. Servicios de Reparación y Mantenimiento\n"
     ]
    },
    {
     "data": {
      "text/html": [
       "<div>\n",
       "<style scoped>\n",
       "    .dataframe tbody tr th:only-of-type {\n",
       "        vertical-align: middle;\n",
       "    }\n",
       "\n",
       "    .dataframe tbody tr th {\n",
       "        vertical-align: top;\n",
       "    }\n",
       "\n",
       "    .dataframe thead th {\n",
       "        text-align: right;\n",
       "    }\n",
       "</style>\n",
       "<table border=\"1\" class=\"dataframe\">\n",
       "  <thead>\n",
       "    <tr style=\"text-align: right;\">\n",
       "      <th></th>\n",
       "      <th>Term</th>\n",
       "      <th>Coef</th>\n",
       "      <th>95% CI</th>\n",
       "      <th>VIF</th>\n",
       "    </tr>\n",
       "  </thead>\n",
       "  <tbody>\n",
       "    <tr>\n",
       "      <th>0</th>\n",
       "      <td>const</td>\n",
       "      <td>3.985601e+06</td>\n",
       "      <td>-374065.8281 &lt; b0 &lt; 8345267.8612</td>\n",
       "      <td>1.019962</td>\n",
       "    </tr>\n",
       "    <tr>\n",
       "      <th>1</th>\n",
       "      <td>Agricultura</td>\n",
       "      <td>1.415613e+00</td>\n",
       "      <td>0.3136 &lt; b1 &lt; 2.5176</td>\n",
       "      <td>3.752192</td>\n",
       "    </tr>\n",
       "    <tr>\n",
       "      <th>2</th>\n",
       "      <td>Minería</td>\n",
       "      <td>-4.108528e-01</td>\n",
       "      <td>-1.9599 &lt; b2 &lt; 1.1382</td>\n",
       "      <td>21.938986</td>\n",
       "    </tr>\n",
       "    <tr>\n",
       "      <th>3</th>\n",
       "      <td>Generación, Transmisión y Distribución de Ener...</td>\n",
       "      <td>4.241264e+00</td>\n",
       "      <td>1.7127 &lt; b3 &lt; 6.7699</td>\n",
       "      <td>2.301060</td>\n",
       "    </tr>\n",
       "    <tr>\n",
       "      <th>4</th>\n",
       "      <td>Construcción</td>\n",
       "      <td>2.425090e+00</td>\n",
       "      <td>1.4622 &lt; b4 &lt; 3.388</td>\n",
       "      <td>4.325612</td>\n",
       "    </tr>\n",
       "    <tr>\n",
       "      <th>5</th>\n",
       "      <td>Industria de las Bebidas y del Tabaco</td>\n",
       "      <td>1.249717e+00</td>\n",
       "      <td>-5.0902 &lt; b5 &lt; 7.5897</td>\n",
       "      <td>11.366161</td>\n",
       "    </tr>\n",
       "    <tr>\n",
       "      <th>6</th>\n",
       "      <td>Fabricación de Maquinaria y Equipo</td>\n",
       "      <td>-9.231215e-01</td>\n",
       "      <td>-5.7305 &lt; b6 &lt; 3.8843</td>\n",
       "      <td>2.689469</td>\n",
       "    </tr>\n",
       "    <tr>\n",
       "      <th>7</th>\n",
       "      <td>Fabricación de Productos Químicos</td>\n",
       "      <td>-6.354125e+00</td>\n",
       "      <td>-15.4316 &lt; b7 &lt; 2.7233</td>\n",
       "      <td>18.862335</td>\n",
       "    </tr>\n",
       "    <tr>\n",
       "      <th>8</th>\n",
       "      <td>Comercio al Por Mayor</td>\n",
       "      <td>4.294390e+00</td>\n",
       "      <td>3.3579 &lt; b8 &lt; 5.2308</td>\n",
       "      <td>20.162646</td>\n",
       "    </tr>\n",
       "    <tr>\n",
       "      <th>9</th>\n",
       "      <td>Servicios de Salud y Asistencia Social</td>\n",
       "      <td>4.066184e+00</td>\n",
       "      <td>-0.6692 &lt; b9 &lt; 8.8016</td>\n",
       "      <td>6.850300</td>\n",
       "    </tr>\n",
       "    <tr>\n",
       "      <th>10</th>\n",
       "      <td>Servicios Educativos</td>\n",
       "      <td>4.573671e+00</td>\n",
       "      <td>0.8401 &lt; b10 &lt; 8.3073</td>\n",
       "      <td>4.580155</td>\n",
       "    </tr>\n",
       "    <tr>\n",
       "      <th>11</th>\n",
       "      <td>Servicios de Alojamiento Temporal</td>\n",
       "      <td>3.309439e+00</td>\n",
       "      <td>1.1103 &lt; b11 &lt; 5.5085</td>\n",
       "      <td>4.311718</td>\n",
       "    </tr>\n",
       "    <tr>\n",
       "      <th>12</th>\n",
       "      <td>Servicios de Reparación y Mantenimiento</td>\n",
       "      <td>-5.788406e+00</td>\n",
       "      <td>-17.9031 &lt; b12 &lt; 6.3263</td>\n",
       "      <td>3.167076</td>\n",
       "    </tr>\n",
       "  </tbody>\n",
       "</table>\n",
       "</div>"
      ],
      "text/plain": [
       "                                                 Term          Coef  \\\n",
       "0                                               const  3.985601e+06   \n",
       "1                                         Agricultura  1.415613e+00   \n",
       "2                                             Minería -4.108528e-01   \n",
       "3   Generación, Transmisión y Distribución de Ener...  4.241264e+00   \n",
       "4                                        Construcción  2.425090e+00   \n",
       "5               Industria de las Bebidas y del Tabaco  1.249717e+00   \n",
       "6                  Fabricación de Maquinaria y Equipo -9.231215e-01   \n",
       "7                   Fabricación de Productos Químicos -6.354125e+00   \n",
       "8                               Comercio al Por Mayor  4.294390e+00   \n",
       "9              Servicios de Salud y Asistencia Social  4.066184e+00   \n",
       "10                               Servicios Educativos  4.573671e+00   \n",
       "11                  Servicios de Alojamiento Temporal  3.309439e+00   \n",
       "12            Servicios de Reparación y Mantenimiento -5.788406e+00   \n",
       "\n",
       "                              95% CI        VIF  \n",
       "0   -374065.8281 < b0 < 8345267.8612   1.019962  \n",
       "1               0.3136 < b1 < 2.5176   3.752192  \n",
       "2              -1.9599 < b2 < 1.1382  21.938986  \n",
       "3               1.7127 < b3 < 6.7699   2.301060  \n",
       "4                1.4622 < b4 < 3.388   4.325612  \n",
       "5              -5.0902 < b5 < 7.5897  11.366161  \n",
       "6              -5.7305 < b6 < 3.8843   2.689469  \n",
       "7             -15.4316 < b7 < 2.7233  18.862335  \n",
       "8               3.3579 < b8 < 5.2308  20.162646  \n",
       "9              -0.6692 < b9 < 8.8016   6.850300  \n",
       "10             0.8401 < b10 < 8.3073   4.580155  \n",
       "11             1.1103 < b11 < 5.5085   4.311718  \n",
       "12           -17.9031 < b12 < 6.3263   3.167076  "
      ]
     },
     "execution_count": 10,
     "metadata": {},
     "output_type": "execute_result"
    }
   ],
   "source": [
    "# Iteración 4\n",
    "nuevoDF = pibPorActividad.drop(columns=['Transporte y Almacenamiento', 'Servicios Financieros y de Seguros', 'Industria Alimentaria'])\n",
    "\n",
    "mlr.coef_summary(nuevoDF.iloc[:,1:], False)"
   ]
  },
  {
   "cell_type": "markdown",
   "metadata": {},
   "source": [
    "# Iteración 5\n",
    "En ésta 5 iteración, nuestro VIF más alto es el de la variable \"Comercio al Por Mayor\", siendo mayor que 10, por lo que tenemos que eliminar la variable y volver a correr el modelo."
   ]
  },
  {
   "cell_type": "code",
   "execution_count": 11,
   "metadata": {},
   "outputs": [
    {
     "name": "stdout",
     "output_type": "stream",
     "text": [
      "1. PIB Nacional\n",
      "2. Agricultura\n",
      "3. Generación, Transmisión y Distribución de Energía Eléctrica\n",
      "4. Construcción\n",
      "5. Industria de las Bebidas y del Tabaco\n",
      "6. Fabricación de Maquinaria y Equipo\n",
      "7. Fabricación de Productos Químicos\n",
      "8. Comercio al Por Mayor\n",
      "9. Servicios de Salud y Asistencia Social\n",
      "10. Servicios Educativos\n",
      "11. Servicios de Alojamiento Temporal\n",
      "12. Servicios de Reparación y Mantenimiento\n"
     ]
    },
    {
     "data": {
      "text/html": [
       "<div>\n",
       "<style scoped>\n",
       "    .dataframe tbody tr th:only-of-type {\n",
       "        vertical-align: middle;\n",
       "    }\n",
       "\n",
       "    .dataframe tbody tr th {\n",
       "        vertical-align: top;\n",
       "    }\n",
       "\n",
       "    .dataframe thead th {\n",
       "        text-align: right;\n",
       "    }\n",
       "</style>\n",
       "<table border=\"1\" class=\"dataframe\">\n",
       "  <thead>\n",
       "    <tr style=\"text-align: right;\">\n",
       "      <th></th>\n",
       "      <th>Term</th>\n",
       "      <th>Coef</th>\n",
       "      <th>95% CI</th>\n",
       "      <th>VIF</th>\n",
       "    </tr>\n",
       "  </thead>\n",
       "  <tbody>\n",
       "    <tr>\n",
       "      <th>0</th>\n",
       "      <td>const</td>\n",
       "      <td>4.065830e+06</td>\n",
       "      <td>-248430.6436 &lt; b0 &lt; 8380091.5783</td>\n",
       "      <td>2.775004</td>\n",
       "    </tr>\n",
       "    <tr>\n",
       "      <th>1</th>\n",
       "      <td>Agricultura</td>\n",
       "      <td>1.361668e+00</td>\n",
       "      <td>0.2873 &lt; b1 &lt; 2.436</td>\n",
       "      <td>3.624375</td>\n",
       "    </tr>\n",
       "    <tr>\n",
       "      <th>2</th>\n",
       "      <td>Generación, Transmisión y Distribución de Ener...</td>\n",
       "      <td>4.320243e+00</td>\n",
       "      <td>1.8294 &lt; b2 &lt; 6.8111</td>\n",
       "      <td>2.269150</td>\n",
       "    </tr>\n",
       "    <tr>\n",
       "      <th>3</th>\n",
       "      <td>Construcción</td>\n",
       "      <td>2.404348e+00</td>\n",
       "      <td>1.4523 &lt; b3 &lt; 3.3564</td>\n",
       "      <td>4.297080</td>\n",
       "    </tr>\n",
       "    <tr>\n",
       "      <th>4</th>\n",
       "      <td>Industria de las Bebidas y del Tabaco</td>\n",
       "      <td>2.172879e+00</td>\n",
       "      <td>-3.0837 &lt; b4 &lt; 7.4295</td>\n",
       "      <td>7.940567</td>\n",
       "    </tr>\n",
       "    <tr>\n",
       "      <th>5</th>\n",
       "      <td>Fabricación de Maquinaria y Equipo</td>\n",
       "      <td>-1.228505e+00</td>\n",
       "      <td>-5.8585 &lt; b5 &lt; 3.4015</td>\n",
       "      <td>2.535202</td>\n",
       "    </tr>\n",
       "    <tr>\n",
       "      <th>6</th>\n",
       "      <td>Fabricación de Productos Químicos</td>\n",
       "      <td>-8.227524e+00</td>\n",
       "      <td>-13.8837 &lt; b6 &lt; -2.5714</td>\n",
       "      <td>7.442293</td>\n",
       "    </tr>\n",
       "    <tr>\n",
       "      <th>7</th>\n",
       "      <td>Comercio al Por Mayor</td>\n",
       "      <td>4.305229e+00</td>\n",
       "      <td>3.3772 &lt; b7 &lt; 5.2333</td>\n",
       "      <td>20.124251</td>\n",
       "    </tr>\n",
       "    <tr>\n",
       "      <th>8</th>\n",
       "      <td>Servicios de Salud y Asistencia Social</td>\n",
       "      <td>3.910074e+00</td>\n",
       "      <td>-0.7509 &lt; b8 &lt; 8.571</td>\n",
       "      <td>6.744472</td>\n",
       "    </tr>\n",
       "    <tr>\n",
       "      <th>9</th>\n",
       "      <td>Servicios Educativos</td>\n",
       "      <td>4.542790e+00</td>\n",
       "      <td>0.841 &lt; b9 &lt; 8.2446</td>\n",
       "      <td>4.575701</td>\n",
       "    </tr>\n",
       "    <tr>\n",
       "      <th>10</th>\n",
       "      <td>Servicios de Alojamiento Temporal</td>\n",
       "      <td>3.388352e+00</td>\n",
       "      <td>1.227 &lt; b10 &lt; 5.5498</td>\n",
       "      <td>4.232797</td>\n",
       "    </tr>\n",
       "    <tr>\n",
       "      <th>11</th>\n",
       "      <td>Servicios de Reparación y Mantenimiento</td>\n",
       "      <td>-6.546532e+00</td>\n",
       "      <td>-18.2248 &lt; b11 &lt; 5.1317</td>\n",
       "      <td>2.990776</td>\n",
       "    </tr>\n",
       "  </tbody>\n",
       "</table>\n",
       "</div>"
      ],
      "text/plain": [
       "                                                 Term          Coef  \\\n",
       "0                                               const  4.065830e+06   \n",
       "1                                         Agricultura  1.361668e+00   \n",
       "2   Generación, Transmisión y Distribución de Ener...  4.320243e+00   \n",
       "3                                        Construcción  2.404348e+00   \n",
       "4               Industria de las Bebidas y del Tabaco  2.172879e+00   \n",
       "5                  Fabricación de Maquinaria y Equipo -1.228505e+00   \n",
       "6                   Fabricación de Productos Químicos -8.227524e+00   \n",
       "7                               Comercio al Por Mayor  4.305229e+00   \n",
       "8              Servicios de Salud y Asistencia Social  3.910074e+00   \n",
       "9                                Servicios Educativos  4.542790e+00   \n",
       "10                  Servicios de Alojamiento Temporal  3.388352e+00   \n",
       "11            Servicios de Reparación y Mantenimiento -6.546532e+00   \n",
       "\n",
       "                              95% CI        VIF  \n",
       "0   -248430.6436 < b0 < 8380091.5783   2.775004  \n",
       "1                0.2873 < b1 < 2.436   3.624375  \n",
       "2               1.8294 < b2 < 6.8111   2.269150  \n",
       "3               1.4523 < b3 < 3.3564   4.297080  \n",
       "4              -3.0837 < b4 < 7.4295   7.940567  \n",
       "5              -5.8585 < b5 < 3.4015   2.535202  \n",
       "6            -13.8837 < b6 < -2.5714   7.442293  \n",
       "7               3.3772 < b7 < 5.2333  20.124251  \n",
       "8               -0.7509 < b8 < 8.571   6.744472  \n",
       "9                0.841 < b9 < 8.2446   4.575701  \n",
       "10              1.227 < b10 < 5.5498   4.232797  \n",
       "11           -18.2248 < b11 < 5.1317   2.990776  "
      ]
     },
     "execution_count": 11,
     "metadata": {},
     "output_type": "execute_result"
    }
   ],
   "source": [
    "# Iteración 5\n",
    "nuevoDF = pibPorActividad.drop(columns=['Transporte y Almacenamiento', 'Servicios Financieros y de Seguros', 'Industria Alimentaria', 'Minería'])\n",
    "\n",
    "mlr.coef_summary(nuevoDF.iloc[:,1:], False)"
   ]
  },
  {
   "cell_type": "markdown",
   "metadata": {},
   "source": [
    "# Iteración 6\n",
    "En esta sexta y última iteración, el VIF más alto es de la variable \"Fabricación de Productos Químicos\", pero al ser menor que 10, tenemos que ya no hay multicolinealidad entre las variables.\n",
    "\n",
    "Por lo que podemos seguir a los siguientes pasos tomando en cuenta las variables que nos restan, siendo 10 variables."
   ]
  },
  {
   "cell_type": "code",
   "execution_count": 156,
   "metadata": {},
   "outputs": [
    {
     "name": "stdout",
     "output_type": "stream",
     "text": [
      "1. PIB Nacional\n",
      "2. Agricultura\n",
      "3. Generación, Transmisión y Distribución de Energía Eléctrica\n",
      "4. Construcción\n",
      "5. Industria de las Bebidas y del Tabaco\n",
      "6. Fabricación de Maquinaria y Equipo\n",
      "7. Fabricación de Productos Químicos\n",
      "8. Servicios de Salud y Asistencia Social\n",
      "9. Servicios Educativos\n",
      "10. Servicios de Alojamiento Temporal\n",
      "11. Servicios de Reparación y Mantenimiento\n"
     ]
    },
    {
     "data": {
      "text/html": [
       "<div>\n",
       "<style scoped>\n",
       "    .dataframe tbody tr th:only-of-type {\n",
       "        vertical-align: middle;\n",
       "    }\n",
       "\n",
       "    .dataframe tbody tr th {\n",
       "        vertical-align: top;\n",
       "    }\n",
       "\n",
       "    .dataframe thead th {\n",
       "        text-align: right;\n",
       "    }\n",
       "</style>\n",
       "<table border=\"1\" class=\"dataframe\">\n",
       "  <thead>\n",
       "    <tr style=\"text-align: right;\">\n",
       "      <th></th>\n",
       "      <th>Term</th>\n",
       "      <th>Coef</th>\n",
       "      <th>95% CI</th>\n",
       "      <th>VIF</th>\n",
       "    </tr>\n",
       "  </thead>\n",
       "  <tbody>\n",
       "    <tr>\n",
       "      <th>0</th>\n",
       "      <td>const</td>\n",
       "      <td>-3.163367e+06</td>\n",
       "      <td>-9837427.2603 &lt; b0 &lt; 3510693.9333</td>\n",
       "      <td>1.002765</td>\n",
       "    </tr>\n",
       "    <tr>\n",
       "      <th>1</th>\n",
       "      <td>Agricultura</td>\n",
       "      <td>2.961613e+00</td>\n",
       "      <td>1.2736 &lt; b1 &lt; 4.6496</td>\n",
       "      <td>3.250868</td>\n",
       "    </tr>\n",
       "    <tr>\n",
       "      <th>2</th>\n",
       "      <td>Generación, Transmisión y Distribución de Ener...</td>\n",
       "      <td>8.696702e+00</td>\n",
       "      <td>4.8723 &lt; b2 &lt; 12.5211</td>\n",
       "      <td>1.943648</td>\n",
       "    </tr>\n",
       "    <tr>\n",
       "      <th>3</th>\n",
       "      <td>Construcción</td>\n",
       "      <td>3.015958e+00</td>\n",
       "      <td>1.4518 &lt; b3 &lt; 4.5801</td>\n",
       "      <td>4.214672</td>\n",
       "    </tr>\n",
       "    <tr>\n",
       "      <th>4</th>\n",
       "      <td>Industria de las Bebidas y del Tabaco</td>\n",
       "      <td>1.413715e+01</td>\n",
       "      <td>6.5383 &lt; b4 &lt; 21.736</td>\n",
       "      <td>6.029157</td>\n",
       "    </tr>\n",
       "    <tr>\n",
       "      <th>5</th>\n",
       "      <td>Fabricación de Maquinaria y Equipo</td>\n",
       "      <td>9.087982e+00</td>\n",
       "      <td>2.3508 &lt; b5 &lt; 15.8251</td>\n",
       "      <td>1.950344</td>\n",
       "    </tr>\n",
       "    <tr>\n",
       "      <th>6</th>\n",
       "      <td>Fabricación de Productos Químicos</td>\n",
       "      <td>-1.130942e+01</td>\n",
       "      <td>-20.6279 &lt; b6 &lt; -1.9909</td>\n",
       "      <td>7.339622</td>\n",
       "    </tr>\n",
       "    <tr>\n",
       "      <th>7</th>\n",
       "      <td>Servicios de Salud y Asistencia Social</td>\n",
       "      <td>1.412563e+01</td>\n",
       "      <td>7.3106 &lt; b7 &lt; 20.9406</td>\n",
       "      <td>5.239025</td>\n",
       "    </tr>\n",
       "    <tr>\n",
       "      <th>8</th>\n",
       "      <td>Servicios Educativos</td>\n",
       "      <td>1.091830e+01</td>\n",
       "      <td>5.216 &lt; b8 &lt; 16.6206</td>\n",
       "      <td>3.945033</td>\n",
       "    </tr>\n",
       "    <tr>\n",
       "      <th>9</th>\n",
       "      <td>Servicios de Alojamiento Temporal</td>\n",
       "      <td>3.768374e+00</td>\n",
       "      <td>0.1852 &lt; b9 &lt; 7.3515</td>\n",
       "      <td>4.226717</td>\n",
       "    </tr>\n",
       "    <tr>\n",
       "      <th>10</th>\n",
       "      <td>Servicios de Reparación y Mantenimiento</td>\n",
       "      <td>2.380807e+00</td>\n",
       "      <td>-16.7283 &lt; b10 &lt; 21.4899</td>\n",
       "      <td>2.909565</td>\n",
       "    </tr>\n",
       "  </tbody>\n",
       "</table>\n",
       "</div>"
      ],
      "text/plain": [
       "                                                 Term          Coef  \\\n",
       "0                                               const -3.163367e+06   \n",
       "1                                         Agricultura  2.961613e+00   \n",
       "2   Generación, Transmisión y Distribución de Ener...  8.696702e+00   \n",
       "3                                        Construcción  3.015958e+00   \n",
       "4               Industria de las Bebidas y del Tabaco  1.413715e+01   \n",
       "5                  Fabricación de Maquinaria y Equipo  9.087982e+00   \n",
       "6                   Fabricación de Productos Químicos -1.130942e+01   \n",
       "7              Servicios de Salud y Asistencia Social  1.412563e+01   \n",
       "8                                Servicios Educativos  1.091830e+01   \n",
       "9                   Servicios de Alojamiento Temporal  3.768374e+00   \n",
       "10            Servicios de Reparación y Mantenimiento  2.380807e+00   \n",
       "\n",
       "                               95% CI       VIF  \n",
       "0   -9837427.2603 < b0 < 3510693.9333  1.002765  \n",
       "1                1.2736 < b1 < 4.6496  3.250868  \n",
       "2               4.8723 < b2 < 12.5211  1.943648  \n",
       "3                1.4518 < b3 < 4.5801  4.214672  \n",
       "4                6.5383 < b4 < 21.736  6.029157  \n",
       "5               2.3508 < b5 < 15.8251  1.950344  \n",
       "6             -20.6279 < b6 < -1.9909  7.339622  \n",
       "7               7.3106 < b7 < 20.9406  5.239025  \n",
       "8                5.216 < b8 < 16.6206  3.945033  \n",
       "9                0.1852 < b9 < 7.3515  4.226717  \n",
       "10           -16.7283 < b10 < 21.4899  2.909565  "
      ]
     },
     "execution_count": 156,
     "metadata": {},
     "output_type": "execute_result"
    }
   ],
   "source": [
    "# Iteración 6\n",
    "nuevoDF = pibPorActividad.drop(columns=['Transporte y Almacenamiento', 'Servicios Financieros y de Seguros', 'Industria Alimentaria', 'Minería', 'Comercio al Por Mayor'])\n",
    "\n",
    "finalSum = mlr.coef_summary(nuevoDF.iloc[:,1:], False)\n",
    "finalSum"
   ]
  },
  {
   "cell_type": "markdown",
   "metadata": {},
   "source": [
    "# Selección de Modelo Óptimo\n",
    "\n",
    "Aunque ya no tengamos multicolinealidad, no necesariamente significa que las variables restantes estarán en el modelo final. Lo que haremos ahora es determinar el modelo de regresión lineal con mayor rendimiento. Si llegaran a haber 2 o más modelos prácticamente con el mismo rendimiento, seleccionaríamos el modelo con menor desviación estándar.\n",
    "\n",
    "# Modelo Óptimo\n",
    "El valor que representa el rendimiento de nuestro modelo es el R cuadrada ajustado\n",
    "\n",
    "Los 2 mejores modelos son:\n",
    "- Modelo de 9 variables (Excluyendo a la variable \"Servicios de Reparación y Mantenimiento\").\n",
    "    - Rendimiento (R^2 ajustado): 96.51%\n",
    "    - Desviación Estándar: 270503.0392\n",
    "- Modelo de 10 variables.\n",
    "    - Rendimiento (R^2 ajustado): 96.4433%\n",
    "    - Desviación Estándar: 273074.7138\n",
    "\n",
    "Con esto podemos concluir que el mejor modelo es el de 9 variables, debido a que tiene un mayor rendimiento, además de contar con una menor desviación estándar.\n",
    "\n",
    "Por esta razón, vamos a considerar el modelo de 9 variables que excluye a la variable \"Servicios de Reparación y Mantenimiento\"."
   ]
  },
  {
   "cell_type": "code",
   "execution_count": 230,
   "metadata": {},
   "outputs": [
    {
     "name": "stdout",
     "output_type": "stream",
     "text": [
      "1. PIB Nacional\n",
      "2. Agricultura\n",
      "3. Generación, Transmisión y Distribución de Energía Eléctrica\n",
      "4. Construcción\n",
      "5. Industria de las Bebidas y del Tabaco\n",
      "6. Fabricación de Maquinaria y Equipo\n",
      "7. Fabricación de Productos Químicos\n",
      "8. Servicios de Salud y Asistencia Social\n",
      "9. Servicios Educativos\n",
      "10. Servicios de Alojamiento Temporal\n",
      "11. Servicios de Reparación y Mantenimiento\n"
     ]
    },
    {
     "data": {
      "text/html": [
       "<div>\n",
       "<style scoped>\n",
       "    .dataframe tbody tr th:only-of-type {\n",
       "        vertical-align: middle;\n",
       "    }\n",
       "\n",
       "    .dataframe tbody tr th {\n",
       "        vertical-align: top;\n",
       "    }\n",
       "\n",
       "    .dataframe thead th {\n",
       "        text-align: right;\n",
       "    }\n",
       "</style>\n",
       "<table border=\"1\" class=\"dataframe\">\n",
       "  <thead>\n",
       "    <tr style=\"text-align: right;\">\n",
       "      <th></th>\n",
       "      <th>Vars</th>\n",
       "      <th>Agricultura</th>\n",
       "      <th>Generación, Transmisión y Distribución de Energía Eléctrica</th>\n",
       "      <th>Construcción</th>\n",
       "      <th>Industria de las Bebidas y del Tabaco</th>\n",
       "      <th>Fabricación de Maquinaria y Equipo</th>\n",
       "      <th>Fabricación de Productos Químicos</th>\n",
       "      <th>Servicios de Salud y Asistencia Social</th>\n",
       "      <th>Servicios Educativos</th>\n",
       "      <th>Servicios de Alojamiento Temporal</th>\n",
       "      <th>Servicios de Reparación y Mantenimiento</th>\n",
       "      <th>R sq</th>\n",
       "      <th>R sq (adj)</th>\n",
       "      <th>S</th>\n",
       "    </tr>\n",
       "  </thead>\n",
       "  <tbody>\n",
       "    <tr>\n",
       "      <th>0</th>\n",
       "      <td>1</td>\n",
       "      <td></td>\n",
       "      <td></td>\n",
       "      <td></td>\n",
       "      <td>X</td>\n",
       "      <td></td>\n",
       "      <td></td>\n",
       "      <td></td>\n",
       "      <td></td>\n",
       "      <td></td>\n",
       "      <td></td>\n",
       "      <td>68.6145</td>\n",
       "      <td>68.0733</td>\n",
       "      <td>818154.4375</td>\n",
       "    </tr>\n",
       "    <tr>\n",
       "      <th>1</th>\n",
       "      <td>1</td>\n",
       "      <td></td>\n",
       "      <td></td>\n",
       "      <td></td>\n",
       "      <td></td>\n",
       "      <td></td>\n",
       "      <td>X</td>\n",
       "      <td></td>\n",
       "      <td></td>\n",
       "      <td></td>\n",
       "      <td></td>\n",
       "      <td>56.4381</td>\n",
       "      <td>55.6870</td>\n",
       "      <td>963882.4422</td>\n",
       "    </tr>\n",
       "    <tr>\n",
       "      <th>2</th>\n",
       "      <td>2</td>\n",
       "      <td></td>\n",
       "      <td></td>\n",
       "      <td></td>\n",
       "      <td></td>\n",
       "      <td></td>\n",
       "      <td>X</td>\n",
       "      <td></td>\n",
       "      <td></td>\n",
       "      <td>X</td>\n",
       "      <td></td>\n",
       "      <td>85.1066</td>\n",
       "      <td>84.5841</td>\n",
       "      <td>568517.2155</td>\n",
       "    </tr>\n",
       "    <tr>\n",
       "      <th>3</th>\n",
       "      <td>2</td>\n",
       "      <td></td>\n",
       "      <td></td>\n",
       "      <td></td>\n",
       "      <td>X</td>\n",
       "      <td></td>\n",
       "      <td></td>\n",
       "      <td></td>\n",
       "      <td>X</td>\n",
       "      <td></td>\n",
       "      <td></td>\n",
       "      <td>83.8695</td>\n",
       "      <td>83.3035</td>\n",
       "      <td>591659.3486</td>\n",
       "    </tr>\n",
       "    <tr>\n",
       "      <th>4</th>\n",
       "      <td>3</td>\n",
       "      <td></td>\n",
       "      <td></td>\n",
       "      <td>X</td>\n",
       "      <td>X</td>\n",
       "      <td></td>\n",
       "      <td></td>\n",
       "      <td></td>\n",
       "      <td>X</td>\n",
       "      <td></td>\n",
       "      <td></td>\n",
       "      <td>90.6083</td>\n",
       "      <td>90.1052</td>\n",
       "      <td>455471.9274</td>\n",
       "    </tr>\n",
       "    <tr>\n",
       "      <th>5</th>\n",
       "      <td>3</td>\n",
       "      <td></td>\n",
       "      <td></td>\n",
       "      <td>X</td>\n",
       "      <td>X</td>\n",
       "      <td></td>\n",
       "      <td>X</td>\n",
       "      <td></td>\n",
       "      <td></td>\n",
       "      <td></td>\n",
       "      <td></td>\n",
       "      <td>90.3428</td>\n",
       "      <td>89.8254</td>\n",
       "      <td>461867.1946</td>\n",
       "    </tr>\n",
       "    <tr>\n",
       "      <th>6</th>\n",
       "      <td>4</td>\n",
       "      <td></td>\n",
       "      <td></td>\n",
       "      <td>X</td>\n",
       "      <td>X</td>\n",
       "      <td></td>\n",
       "      <td></td>\n",
       "      <td>X</td>\n",
       "      <td>X</td>\n",
       "      <td></td>\n",
       "      <td></td>\n",
       "      <td>93.5618</td>\n",
       "      <td>93.0936</td>\n",
       "      <td>380526.2708</td>\n",
       "    </tr>\n",
       "    <tr>\n",
       "      <th>7</th>\n",
       "      <td>4</td>\n",
       "      <td></td>\n",
       "      <td></td>\n",
       "      <td>X</td>\n",
       "      <td>X</td>\n",
       "      <td></td>\n",
       "      <td>X</td>\n",
       "      <td></td>\n",
       "      <td>X</td>\n",
       "      <td></td>\n",
       "      <td></td>\n",
       "      <td>93.2450</td>\n",
       "      <td>92.7537</td>\n",
       "      <td>389777.0194</td>\n",
       "    </tr>\n",
       "    <tr>\n",
       "      <th>8</th>\n",
       "      <td>5</td>\n",
       "      <td></td>\n",
       "      <td>X</td>\n",
       "      <td>X</td>\n",
       "      <td>X</td>\n",
       "      <td></td>\n",
       "      <td></td>\n",
       "      <td>X</td>\n",
       "      <td>X</td>\n",
       "      <td></td>\n",
       "      <td></td>\n",
       "      <td>95.2483</td>\n",
       "      <td>94.8083</td>\n",
       "      <td>329923.7804</td>\n",
       "    </tr>\n",
       "    <tr>\n",
       "      <th>9</th>\n",
       "      <td>5</td>\n",
       "      <td></td>\n",
       "      <td></td>\n",
       "      <td>X</td>\n",
       "      <td>X</td>\n",
       "      <td></td>\n",
       "      <td>X</td>\n",
       "      <td>X</td>\n",
       "      <td>X</td>\n",
       "      <td></td>\n",
       "      <td></td>\n",
       "      <td>94.7064</td>\n",
       "      <td>94.2163</td>\n",
       "      <td>348226.9247</td>\n",
       "    </tr>\n",
       "    <tr>\n",
       "      <th>10</th>\n",
       "      <td>6</td>\n",
       "      <td>X</td>\n",
       "      <td>X</td>\n",
       "      <td>X</td>\n",
       "      <td>X</td>\n",
       "      <td></td>\n",
       "      <td></td>\n",
       "      <td>X</td>\n",
       "      <td>X</td>\n",
       "      <td></td>\n",
       "      <td></td>\n",
       "      <td>96.1220</td>\n",
       "      <td>95.6830</td>\n",
       "      <td>300850.7448</td>\n",
       "    </tr>\n",
       "    <tr>\n",
       "      <th>11</th>\n",
       "      <td>6</td>\n",
       "      <td></td>\n",
       "      <td>X</td>\n",
       "      <td>X</td>\n",
       "      <td>X</td>\n",
       "      <td></td>\n",
       "      <td>X</td>\n",
       "      <td>X</td>\n",
       "      <td>X</td>\n",
       "      <td></td>\n",
       "      <td></td>\n",
       "      <td>95.7653</td>\n",
       "      <td>95.2859</td>\n",
       "      <td>314383.4145</td>\n",
       "    </tr>\n",
       "    <tr>\n",
       "      <th>12</th>\n",
       "      <td>7</td>\n",
       "      <td>X</td>\n",
       "      <td>X</td>\n",
       "      <td>X</td>\n",
       "      <td>X</td>\n",
       "      <td>X</td>\n",
       "      <td></td>\n",
       "      <td>X</td>\n",
       "      <td>X</td>\n",
       "      <td></td>\n",
       "      <td></td>\n",
       "      <td>96.4922</td>\n",
       "      <td>96.0200</td>\n",
       "      <td>288868.4403</td>\n",
       "    </tr>\n",
       "    <tr>\n",
       "      <th>13</th>\n",
       "      <td>7</td>\n",
       "      <td>X</td>\n",
       "      <td>X</td>\n",
       "      <td>X</td>\n",
       "      <td>X</td>\n",
       "      <td></td>\n",
       "      <td></td>\n",
       "      <td>X</td>\n",
       "      <td>X</td>\n",
       "      <td>X</td>\n",
       "      <td></td>\n",
       "      <td>96.3713</td>\n",
       "      <td>95.8829</td>\n",
       "      <td>293803.2787</td>\n",
       "    </tr>\n",
       "    <tr>\n",
       "      <th>14</th>\n",
       "      <td>8</td>\n",
       "      <td>X</td>\n",
       "      <td>X</td>\n",
       "      <td>X</td>\n",
       "      <td>X</td>\n",
       "      <td>X</td>\n",
       "      <td>X</td>\n",
       "      <td>X</td>\n",
       "      <td>X</td>\n",
       "      <td></td>\n",
       "      <td></td>\n",
       "      <td>96.7540</td>\n",
       "      <td>96.2449</td>\n",
       "      <td>280589.7974</td>\n",
       "    </tr>\n",
       "    <tr>\n",
       "      <th>15</th>\n",
       "      <td>8</td>\n",
       "      <td>X</td>\n",
       "      <td>X</td>\n",
       "      <td>X</td>\n",
       "      <td>X</td>\n",
       "      <td>X</td>\n",
       "      <td></td>\n",
       "      <td>X</td>\n",
       "      <td>X</td>\n",
       "      <td>X</td>\n",
       "      <td></td>\n",
       "      <td>96.6875</td>\n",
       "      <td>96.1679</td>\n",
       "      <td>283449.9406</td>\n",
       "    </tr>\n",
       "    <tr>\n",
       "      <th>16</th>\n",
       "      <td>9</td>\n",
       "      <td>X</td>\n",
       "      <td>X</td>\n",
       "      <td>X</td>\n",
       "      <td>X</td>\n",
       "      <td>X</td>\n",
       "      <td>X</td>\n",
       "      <td>X</td>\n",
       "      <td>X</td>\n",
       "      <td>X</td>\n",
       "      <td></td>\n",
       "      <td>97.0424</td>\n",
       "      <td>96.5100</td>\n",
       "      <td>270503.0392</td>\n",
       "    </tr>\n",
       "    <tr>\n",
       "      <th>17</th>\n",
       "      <td>9</td>\n",
       "      <td>X</td>\n",
       "      <td>X</td>\n",
       "      <td>X</td>\n",
       "      <td>X</td>\n",
       "      <td>X</td>\n",
       "      <td>X</td>\n",
       "      <td>X</td>\n",
       "      <td>X</td>\n",
       "      <td></td>\n",
       "      <td>X</td>\n",
       "      <td>96.7769</td>\n",
       "      <td>96.1967</td>\n",
       "      <td>282382.7720</td>\n",
       "    </tr>\n",
       "    <tr>\n",
       "      <th>18</th>\n",
       "      <td>10</td>\n",
       "      <td>X</td>\n",
       "      <td>X</td>\n",
       "      <td>X</td>\n",
       "      <td>X</td>\n",
       "      <td>X</td>\n",
       "      <td>X</td>\n",
       "      <td>X</td>\n",
       "      <td>X</td>\n",
       "      <td>X</td>\n",
       "      <td>X</td>\n",
       "      <td>97.0461</td>\n",
       "      <td>96.4433</td>\n",
       "      <td>273074.7138</td>\n",
       "    </tr>\n",
       "  </tbody>\n",
       "</table>\n",
       "</div>"
      ],
      "text/plain": [
       "    Vars Agricultura  \\\n",
       "0      1               \n",
       "1      1               \n",
       "2      2               \n",
       "3      2               \n",
       "4      3               \n",
       "5      3               \n",
       "6      4               \n",
       "7      4               \n",
       "8      5               \n",
       "9      5               \n",
       "10     6           X   \n",
       "11     6               \n",
       "12     7           X   \n",
       "13     7           X   \n",
       "14     8           X   \n",
       "15     8           X   \n",
       "16     9           X   \n",
       "17     9           X   \n",
       "18    10           X   \n",
       "\n",
       "   Generación, Transmisión y Distribución de Energía Eléctrica Construcción  \\\n",
       "0                                                                             \n",
       "1                                                                             \n",
       "2                                                                             \n",
       "3                                                                             \n",
       "4                                                                         X   \n",
       "5                                                                         X   \n",
       "6                                                                         X   \n",
       "7                                                                         X   \n",
       "8                                                   X                     X   \n",
       "9                                                                         X   \n",
       "10                                                  X                     X   \n",
       "11                                                  X                     X   \n",
       "12                                                  X                     X   \n",
       "13                                                  X                     X   \n",
       "14                                                  X                     X   \n",
       "15                                                  X                     X   \n",
       "16                                                  X                     X   \n",
       "17                                                  X                     X   \n",
       "18                                                  X                     X   \n",
       "\n",
       "   Industria de las Bebidas y del Tabaco Fabricación de Maquinaria y Equipo  \\\n",
       "0                                      X                                      \n",
       "1                                                                             \n",
       "2                                                                             \n",
       "3                                      X                                      \n",
       "4                                      X                                      \n",
       "5                                      X                                      \n",
       "6                                      X                                      \n",
       "7                                      X                                      \n",
       "8                                      X                                      \n",
       "9                                      X                                      \n",
       "10                                     X                                      \n",
       "11                                     X                                      \n",
       "12                                     X                                  X   \n",
       "13                                     X                                      \n",
       "14                                     X                                  X   \n",
       "15                                     X                                  X   \n",
       "16                                     X                                  X   \n",
       "17                                     X                                  X   \n",
       "18                                     X                                  X   \n",
       "\n",
       "   Fabricación de Productos Químicos Servicios de Salud y Asistencia Social  \\\n",
       "0                                                                             \n",
       "1                                  X                                          \n",
       "2                                  X                                          \n",
       "3                                                                             \n",
       "4                                                                             \n",
       "5                                  X                                          \n",
       "6                                                                         X   \n",
       "7                                  X                                          \n",
       "8                                                                         X   \n",
       "9                                  X                                      X   \n",
       "10                                                                        X   \n",
       "11                                 X                                      X   \n",
       "12                                                                        X   \n",
       "13                                                                        X   \n",
       "14                                 X                                      X   \n",
       "15                                                                        X   \n",
       "16                                 X                                      X   \n",
       "17                                 X                                      X   \n",
       "18                                 X                                      X   \n",
       "\n",
       "   Servicios Educativos Servicios de Alojamiento Temporal  \\\n",
       "0                                                           \n",
       "1                                                           \n",
       "2                                                       X   \n",
       "3                     X                                     \n",
       "4                     X                                     \n",
       "5                                                           \n",
       "6                     X                                     \n",
       "7                     X                                     \n",
       "8                     X                                     \n",
       "9                     X                                     \n",
       "10                    X                                     \n",
       "11                    X                                     \n",
       "12                    X                                     \n",
       "13                    X                                 X   \n",
       "14                    X                                     \n",
       "15                    X                                 X   \n",
       "16                    X                                 X   \n",
       "17                    X                                     \n",
       "18                    X                                 X   \n",
       "\n",
       "   Servicios de Reparación y Mantenimiento     R sq  R sq (adj)            S  \n",
       "0                                           68.6145     68.0733  818154.4375  \n",
       "1                                           56.4381     55.6870  963882.4422  \n",
       "2                                           85.1066     84.5841  568517.2155  \n",
       "3                                           83.8695     83.3035  591659.3486  \n",
       "4                                           90.6083     90.1052  455471.9274  \n",
       "5                                           90.3428     89.8254  461867.1946  \n",
       "6                                           93.5618     93.0936  380526.2708  \n",
       "7                                           93.2450     92.7537  389777.0194  \n",
       "8                                           95.2483     94.8083  329923.7804  \n",
       "9                                           94.7064     94.2163  348226.9247  \n",
       "10                                          96.1220     95.6830  300850.7448  \n",
       "11                                          95.7653     95.2859  314383.4145  \n",
       "12                                          96.4922     96.0200  288868.4403  \n",
       "13                                          96.3713     95.8829  293803.2787  \n",
       "14                                          96.7540     96.2449  280589.7974  \n",
       "15                                          96.6875     96.1679  283449.9406  \n",
       "16                                          97.0424     96.5100  270503.0392  \n",
       "17                                       X  96.7769     96.1967  282382.7720  \n",
       "18                                       X  97.0461     96.4433  273074.7138  "
      ]
     },
     "execution_count": 230,
     "metadata": {},
     "output_type": "execute_result"
    }
   ],
   "source": [
    "resultadosMejoresModelos = mlr.top_models(nuevoDF.iloc[:,1:], False)\n",
    "resultadosMejoresModelos"
   ]
  },
  {
   "cell_type": "markdown",
   "metadata": {},
   "source": [
    "# Modelo Escogido\n",
    "\n",
    "El modelo escogido fue el de 9 variables. En nuestro modelo tenemos las siguientes variables que son equivalentes a las variables de nuestro modelo:\n",
    "\n",
    "### - Ŷ: PIB Nacional\n",
    "\n",
    "### - X₁: Agricultura\n",
    "### - X₂: Generación, Transmisión y Distribución de Energía Eléctrica\n",
    "### - X₃: Construcción\n",
    "### - X₄: Industria de las Bebidas y del Tabaco\n",
    "### - X₅: Fabricación de Maquinaria y Equipo\n",
    "### - X₆: Fabricación de Productos Químicos\n",
    "### - X₇: Servicios de Salud y Asistencia Social\n",
    "### - X₈: Servicios Educativos\n",
    "### - X₉: Servicios de Alojamiento Temporal"
   ]
  },
  {
   "cell_type": "code",
   "execution_count": 8,
   "metadata": {},
   "outputs": [
    {
     "name": "stdout",
     "output_type": "stream",
     "text": [
      "1. PIB Nacional\n",
      "2. Agricultura\n",
      "3. Generación, Transmisión y Distribución de Energía Eléctrica\n",
      "4. Construcción\n",
      "5. Industria de las Bebidas y del Tabaco\n",
      "6. Fabricación de Maquinaria y Equipo\n",
      "7. Fabricación de Productos Químicos\n",
      "8. Servicios de Salud y Asistencia Social\n",
      "9. Servicios Educativos\n",
      "10. Servicios de Alojamiento Temporal\n"
     ]
    }
   ],
   "source": [
    "# Modelo Escogido\n",
    "\n",
    "# Nos quedamos con las 9 variables seleccionadas\n",
    "nuevoDF = pibPorActividad.drop(columns=['Transporte y Almacenamiento', 'Servicios Financieros y de Seguros', 'Industria Alimentaria', 'Minería', 'Comercio al Por Mayor', 'Servicios de Reparación y Mantenimiento'])\n",
    "\n",
    "mejorModelo = mlr.mult_reg_model(nuevoDF.iloc[:,1:], False)"
   ]
  },
  {
   "cell_type": "markdown",
   "metadata": {},
   "source": [
    "### Y el modelo es el siguiente:"
   ]
  },
  {
   "cell_type": "code",
   "execution_count": 9,
   "metadata": {},
   "outputs": [
    {
     "name": "stdout",
     "output_type": "stream",
     "text": [
      "Ŷ = -3117480.31 +2.99X₁ +8.7X₂ +3.1X₃ +14.52X₄ +8.96X₅ -11.18X₆ +14.11X₇ +10.83X₈ +3.84X₉\n"
     ]
    }
   ],
   "source": [
    "print(mejorModelo['model_data']['est_ecuation'])"
   ]
  },
  {
   "cell_type": "markdown",
   "metadata": {},
   "source": [
    "# Características del Modelo\n",
    "Algunas características del modelo que podemos analizar son la variabilidad del modelo y su rendimiento."
   ]
  },
  {
   "cell_type": "code",
   "execution_count": 10,
   "metadata": {},
   "outputs": [
    {
     "name": "stdout",
     "output_type": "stream",
     "text": [
      "Rendimiento del Modelo (R^2 Ajustada): 96.51%\n",
      "Variabilidad del Modelo (R^2): 97.04%\n"
     ]
    }
   ],
   "source": [
    "print(f\"Rendimiento del Modelo (R^2 Ajustada): {mejorModelo['model_data']['r_square_adj']*100:,.2f}%\\nVariabilidad del Modelo (R^2): {mejorModelo['model_data']['r_square']*100:,.2f}%\")"
   ]
  },
  {
   "cell_type": "markdown",
   "metadata": {},
   "source": [
    "# Prueba de Significancia\n",
    "\n",
    "La prueba de significancia de la regresión es para determinar si hay relación lineal entre la variable de respuesta (en este caso es el PIB Nacional) y las variables independientes. Las hipótesis correspondientes a ésta hipótesis son:\n",
    "\n",
    "- H0: b1 = 0 (La regresión no es significativa, al menos una de las variables independientes involucradas no muestran relación).\n",
    "- H1: b1 != 0 (La regresión es significativa, lo que significa que las variables independientes independientes muestran relación).\n",
    "\n",
    "Rechazando H0 si:\n",
    "- EP > Falpha, 1, n-2\n",
    "\n",
    "Donde EP es nuestro estadístico de prueba, alpha es el nivel de significancia de la prueba, y n es el tamaño de la muestra.\n",
    "\n",
    "## Conclusiones\n",
    "En éste caso concluimos que tenemos una regresión significativa, por lo que continuamos con el análisis de la los intervalos de confianza de la constante de nuestro modelo."
   ]
  },
  {
   "cell_type": "code",
   "execution_count": 11,
   "metadata": {},
   "outputs": [
    {
     "name": "stdout",
     "output_type": "stream",
     "text": [
      "182.282 > 2.0734, Significant Regression\n"
     ]
    }
   ],
   "source": [
    "# Prueba de Significancia\n",
    "print(mejorModelo['model_data']['significance_test'])"
   ]
  },
  {
   "cell_type": "markdown",
   "metadata": {},
   "source": [
    "# ¿Es Necesaria la Regresión al Origen?\n",
    "\n",
    "En este punto, analizaremos la constante del modelo para determinar si es adecuado forzar el ajuste del modelo a pasar por el origen. La decisión depende de si el intervalo de confianza de la constante incluye el valor cero; de ser así, se podría considerar la posibilidad de eliminar la constante y realizar una regresión sin intercepto.\n",
    "\n",
    "# Análisis\n",
    "\n",
    "Al observar los intervalos de confianza de la constante, notamos que incluyen al cero. Esto sugiere una posible regresión al origen. Sin embargo, dado el contexto del modelo y la naturaleza del PIB nacional, no eliminaremos la constante. Es importante considerar que, aunque las variables del modelo expliquen una gran proporción del PIB, no representan la totalidad de los factores que influyen en la economía nacional. Atribuir un valor de cero al PIB cuando todas las variables explicativas son cero no sería realista, ya que implica que no existen otros factores económicos en juego.\n",
    "\n",
    "Por lo tanto, mantendremos la constante en el modelo para reflejar una relación más completa y precisa entre las variables y el PIB nacional."
   ]
  },
  {
   "cell_type": "code",
   "execution_count": 233,
   "metadata": {},
   "outputs": [
    {
     "name": "stdout",
     "output_type": "stream",
     "text": [
      "1. PIB Nacional\n",
      "2. Agricultura\n",
      "3. Generación, Transmisión y Distribución de Energía Eléctrica\n",
      "4. Construcción\n",
      "5. Industria de las Bebidas y del Tabaco\n",
      "6. Fabricación de Maquinaria y Equipo\n",
      "7. Fabricación de Productos Químicos\n",
      "8. Servicios de Salud y Asistencia Social\n",
      "9. Servicios Educativos\n",
      "10. Servicios de Alojamiento Temporal\n",
      "11. Servicios de Reparación y Mantenimiento\n"
     ]
    },
    {
     "data": {
      "text/html": [
       "<div>\n",
       "<style scoped>\n",
       "    .dataframe tbody tr th:only-of-type {\n",
       "        vertical-align: middle;\n",
       "    }\n",
       "\n",
       "    .dataframe tbody tr th {\n",
       "        vertical-align: top;\n",
       "    }\n",
       "\n",
       "    .dataframe thead th {\n",
       "        text-align: right;\n",
       "    }\n",
       "</style>\n",
       "<table border=\"1\" class=\"dataframe\">\n",
       "  <thead>\n",
       "    <tr style=\"text-align: right;\">\n",
       "      <th></th>\n",
       "      <th>Term</th>\n",
       "      <th>Coef</th>\n",
       "      <th>95% CI</th>\n",
       "      <th>VIF</th>\n",
       "    </tr>\n",
       "  </thead>\n",
       "  <tbody>\n",
       "    <tr>\n",
       "      <th>0</th>\n",
       "      <td>const</td>\n",
       "      <td>-3.163367e+06</td>\n",
       "      <td>-9837427.2603 &lt; b0 &lt; 3510693.9333</td>\n",
       "      <td>1.002765</td>\n",
       "    </tr>\n",
       "    <tr>\n",
       "      <th>1</th>\n",
       "      <td>Agricultura</td>\n",
       "      <td>2.961613e+00</td>\n",
       "      <td>1.2736 &lt; b1 &lt; 4.6496</td>\n",
       "      <td>3.250868</td>\n",
       "    </tr>\n",
       "    <tr>\n",
       "      <th>2</th>\n",
       "      <td>Generación, Transmisión y Distribución de Ener...</td>\n",
       "      <td>8.696702e+00</td>\n",
       "      <td>4.8723 &lt; b2 &lt; 12.5211</td>\n",
       "      <td>1.943648</td>\n",
       "    </tr>\n",
       "    <tr>\n",
       "      <th>3</th>\n",
       "      <td>Construcción</td>\n",
       "      <td>3.015958e+00</td>\n",
       "      <td>1.4518 &lt; b3 &lt; 4.5801</td>\n",
       "      <td>4.214672</td>\n",
       "    </tr>\n",
       "    <tr>\n",
       "      <th>4</th>\n",
       "      <td>Industria de las Bebidas y del Tabaco</td>\n",
       "      <td>1.413715e+01</td>\n",
       "      <td>6.5383 &lt; b4 &lt; 21.736</td>\n",
       "      <td>6.029157</td>\n",
       "    </tr>\n",
       "    <tr>\n",
       "      <th>5</th>\n",
       "      <td>Fabricación de Maquinaria y Equipo</td>\n",
       "      <td>9.087982e+00</td>\n",
       "      <td>2.3508 &lt; b5 &lt; 15.8251</td>\n",
       "      <td>1.950344</td>\n",
       "    </tr>\n",
       "    <tr>\n",
       "      <th>6</th>\n",
       "      <td>Fabricación de Productos Químicos</td>\n",
       "      <td>-1.130942e+01</td>\n",
       "      <td>-20.6279 &lt; b6 &lt; -1.9909</td>\n",
       "      <td>7.339622</td>\n",
       "    </tr>\n",
       "    <tr>\n",
       "      <th>7</th>\n",
       "      <td>Servicios de Salud y Asistencia Social</td>\n",
       "      <td>1.412563e+01</td>\n",
       "      <td>7.3106 &lt; b7 &lt; 20.9406</td>\n",
       "      <td>5.239025</td>\n",
       "    </tr>\n",
       "    <tr>\n",
       "      <th>8</th>\n",
       "      <td>Servicios Educativos</td>\n",
       "      <td>1.091830e+01</td>\n",
       "      <td>5.216 &lt; b8 &lt; 16.6206</td>\n",
       "      <td>3.945033</td>\n",
       "    </tr>\n",
       "    <tr>\n",
       "      <th>9</th>\n",
       "      <td>Servicios de Alojamiento Temporal</td>\n",
       "      <td>3.768374e+00</td>\n",
       "      <td>0.1852 &lt; b9 &lt; 7.3515</td>\n",
       "      <td>4.226717</td>\n",
       "    </tr>\n",
       "    <tr>\n",
       "      <th>10</th>\n",
       "      <td>Servicios de Reparación y Mantenimiento</td>\n",
       "      <td>2.380807e+00</td>\n",
       "      <td>-16.7283 &lt; b10 &lt; 21.4899</td>\n",
       "      <td>2.909565</td>\n",
       "    </tr>\n",
       "  </tbody>\n",
       "</table>\n",
       "</div>"
      ],
      "text/plain": [
       "                                                 Term          Coef  \\\n",
       "0                                               const -3.163367e+06   \n",
       "1                                         Agricultura  2.961613e+00   \n",
       "2   Generación, Transmisión y Distribución de Ener...  8.696702e+00   \n",
       "3                                        Construcción  3.015958e+00   \n",
       "4               Industria de las Bebidas y del Tabaco  1.413715e+01   \n",
       "5                  Fabricación de Maquinaria y Equipo  9.087982e+00   \n",
       "6                   Fabricación de Productos Químicos -1.130942e+01   \n",
       "7              Servicios de Salud y Asistencia Social  1.412563e+01   \n",
       "8                                Servicios Educativos  1.091830e+01   \n",
       "9                   Servicios de Alojamiento Temporal  3.768374e+00   \n",
       "10            Servicios de Reparación y Mantenimiento  2.380807e+00   \n",
       "\n",
       "                               95% CI       VIF  \n",
       "0   -9837427.2603 < b0 < 3510693.9333  1.002765  \n",
       "1                1.2736 < b1 < 4.6496  3.250868  \n",
       "2               4.8723 < b2 < 12.5211  1.943648  \n",
       "3                1.4518 < b3 < 4.5801  4.214672  \n",
       "4                6.5383 < b4 < 21.736  6.029157  \n",
       "5               2.3508 < b5 < 15.8251  1.950344  \n",
       "6             -20.6279 < b6 < -1.9909  7.339622  \n",
       "7               7.3106 < b7 < 20.9406  5.239025  \n",
       "8                5.216 < b8 < 16.6206  3.945033  \n",
       "9                0.1852 < b9 < 7.3515  4.226717  \n",
       "10           -16.7283 < b10 < 21.4899  2.909565  "
      ]
     },
     "execution_count": 233,
     "metadata": {},
     "output_type": "execute_result"
    }
   ],
   "source": [
    "regresionOrigen = mlr.coef_summary(nuevoDF.iloc[:,1:], False)\n",
    "regresionOrigen"
   ]
  },
  {
   "cell_type": "markdown",
   "metadata": {},
   "source": [
    "# Supuestos del Modelo\n",
    "El siguiente paso es asegurarnos que se cumplen los supuestos de los residuales modelo de tal manera que si se cumplen estos supuestos, podemos asegurarnos de la confiabilidad del modelo."
   ]
  },
  {
   "cell_type": "markdown",
   "metadata": {},
   "source": [
    "# 1. Normalidad de los Residuales con Media Cero\n",
    "\n",
    "Es fundamental asegurar que los residuales del modelo se distribuyen de manera normal y que tienen una media cercana a cero. Existen dos enfoques para verificar este supuesto: el método gráfico y el método analítico. En este proyecto utilizaremos ambos enfoques para tener una confirmación visual y estadística de la normalidad de los residuales.\n",
    "\n",
    "## Método Gráfico\n",
    "\n",
    "Para la validación gráfica, utilizaremos el QQ plot (gráfico de cuantiles) y un histograma de los residuales. En el QQ plot, el eje \"x\" representa los cuantiles teóricos de una distribución normal, mientras que el eje \"y\" muestra los cuantiles observados de los residuales. Una línea de tendencia se superpone en el gráfico para ayudarnos a visualizar la dispersión de los puntos: cuanto más cerca estén los puntos de la línea, más normal será la distribución de los residuales. Adicionalmente, un histograma de los residuales nos permite evaluar la forma de su distribución y verificar que esté centrada en cero.\n",
    "\n",
    "### Análisis del Método Gráfico\n",
    "En el QQ plot, podemos observar que los puntos están alineados en gran medida con la línea de tendencia, lo que indica que los residuales siguen una distribución normal. El histograma de los residuales también muestra una forma aproximadamente simétrica y centrada alrededor de cero. Ambos gráficos respaldan la validez del supuesto de normalidad con media cero para los residuales.\n",
    "\n",
    "## Método Analítico\n",
    "\n",
    "Complementariamente, aplicamos la prueba de normalidad Chi-cuadrado. Esta prueba estadística permite verificar si la distribución de los residuales es significativamente diferente de una distribución normal. La hipótesis nula de esta prueba postula que los residuales siguen una distribución normal con media 0, mientras que la hipótesis alternativa indica lo contrario.\n",
    "\n",
    "### Análisis del Método Analítico\n",
    "Los resultados de la prueba Chi-cuadrado muestran que no hay evidencia suficiente para rechazar la hipótesis de normalidad con media 0 de los residuales. Esto confirma, de manera analítica, que los residuales provienen de una distribución normal con media cero, validando así uno de los supuestos clave para la confiabilidad del modelo."
   ]
  },
  {
   "cell_type": "code",
   "execution_count": 12,
   "metadata": {},
   "outputs": [
    {
     "data": {
      "application/vnd.plotly.v1+json": {
       "config": {
        "displayModeBar": false,
        "plotlyServerURL": "https://plot.ly",
        "responsive": true,
        "scrollZoom": false,
        "staticPlot": false
       },
       "data": [
        {
         "hoverlabel": {
          "bgcolor": "#fff"
         },
         "hovertemplate": "Residuals: %{x}<br>Expected Value: %{y}",
         "legendgroup": "",
         "line": {
          "dash": "dot"
         },
         "marker": {
          "color": "blue",
          "coloraxis": "coloraxis",
          "size": 8,
          "symbol": "circle"
         },
         "mode": "markers",
         "name": "",
         "orientation": "v",
         "showlegend": false,
         "type": "scatter",
         "x": [
          -616343.0907663554,
          -410997.665437527,
          -369921.0342948586,
          -350830.24361542054,
          -343140.3712458797,
          -331460.4765296653,
          -310711.3320831042,
          -287659.6368816532,
          -260676.2414913699,
          -255870.98254719935,
          -233228.81333318725,
          -224150.46780630015,
          -187370.36794915795,
          -179603.61164983176,
          -151179.48382812738,
          -144656.20041236654,
          -131725.92924467474,
          -103174.35518013127,
          -101518.7855807431,
          -100438.54915871657,
          -100356.92456805333,
          -98375.9685592819,
          -91014.36248609796,
          -72814.14900235832,
          -65126.708175670356,
          -62127.19991913438,
          -29690.227364411578,
          -28686.47632292658,
          -6178.1119853667915,
          2806.105217706412,
          19433.06453287229,
          23483.713043939322,
          35666.57378092036,
          36576.80139787868,
          40358.62992700562,
          44283.56976111606,
          46531.45743988454,
          54546.53787915036,
          63562.318759094924,
          68976.33948747814,
          78219.13851581141,
          82500.52178235166,
          88189.82771345414,
          108046.36191321537,
          114421.18888887763,
          131723.93567677587,
          137930.5094391927,
          140218.16270595416,
          154067.41465619206,
          156588.95563161,
          182048.48510803282,
          219371.90227254853,
          304361.07156477123,
          344293.0267112106,
          375644.61578772217,
          388583.7039160691,
          421735.6605166979,
          536378.5170548204,
          593419.1605191473,
          655060.4962259233
         ],
         "xaxis": "x",
         "y": [
          -625554.2867770429,
          -521341.25646977284,
          -462748.9314547091,
          -420194.49577586434,
          -386057.51012619416,
          -357155.6055006266,
          -331839.28405617684,
          -309137.1300319154,
          -288426.0151334291,
          -269280.80618908256,
          -251397.5526467029,
          -234550.7681559677,
          -218568.07455057144,
          -203314.34974471477,
          -188681.38758655897,
          -174580.90965865395,
          -160939.69779031596,
          -147696.1140634669,
          -134797.55504334037,
          -122198.5508129389,
          -109859.31868939199,
          -97744.64353849227,
          -85822.99640977295,
          -74065.82936034324,
          -62447.00186331202,
          -50942.30615383599,
          -39529.06713991432,
          -28185.798289358627,
          -16891.898966549405,
          -5627.38153259908,
          5627.38153259908,
          16891.898966549405,
          28185.798289358554,
          39529.06713991432,
          50942.30615383599,
          62447.00186331202,
          74065.82936034314,
          85822.99640977295,
          97744.64353849234,
          109859.31868939199,
          122198.5508129389,
          134797.55504334037,
          147696.114063467,
          160939.69779031596,
          174580.90965865395,
          188681.38758655897,
          203314.34974471477,
          218568.07455057144,
          234550.7681559677,
          251397.5526467029,
          269280.80618908256,
          288426.01513342897,
          309137.1300319154,
          331839.28405617684,
          357155.6055006266,
          386057.51012619416,
          420194.49577586434,
          462748.9314547091,
          521341.25646977284,
          625554.2867770429
         ],
         "yaxis": "y"
        },
        {
         "hoverlabel": {
          "bgcolor": "#fff"
         },
         "line": {
          "color": "red",
          "dash": "dot"
         },
         "mode": "lines",
         "name": "OLS",
         "type": "scatter",
         "x": [
          -616343.0907663554,
          -410997.665437527,
          -369921.0342948586,
          -350830.24361542054,
          -343140.3712458797,
          -331460.4765296653,
          -310711.3320831042,
          -287659.6368816532,
          -260676.2414913699,
          -255870.98254719935,
          -233228.81333318725,
          -224150.46780630015,
          -187370.36794915795,
          -179603.61164983176,
          -151179.48382812738,
          -144656.20041236654,
          -131725.92924467474,
          -103174.35518013127,
          -101518.7855807431,
          -100438.54915871657,
          -100356.92456805333,
          -98375.9685592819,
          -91014.36248609796,
          -72814.14900235832,
          -65126.708175670356,
          -62127.19991913438,
          -29690.227364411578,
          -28686.47632292658,
          -6178.1119853667915,
          2806.105217706412,
          19433.06453287229,
          23483.713043939322,
          35666.57378092036,
          36576.80139787868,
          40358.62992700562,
          44283.56976111606,
          46531.45743988454,
          54546.53787915036,
          63562.318759094924,
          68976.33948747814,
          78219.13851581141,
          82500.52178235166,
          88189.82771345414,
          108046.36191321537,
          114421.18888887763,
          131723.93567677587,
          137930.5094391927,
          140218.16270595416,
          154067.41465619206,
          156588.95563161,
          182048.48510803282,
          219371.90227254853,
          304361.07156477123,
          344293.0267112106,
          375644.61578772217,
          388583.7039160691,
          421735.6605166979,
          536378.5170548204,
          593419.1605191473,
          655060.4962259233
         ],
         "y": [
          -650709.6237965359,
          -433914.389998351,
          -390547.3764018402,
          -370392.106703899,
          -362273.4565047861,
          -349942.3052181916,
          -328036.21398581483,
          -303699.1845991589,
          -275211.2282546838,
          -270138.03397926193,
          -246233.36524564258,
          -236648.82233288704,
          -197817.90932432588,
          -189618.08824202218,
          -159609.06599695355,
          -152722.05231750562,
          -139070.80512568358,
          -108927.23039195464,
          -107179.34826702406,
          -106038.87919012333,
          -105952.70331263212,
          -103861.29163215369,
          -96089.21145451949,
          -76874.17644185357,
          -68758.09336543379,
          -65591.33621604035,
          -31345.717948939913,
          -30285.998983370333,
          -6522.595921617587,
          2962.5701877074084,
          20516.628313482655,
          24793.13600575196,
          37655.29808009613,
          38616.27886996299,
          42608.97750858038,
          46752.767162609365,
          49125.994294844175,
          57587.985765846504,
          67106.47550386154,
          72822.3753721859,
          82580.54151145287,
          87100.64944550053,
          93107.18408101842,
          114070.89421658841,
          120801.17370734681,
          139068.7003845363,
          145621.34506972536,
          148036.55507025274,
          162658.02428328164,
          165320.16328356398,
          192199.28482422768,
          231603.8098452796,
          321331.8707334917,
          363490.38260746235,
          396590.09774795215,
          410250.65352331614,
          445251.12246773724,
          566286.3237471143,
          626507.4833665468,
          691585.8641718815
         ]
        }
       ],
       "layout": {
        "autosize": true,
        "coloraxis": {
         "colorbar": {
          "title": {
           "text": "Expected Value"
          }
         },
         "colorscale": [
          [
           0,
           "#0d0887"
          ],
          [
           0.1111111111111111,
           "#46039f"
          ],
          [
           0.2222222222222222,
           "#7201a8"
          ],
          [
           0.3333333333333333,
           "#9c179e"
          ],
          [
           0.4444444444444444,
           "#bd3786"
          ],
          [
           0.5555555555555556,
           "#d8576b"
          ],
          [
           0.6666666666666666,
           "#ed7953"
          ],
          [
           0.7777777777777778,
           "#fb9f3a"
          ],
          [
           0.8888888888888888,
           "#fdca26"
          ],
          [
           1,
           "#f0f921"
          ]
         ]
        },
        "hovermode": "x unified",
        "legend": {
         "tracegroupgap": 0
        },
        "margin": {
         "b": 20,
         "r": 20,
         "t": 60
        },
        "paper_bgcolor": "#000",
        "plot_bgcolor": "#000",
        "showlegend": false,
        "template": {
         "data": {
          "bar": [
           {
            "error_x": {
             "color": "#f2f5fa"
            },
            "error_y": {
             "color": "#f2f5fa"
            },
            "marker": {
             "line": {
              "color": "rgb(17,17,17)",
              "width": 0.5
             },
             "pattern": {
              "fillmode": "overlay",
              "size": 10,
              "solidity": 0.2
             }
            },
            "type": "bar"
           }
          ],
          "barpolar": [
           {
            "marker": {
             "line": {
              "color": "rgb(17,17,17)",
              "width": 0.5
             },
             "pattern": {
              "fillmode": "overlay",
              "size": 10,
              "solidity": 0.2
             }
            },
            "type": "barpolar"
           }
          ],
          "carpet": [
           {
            "aaxis": {
             "endlinecolor": "#A2B1C6",
             "gridcolor": "#506784",
             "linecolor": "#506784",
             "minorgridcolor": "#506784",
             "startlinecolor": "#A2B1C6"
            },
            "baxis": {
             "endlinecolor": "#A2B1C6",
             "gridcolor": "#506784",
             "linecolor": "#506784",
             "minorgridcolor": "#506784",
             "startlinecolor": "#A2B1C6"
            },
            "type": "carpet"
           }
          ],
          "choropleth": [
           {
            "colorbar": {
             "outlinewidth": 0,
             "ticks": ""
            },
            "type": "choropleth"
           }
          ],
          "contour": [
           {
            "colorbar": {
             "outlinewidth": 0,
             "ticks": ""
            },
            "colorscale": [
             [
              0,
              "#0d0887"
             ],
             [
              0.1111111111111111,
              "#46039f"
             ],
             [
              0.2222222222222222,
              "#7201a8"
             ],
             [
              0.3333333333333333,
              "#9c179e"
             ],
             [
              0.4444444444444444,
              "#bd3786"
             ],
             [
              0.5555555555555556,
              "#d8576b"
             ],
             [
              0.6666666666666666,
              "#ed7953"
             ],
             [
              0.7777777777777778,
              "#fb9f3a"
             ],
             [
              0.8888888888888888,
              "#fdca26"
             ],
             [
              1,
              "#f0f921"
             ]
            ],
            "type": "contour"
           }
          ],
          "contourcarpet": [
           {
            "colorbar": {
             "outlinewidth": 0,
             "ticks": ""
            },
            "type": "contourcarpet"
           }
          ],
          "heatmap": [
           {
            "colorbar": {
             "outlinewidth": 0,
             "ticks": ""
            },
            "colorscale": [
             [
              0,
              "#0d0887"
             ],
             [
              0.1111111111111111,
              "#46039f"
             ],
             [
              0.2222222222222222,
              "#7201a8"
             ],
             [
              0.3333333333333333,
              "#9c179e"
             ],
             [
              0.4444444444444444,
              "#bd3786"
             ],
             [
              0.5555555555555556,
              "#d8576b"
             ],
             [
              0.6666666666666666,
              "#ed7953"
             ],
             [
              0.7777777777777778,
              "#fb9f3a"
             ],
             [
              0.8888888888888888,
              "#fdca26"
             ],
             [
              1,
              "#f0f921"
             ]
            ],
            "type": "heatmap"
           }
          ],
          "heatmapgl": [
           {
            "colorbar": {
             "outlinewidth": 0,
             "ticks": ""
            },
            "colorscale": [
             [
              0,
              "#0d0887"
             ],
             [
              0.1111111111111111,
              "#46039f"
             ],
             [
              0.2222222222222222,
              "#7201a8"
             ],
             [
              0.3333333333333333,
              "#9c179e"
             ],
             [
              0.4444444444444444,
              "#bd3786"
             ],
             [
              0.5555555555555556,
              "#d8576b"
             ],
             [
              0.6666666666666666,
              "#ed7953"
             ],
             [
              0.7777777777777778,
              "#fb9f3a"
             ],
             [
              0.8888888888888888,
              "#fdca26"
             ],
             [
              1,
              "#f0f921"
             ]
            ],
            "type": "heatmapgl"
           }
          ],
          "histogram": [
           {
            "marker": {
             "pattern": {
              "fillmode": "overlay",
              "size": 10,
              "solidity": 0.2
             }
            },
            "type": "histogram"
           }
          ],
          "histogram2d": [
           {
            "colorbar": {
             "outlinewidth": 0,
             "ticks": ""
            },
            "colorscale": [
             [
              0,
              "#0d0887"
             ],
             [
              0.1111111111111111,
              "#46039f"
             ],
             [
              0.2222222222222222,
              "#7201a8"
             ],
             [
              0.3333333333333333,
              "#9c179e"
             ],
             [
              0.4444444444444444,
              "#bd3786"
             ],
             [
              0.5555555555555556,
              "#d8576b"
             ],
             [
              0.6666666666666666,
              "#ed7953"
             ],
             [
              0.7777777777777778,
              "#fb9f3a"
             ],
             [
              0.8888888888888888,
              "#fdca26"
             ],
             [
              1,
              "#f0f921"
             ]
            ],
            "type": "histogram2d"
           }
          ],
          "histogram2dcontour": [
           {
            "colorbar": {
             "outlinewidth": 0,
             "ticks": ""
            },
            "colorscale": [
             [
              0,
              "#0d0887"
             ],
             [
              0.1111111111111111,
              "#46039f"
             ],
             [
              0.2222222222222222,
              "#7201a8"
             ],
             [
              0.3333333333333333,
              "#9c179e"
             ],
             [
              0.4444444444444444,
              "#bd3786"
             ],
             [
              0.5555555555555556,
              "#d8576b"
             ],
             [
              0.6666666666666666,
              "#ed7953"
             ],
             [
              0.7777777777777778,
              "#fb9f3a"
             ],
             [
              0.8888888888888888,
              "#fdca26"
             ],
             [
              1,
              "#f0f921"
             ]
            ],
            "type": "histogram2dcontour"
           }
          ],
          "mesh3d": [
           {
            "colorbar": {
             "outlinewidth": 0,
             "ticks": ""
            },
            "type": "mesh3d"
           }
          ],
          "parcoords": [
           {
            "line": {
             "colorbar": {
              "outlinewidth": 0,
              "ticks": ""
             }
            },
            "type": "parcoords"
           }
          ],
          "pie": [
           {
            "automargin": true,
            "type": "pie"
           }
          ],
          "scatter": [
           {
            "marker": {
             "line": {
              "color": "#283442"
             }
            },
            "type": "scatter"
           }
          ],
          "scatter3d": [
           {
            "line": {
             "colorbar": {
              "outlinewidth": 0,
              "ticks": ""
             }
            },
            "marker": {
             "colorbar": {
              "outlinewidth": 0,
              "ticks": ""
             }
            },
            "type": "scatter3d"
           }
          ],
          "scattercarpet": [
           {
            "marker": {
             "colorbar": {
              "outlinewidth": 0,
              "ticks": ""
             }
            },
            "type": "scattercarpet"
           }
          ],
          "scattergeo": [
           {
            "marker": {
             "colorbar": {
              "outlinewidth": 0,
              "ticks": ""
             }
            },
            "type": "scattergeo"
           }
          ],
          "scattergl": [
           {
            "marker": {
             "line": {
              "color": "#283442"
             }
            },
            "type": "scattergl"
           }
          ],
          "scattermapbox": [
           {
            "marker": {
             "colorbar": {
              "outlinewidth": 0,
              "ticks": ""
             }
            },
            "type": "scattermapbox"
           }
          ],
          "scatterpolar": [
           {
            "marker": {
             "colorbar": {
              "outlinewidth": 0,
              "ticks": ""
             }
            },
            "type": "scatterpolar"
           }
          ],
          "scatterpolargl": [
           {
            "marker": {
             "colorbar": {
              "outlinewidth": 0,
              "ticks": ""
             }
            },
            "type": "scatterpolargl"
           }
          ],
          "scatterternary": [
           {
            "marker": {
             "colorbar": {
              "outlinewidth": 0,
              "ticks": ""
             }
            },
            "type": "scatterternary"
           }
          ],
          "surface": [
           {
            "colorbar": {
             "outlinewidth": 0,
             "ticks": ""
            },
            "colorscale": [
             [
              0,
              "#0d0887"
             ],
             [
              0.1111111111111111,
              "#46039f"
             ],
             [
              0.2222222222222222,
              "#7201a8"
             ],
             [
              0.3333333333333333,
              "#9c179e"
             ],
             [
              0.4444444444444444,
              "#bd3786"
             ],
             [
              0.5555555555555556,
              "#d8576b"
             ],
             [
              0.6666666666666666,
              "#ed7953"
             ],
             [
              0.7777777777777778,
              "#fb9f3a"
             ],
             [
              0.8888888888888888,
              "#fdca26"
             ],
             [
              1,
              "#f0f921"
             ]
            ],
            "type": "surface"
           }
          ],
          "table": [
           {
            "cells": {
             "fill": {
              "color": "#506784"
             },
             "line": {
              "color": "rgb(17,17,17)"
             }
            },
            "header": {
             "fill": {
              "color": "#2a3f5f"
             },
             "line": {
              "color": "rgb(17,17,17)"
             }
            },
            "type": "table"
           }
          ]
         },
         "layout": {
          "annotationdefaults": {
           "arrowcolor": "#f2f5fa",
           "arrowhead": 0,
           "arrowwidth": 1
          },
          "autotypenumbers": "strict",
          "coloraxis": {
           "colorbar": {
            "outlinewidth": 0,
            "ticks": ""
           }
          },
          "colorscale": {
           "diverging": [
            [
             0,
             "#8e0152"
            ],
            [
             0.1,
             "#c51b7d"
            ],
            [
             0.2,
             "#de77ae"
            ],
            [
             0.3,
             "#f1b6da"
            ],
            [
             0.4,
             "#fde0ef"
            ],
            [
             0.5,
             "#f7f7f7"
            ],
            [
             0.6,
             "#e6f5d0"
            ],
            [
             0.7,
             "#b8e186"
            ],
            [
             0.8,
             "#7fbc41"
            ],
            [
             0.9,
             "#4d9221"
            ],
            [
             1,
             "#276419"
            ]
           ],
           "sequential": [
            [
             0,
             "#0d0887"
            ],
            [
             0.1111111111111111,
             "#46039f"
            ],
            [
             0.2222222222222222,
             "#7201a8"
            ],
            [
             0.3333333333333333,
             "#9c179e"
            ],
            [
             0.4444444444444444,
             "#bd3786"
            ],
            [
             0.5555555555555556,
             "#d8576b"
            ],
            [
             0.6666666666666666,
             "#ed7953"
            ],
            [
             0.7777777777777778,
             "#fb9f3a"
            ],
            [
             0.8888888888888888,
             "#fdca26"
            ],
            [
             1,
             "#f0f921"
            ]
           ],
           "sequentialminus": [
            [
             0,
             "#0d0887"
            ],
            [
             0.1111111111111111,
             "#46039f"
            ],
            [
             0.2222222222222222,
             "#7201a8"
            ],
            [
             0.3333333333333333,
             "#9c179e"
            ],
            [
             0.4444444444444444,
             "#bd3786"
            ],
            [
             0.5555555555555556,
             "#d8576b"
            ],
            [
             0.6666666666666666,
             "#ed7953"
            ],
            [
             0.7777777777777778,
             "#fb9f3a"
            ],
            [
             0.8888888888888888,
             "#fdca26"
            ],
            [
             1,
             "#f0f921"
            ]
           ]
          },
          "colorway": [
           "#636efa",
           "#EF553B",
           "#00cc96",
           "#ab63fa",
           "#FFA15A",
           "#19d3f3",
           "#FF6692",
           "#B6E880",
           "#FF97FF",
           "#FECB52"
          ],
          "font": {
           "color": "#f2f5fa"
          },
          "geo": {
           "bgcolor": "rgb(17,17,17)",
           "lakecolor": "rgb(17,17,17)",
           "landcolor": "rgb(17,17,17)",
           "showlakes": true,
           "showland": true,
           "subunitcolor": "#506784"
          },
          "hoverlabel": {
           "align": "left"
          },
          "hovermode": "closest",
          "mapbox": {
           "style": "dark"
          },
          "paper_bgcolor": "rgb(17,17,17)",
          "plot_bgcolor": "rgb(17,17,17)",
          "polar": {
           "angularaxis": {
            "gridcolor": "#506784",
            "linecolor": "#506784",
            "ticks": ""
           },
           "bgcolor": "rgb(17,17,17)",
           "radialaxis": {
            "gridcolor": "#506784",
            "linecolor": "#506784",
            "ticks": ""
           }
          },
          "scene": {
           "xaxis": {
            "backgroundcolor": "rgb(17,17,17)",
            "gridcolor": "#506784",
            "gridwidth": 2,
            "linecolor": "#506784",
            "showbackground": true,
            "ticks": "",
            "zerolinecolor": "#C8D4E3"
           },
           "yaxis": {
            "backgroundcolor": "rgb(17,17,17)",
            "gridcolor": "#506784",
            "gridwidth": 2,
            "linecolor": "#506784",
            "showbackground": true,
            "ticks": "",
            "zerolinecolor": "#C8D4E3"
           },
           "zaxis": {
            "backgroundcolor": "rgb(17,17,17)",
            "gridcolor": "#506784",
            "gridwidth": 2,
            "linecolor": "#506784",
            "showbackground": true,
            "ticks": "",
            "zerolinecolor": "#C8D4E3"
           }
          },
          "shapedefaults": {
           "line": {
            "color": "#f2f5fa"
           }
          },
          "sliderdefaults": {
           "bgcolor": "#C8D4E3",
           "bordercolor": "rgb(17,17,17)",
           "borderwidth": 1,
           "tickwidth": 0
          },
          "ternary": {
           "aaxis": {
            "gridcolor": "#506784",
            "linecolor": "#506784",
            "ticks": ""
           },
           "baxis": {
            "gridcolor": "#506784",
            "linecolor": "#506784",
            "ticks": ""
           },
           "bgcolor": "rgb(17,17,17)",
           "caxis": {
            "gridcolor": "#506784",
            "linecolor": "#506784",
            "ticks": ""
           }
          },
          "title": {
           "x": 0.05
          },
          "updatemenudefaults": {
           "bgcolor": "#506784",
           "borderwidth": 0
          },
          "xaxis": {
           "automargin": true,
           "gridcolor": "#283442",
           "linecolor": "#506784",
           "ticks": "",
           "title": {
            "standoff": 15
           },
           "zerolinecolor": "#283442",
           "zerolinewidth": 2
          },
          "yaxis": {
           "automargin": true,
           "gridcolor": "#283442",
           "linecolor": "#506784",
           "ticks": "",
           "title": {
            "standoff": 15
           },
           "zerolinecolor": "#283442",
           "zerolinewidth": 2
          }
         }
        },
        "title": {
         "text": "<b>Normal Probability Plot</b>",
         "x": 0.5,
         "xanchor": "center",
         "y": 0.95,
         "yanchor": "top"
        },
        "xaxis": {
         "anchor": "y",
         "domain": [
          0,
          1
         ],
         "showticklabels": true,
         "title": {
          "text": "Residuals"
         }
        },
        "yaxis": {
         "anchor": "x",
         "domain": [
          0,
          1
         ],
         "title": {
          "text": "Expected Value"
         }
        }
       }
      }
     },
     "metadata": {},
     "output_type": "display_data"
    }
   ],
   "source": [
    "# Normalidad Media 0: Método Gráfico para confirmar que los residuales provienen de una distribución Normal\n",
    "\n",
    "fig = mejorModelo['qqplot'].update_layout(hovermode='x unified', margin=dict(r=20, b=20),autosize=True, plot_bgcolor='#000', paper_bgcolor='#000').update_xaxes(showticklabels=True).update_traces(hoverlabel=dict(bgcolor='#fff'))\n",
    "\n",
    "config = {\n",
    "    'responsive':True,\n",
    "    'scrollZoom':False,\n",
    "    'staticPlot':False,\n",
    "    'displayModeBar':False\n",
    "}\n",
    "\n",
    "fig.show(config=config)"
   ]
  },
  {
   "cell_type": "code",
   "execution_count": 13,
   "metadata": {},
   "outputs": [
    {
     "data": {
      "application/vnd.plotly.v1+json": {
       "config": {
        "displayModeBar": false,
        "plotlyServerURL": "https://plot.ly",
        "responsive": true,
        "scrollZoom": false,
        "staticPlot": false
       },
       "data": [
        {
         "alignmentgroup": "True",
         "bingroup": "x",
         "histfunc": "sum",
         "hoverlabel": {
          "bgcolor": "#fff"
         },
         "hovertemplate": "Residuals=%{x}<br>sum of Frequence=%{y}<extra></extra>",
         "legendgroup": "",
         "marker": {
          "color": "blue",
          "line": {
           "color": "white",
           "width": 1
          },
          "pattern": {
           "shape": ""
          }
         },
         "name": "",
         "offsetgroup": "",
         "orientation": "v",
         "showlegend": false,
         "type": "histogram",
         "x": [
          "(-616343.0908, -434714.0069)",
          "(-434714.0069, -253084.923)",
          "(-253084.923, -71455.8391)",
          "(-71455.8391, 110173.2448)",
          "(110173.2448, 291802.3287)",
          "(291802.3287, 473431.4126)",
          "(473431.4126, 655060.4962)"
         ],
         "xaxis": "x",
         "y": [
          1,
          9,
          14,
          20,
          8,
          5,
          3
         ],
         "yaxis": "y"
        }
       ],
       "layout": {
        "autosize": true,
        "bargap": 0,
        "barmode": "relative",
        "hovermode": "x unified",
        "legend": {
         "tracegroupgap": 0
        },
        "margin": {
         "b": 20,
         "l": 60,
         "r": 20
        },
        "paper_bgcolor": "#000",
        "plot_bgcolor": "#000",
        "showlegend": false,
        "template": {
         "data": {
          "bar": [
           {
            "error_x": {
             "color": "#f2f5fa"
            },
            "error_y": {
             "color": "#f2f5fa"
            },
            "marker": {
             "line": {
              "color": "rgb(17,17,17)",
              "width": 0.5
             },
             "pattern": {
              "fillmode": "overlay",
              "size": 10,
              "solidity": 0.2
             }
            },
            "type": "bar"
           }
          ],
          "barpolar": [
           {
            "marker": {
             "line": {
              "color": "rgb(17,17,17)",
              "width": 0.5
             },
             "pattern": {
              "fillmode": "overlay",
              "size": 10,
              "solidity": 0.2
             }
            },
            "type": "barpolar"
           }
          ],
          "carpet": [
           {
            "aaxis": {
             "endlinecolor": "#A2B1C6",
             "gridcolor": "#506784",
             "linecolor": "#506784",
             "minorgridcolor": "#506784",
             "startlinecolor": "#A2B1C6"
            },
            "baxis": {
             "endlinecolor": "#A2B1C6",
             "gridcolor": "#506784",
             "linecolor": "#506784",
             "minorgridcolor": "#506784",
             "startlinecolor": "#A2B1C6"
            },
            "type": "carpet"
           }
          ],
          "choropleth": [
           {
            "colorbar": {
             "outlinewidth": 0,
             "ticks": ""
            },
            "type": "choropleth"
           }
          ],
          "contour": [
           {
            "colorbar": {
             "outlinewidth": 0,
             "ticks": ""
            },
            "colorscale": [
             [
              0,
              "#0d0887"
             ],
             [
              0.1111111111111111,
              "#46039f"
             ],
             [
              0.2222222222222222,
              "#7201a8"
             ],
             [
              0.3333333333333333,
              "#9c179e"
             ],
             [
              0.4444444444444444,
              "#bd3786"
             ],
             [
              0.5555555555555556,
              "#d8576b"
             ],
             [
              0.6666666666666666,
              "#ed7953"
             ],
             [
              0.7777777777777778,
              "#fb9f3a"
             ],
             [
              0.8888888888888888,
              "#fdca26"
             ],
             [
              1,
              "#f0f921"
             ]
            ],
            "type": "contour"
           }
          ],
          "contourcarpet": [
           {
            "colorbar": {
             "outlinewidth": 0,
             "ticks": ""
            },
            "type": "contourcarpet"
           }
          ],
          "heatmap": [
           {
            "colorbar": {
             "outlinewidth": 0,
             "ticks": ""
            },
            "colorscale": [
             [
              0,
              "#0d0887"
             ],
             [
              0.1111111111111111,
              "#46039f"
             ],
             [
              0.2222222222222222,
              "#7201a8"
             ],
             [
              0.3333333333333333,
              "#9c179e"
             ],
             [
              0.4444444444444444,
              "#bd3786"
             ],
             [
              0.5555555555555556,
              "#d8576b"
             ],
             [
              0.6666666666666666,
              "#ed7953"
             ],
             [
              0.7777777777777778,
              "#fb9f3a"
             ],
             [
              0.8888888888888888,
              "#fdca26"
             ],
             [
              1,
              "#f0f921"
             ]
            ],
            "type": "heatmap"
           }
          ],
          "heatmapgl": [
           {
            "colorbar": {
             "outlinewidth": 0,
             "ticks": ""
            },
            "colorscale": [
             [
              0,
              "#0d0887"
             ],
             [
              0.1111111111111111,
              "#46039f"
             ],
             [
              0.2222222222222222,
              "#7201a8"
             ],
             [
              0.3333333333333333,
              "#9c179e"
             ],
             [
              0.4444444444444444,
              "#bd3786"
             ],
             [
              0.5555555555555556,
              "#d8576b"
             ],
             [
              0.6666666666666666,
              "#ed7953"
             ],
             [
              0.7777777777777778,
              "#fb9f3a"
             ],
             [
              0.8888888888888888,
              "#fdca26"
             ],
             [
              1,
              "#f0f921"
             ]
            ],
            "type": "heatmapgl"
           }
          ],
          "histogram": [
           {
            "marker": {
             "pattern": {
              "fillmode": "overlay",
              "size": 10,
              "solidity": 0.2
             }
            },
            "type": "histogram"
           }
          ],
          "histogram2d": [
           {
            "colorbar": {
             "outlinewidth": 0,
             "ticks": ""
            },
            "colorscale": [
             [
              0,
              "#0d0887"
             ],
             [
              0.1111111111111111,
              "#46039f"
             ],
             [
              0.2222222222222222,
              "#7201a8"
             ],
             [
              0.3333333333333333,
              "#9c179e"
             ],
             [
              0.4444444444444444,
              "#bd3786"
             ],
             [
              0.5555555555555556,
              "#d8576b"
             ],
             [
              0.6666666666666666,
              "#ed7953"
             ],
             [
              0.7777777777777778,
              "#fb9f3a"
             ],
             [
              0.8888888888888888,
              "#fdca26"
             ],
             [
              1,
              "#f0f921"
             ]
            ],
            "type": "histogram2d"
           }
          ],
          "histogram2dcontour": [
           {
            "colorbar": {
             "outlinewidth": 0,
             "ticks": ""
            },
            "colorscale": [
             [
              0,
              "#0d0887"
             ],
             [
              0.1111111111111111,
              "#46039f"
             ],
             [
              0.2222222222222222,
              "#7201a8"
             ],
             [
              0.3333333333333333,
              "#9c179e"
             ],
             [
              0.4444444444444444,
              "#bd3786"
             ],
             [
              0.5555555555555556,
              "#d8576b"
             ],
             [
              0.6666666666666666,
              "#ed7953"
             ],
             [
              0.7777777777777778,
              "#fb9f3a"
             ],
             [
              0.8888888888888888,
              "#fdca26"
             ],
             [
              1,
              "#f0f921"
             ]
            ],
            "type": "histogram2dcontour"
           }
          ],
          "mesh3d": [
           {
            "colorbar": {
             "outlinewidth": 0,
             "ticks": ""
            },
            "type": "mesh3d"
           }
          ],
          "parcoords": [
           {
            "line": {
             "colorbar": {
              "outlinewidth": 0,
              "ticks": ""
             }
            },
            "type": "parcoords"
           }
          ],
          "pie": [
           {
            "automargin": true,
            "type": "pie"
           }
          ],
          "scatter": [
           {
            "marker": {
             "line": {
              "color": "#283442"
             }
            },
            "type": "scatter"
           }
          ],
          "scatter3d": [
           {
            "line": {
             "colorbar": {
              "outlinewidth": 0,
              "ticks": ""
             }
            },
            "marker": {
             "colorbar": {
              "outlinewidth": 0,
              "ticks": ""
             }
            },
            "type": "scatter3d"
           }
          ],
          "scattercarpet": [
           {
            "marker": {
             "colorbar": {
              "outlinewidth": 0,
              "ticks": ""
             }
            },
            "type": "scattercarpet"
           }
          ],
          "scattergeo": [
           {
            "marker": {
             "colorbar": {
              "outlinewidth": 0,
              "ticks": ""
             }
            },
            "type": "scattergeo"
           }
          ],
          "scattergl": [
           {
            "marker": {
             "line": {
              "color": "#283442"
             }
            },
            "type": "scattergl"
           }
          ],
          "scattermapbox": [
           {
            "marker": {
             "colorbar": {
              "outlinewidth": 0,
              "ticks": ""
             }
            },
            "type": "scattermapbox"
           }
          ],
          "scatterpolar": [
           {
            "marker": {
             "colorbar": {
              "outlinewidth": 0,
              "ticks": ""
             }
            },
            "type": "scatterpolar"
           }
          ],
          "scatterpolargl": [
           {
            "marker": {
             "colorbar": {
              "outlinewidth": 0,
              "ticks": ""
             }
            },
            "type": "scatterpolargl"
           }
          ],
          "scatterternary": [
           {
            "marker": {
             "colorbar": {
              "outlinewidth": 0,
              "ticks": ""
             }
            },
            "type": "scatterternary"
           }
          ],
          "surface": [
           {
            "colorbar": {
             "outlinewidth": 0,
             "ticks": ""
            },
            "colorscale": [
             [
              0,
              "#0d0887"
             ],
             [
              0.1111111111111111,
              "#46039f"
             ],
             [
              0.2222222222222222,
              "#7201a8"
             ],
             [
              0.3333333333333333,
              "#9c179e"
             ],
             [
              0.4444444444444444,
              "#bd3786"
             ],
             [
              0.5555555555555556,
              "#d8576b"
             ],
             [
              0.6666666666666666,
              "#ed7953"
             ],
             [
              0.7777777777777778,
              "#fb9f3a"
             ],
             [
              0.8888888888888888,
              "#fdca26"
             ],
             [
              1,
              "#f0f921"
             ]
            ],
            "type": "surface"
           }
          ],
          "table": [
           {
            "cells": {
             "fill": {
              "color": "#506784"
             },
             "line": {
              "color": "rgb(17,17,17)"
             }
            },
            "header": {
             "fill": {
              "color": "#2a3f5f"
             },
             "line": {
              "color": "rgb(17,17,17)"
             }
            },
            "type": "table"
           }
          ]
         },
         "layout": {
          "annotationdefaults": {
           "arrowcolor": "#f2f5fa",
           "arrowhead": 0,
           "arrowwidth": 1
          },
          "autotypenumbers": "strict",
          "coloraxis": {
           "colorbar": {
            "outlinewidth": 0,
            "ticks": ""
           }
          },
          "colorscale": {
           "diverging": [
            [
             0,
             "#8e0152"
            ],
            [
             0.1,
             "#c51b7d"
            ],
            [
             0.2,
             "#de77ae"
            ],
            [
             0.3,
             "#f1b6da"
            ],
            [
             0.4,
             "#fde0ef"
            ],
            [
             0.5,
             "#f7f7f7"
            ],
            [
             0.6,
             "#e6f5d0"
            ],
            [
             0.7,
             "#b8e186"
            ],
            [
             0.8,
             "#7fbc41"
            ],
            [
             0.9,
             "#4d9221"
            ],
            [
             1,
             "#276419"
            ]
           ],
           "sequential": [
            [
             0,
             "#0d0887"
            ],
            [
             0.1111111111111111,
             "#46039f"
            ],
            [
             0.2222222222222222,
             "#7201a8"
            ],
            [
             0.3333333333333333,
             "#9c179e"
            ],
            [
             0.4444444444444444,
             "#bd3786"
            ],
            [
             0.5555555555555556,
             "#d8576b"
            ],
            [
             0.6666666666666666,
             "#ed7953"
            ],
            [
             0.7777777777777778,
             "#fb9f3a"
            ],
            [
             0.8888888888888888,
             "#fdca26"
            ],
            [
             1,
             "#f0f921"
            ]
           ],
           "sequentialminus": [
            [
             0,
             "#0d0887"
            ],
            [
             0.1111111111111111,
             "#46039f"
            ],
            [
             0.2222222222222222,
             "#7201a8"
            ],
            [
             0.3333333333333333,
             "#9c179e"
            ],
            [
             0.4444444444444444,
             "#bd3786"
            ],
            [
             0.5555555555555556,
             "#d8576b"
            ],
            [
             0.6666666666666666,
             "#ed7953"
            ],
            [
             0.7777777777777778,
             "#fb9f3a"
            ],
            [
             0.8888888888888888,
             "#fdca26"
            ],
            [
             1,
             "#f0f921"
            ]
           ]
          },
          "colorway": [
           "#636efa",
           "#EF553B",
           "#00cc96",
           "#ab63fa",
           "#FFA15A",
           "#19d3f3",
           "#FF6692",
           "#B6E880",
           "#FF97FF",
           "#FECB52"
          ],
          "font": {
           "color": "#f2f5fa"
          },
          "geo": {
           "bgcolor": "rgb(17,17,17)",
           "lakecolor": "rgb(17,17,17)",
           "landcolor": "rgb(17,17,17)",
           "showlakes": true,
           "showland": true,
           "subunitcolor": "#506784"
          },
          "hoverlabel": {
           "align": "left"
          },
          "hovermode": "closest",
          "mapbox": {
           "style": "dark"
          },
          "paper_bgcolor": "rgb(17,17,17)",
          "plot_bgcolor": "rgb(17,17,17)",
          "polar": {
           "angularaxis": {
            "gridcolor": "#506784",
            "linecolor": "#506784",
            "ticks": ""
           },
           "bgcolor": "rgb(17,17,17)",
           "radialaxis": {
            "gridcolor": "#506784",
            "linecolor": "#506784",
            "ticks": ""
           }
          },
          "scene": {
           "xaxis": {
            "backgroundcolor": "rgb(17,17,17)",
            "gridcolor": "#506784",
            "gridwidth": 2,
            "linecolor": "#506784",
            "showbackground": true,
            "ticks": "",
            "zerolinecolor": "#C8D4E3"
           },
           "yaxis": {
            "backgroundcolor": "rgb(17,17,17)",
            "gridcolor": "#506784",
            "gridwidth": 2,
            "linecolor": "#506784",
            "showbackground": true,
            "ticks": "",
            "zerolinecolor": "#C8D4E3"
           },
           "zaxis": {
            "backgroundcolor": "rgb(17,17,17)",
            "gridcolor": "#506784",
            "gridwidth": 2,
            "linecolor": "#506784",
            "showbackground": true,
            "ticks": "",
            "zerolinecolor": "#C8D4E3"
           }
          },
          "shapedefaults": {
           "line": {
            "color": "#f2f5fa"
           }
          },
          "sliderdefaults": {
           "bgcolor": "#C8D4E3",
           "bordercolor": "rgb(17,17,17)",
           "borderwidth": 1,
           "tickwidth": 0
          },
          "ternary": {
           "aaxis": {
            "gridcolor": "#506784",
            "linecolor": "#506784",
            "ticks": ""
           },
           "baxis": {
            "gridcolor": "#506784",
            "linecolor": "#506784",
            "ticks": ""
           },
           "bgcolor": "rgb(17,17,17)",
           "caxis": {
            "gridcolor": "#506784",
            "linecolor": "#506784",
            "ticks": ""
           }
          },
          "title": {
           "x": 0.05
          },
          "updatemenudefaults": {
           "bgcolor": "#506784",
           "borderwidth": 0
          },
          "xaxis": {
           "automargin": true,
           "gridcolor": "#283442",
           "linecolor": "#506784",
           "ticks": "",
           "title": {
            "standoff": 15
           },
           "zerolinecolor": "#283442",
           "zerolinewidth": 2
          },
          "yaxis": {
           "automargin": true,
           "gridcolor": "#283442",
           "linecolor": "#506784",
           "ticks": "",
           "title": {
            "standoff": 15
           },
           "zerolinecolor": "#283442",
           "zerolinewidth": 2
          }
         }
        },
        "title": {
         "text": "Histogram",
         "x": 0.5,
         "xanchor": "center",
         "y": 0.95,
         "yanchor": "top"
        },
        "xaxis": {
         "anchor": "y",
         "domain": [
          0,
          1
         ],
         "showticklabels": false,
         "title": {
          "text": "Residuals"
         }
        },
        "yaxis": {
         "anchor": "x",
         "domain": [
          0,
          1
         ],
         "title": {
          "text": "Frequence"
         }
        }
       }
      }
     },
     "metadata": {},
     "output_type": "display_data"
    }
   ],
   "source": [
    "# Normalidad Media 0: Método Gráfico para confirmar que los residuales provienen de una distribución Normal con media 0\n",
    "\n",
    "fig = mejorModelo['normal_0_mean_hist'].update_layout(hovermode='x unified').update_layout(margin=dict(r=20, b=20, l=60), autosize=True, plot_bgcolor='#000', paper_bgcolor='#000').update_xaxes(showticklabels=False).update_traces(hoverlabel=dict(bgcolor='#fff'))\n",
    "\n",
    "fig.show(config=config)"
   ]
  },
  {
   "cell_type": "code",
   "execution_count": 21,
   "metadata": {},
   "outputs": [
    {
     "name": "stdout",
     "output_type": "stream",
     "text": [
      "4.8779 < 11.0705, Residuals come from a Normal distribution with mean 0\n"
     ]
    }
   ],
   "source": [
    "# Normalidad Media 0: Método Analítico para afirmar la hipótesis\n",
    "print(mejorModelo['normal_0_mean_assumption'])"
   ]
  },
  {
   "cell_type": "markdown",
   "metadata": {},
   "source": [
    "# 2. Supuesto de Varianza Constante de los Residuales\n",
    "\n",
    "Un segundo supuesto crucial en la regresión lineal es la varianza constante de los residuales, también conocida como homocedasticidad. Esto significa que la variabilidad de los errores debe ser constante a lo largo de todos los valores de predicción. Si este supuesto no se cumple (heterocedasticidad), puede indicar que el modelo tiene dificultad para ajustar algunas regiones de los datos, lo cual afectaría la precisión y validez de las predicciones.\n",
    "\n",
    "## Verificación Gráfica con el Versus Fit Plot\n",
    "\n",
    "Para evaluar este supuesto, utilizamos el Versus Fit Plot, un gráfico de dispersión en el que el eje \"x\" representa las respuestas estimadas del modelo, y el eje \"y\" muestra los residuales. Si los puntos en este gráfico están dispersos de manera aleatoria y no siguen ningún patrón o tendencia, podemos asumir que la varianza de los residuales es constante. En cambio, si los puntos muestran una forma o patrón específico (por ejemplo, en forma de abanico o cono), esto indicaría heterocedasticidad.\n",
    "\n",
    "### Análisis del Versus Fit Plot\n",
    "Al observar el Versus Fit Plot, notamos que los puntos se distribuyen de manera uniforme alrededor del eje horizontal sin un patrón discernible. Esto indica que los residuales presentan una varianza constante en todas las estimaciones de nuestro modelo, confirmando que el supuesto de homocedasticidad se cumple."
   ]
  },
  {
   "cell_type": "code",
   "execution_count": 14,
   "metadata": {},
   "outputs": [
    {
     "data": {
      "application/vnd.plotly.v1+json": {
       "config": {
        "displayModeBar": false,
        "plotlyServerURL": "https://plot.ly",
        "responsive": true,
        "scrollZoom": false,
        "staticPlot": false
       },
       "data": [
        {
         "hoverlabel": {
          "bgcolor": "#fff"
         },
         "hovertemplate": "Fitted Value: %{x}<br>Residuals: %{y}",
         "legendgroup": "",
         "line": {
          "dash": "dot"
         },
         "marker": {
          "color": "blue",
          "coloraxis": "coloraxis",
          "size": 8,
          "symbol": "circle"
         },
         "mode": "markers",
         "name": "",
         "orientation": "v",
         "showlegend": false,
         "type": "scatter",
         "x": [
          18237483.355891965,
          19180407.71749137,
          18258973.19212085,
          18766257.853294857,
          17537930.90672745,
          18142522.320323225,
          17501699.031240907,
          18124897.77882813,
          16778340.073774077,
          17789968.13143523,
          16773578.967512522,
          15171314.609412367,
          17729063.35828879,
          18922924.64917567,
          18462347.7654861,
          18874508.420437526,
          18583219.32024588,
          19086433.646580745,
          18537555.433244675,
          19001961.263529666,
          18025108.948985368,
          18846372.928568054,
          17877258.375956062,
          18048196.287602123,
          17381869.470212277,
          18261712.46834381,
          17511219.692111123,
          17740773.819072995,
          16777820.02008393,
          17728452.571560808,
          17175064.48736839,
          16839465.7894833,
          16173816.092945179,
          17268558.005294047,
          16722709.423002359,
          16660951.844217649,
          16083857.061484188,
          16805325.27221908,
          16097919.164286546,
          16253815.592086785,
          15748471.996322926,
          16818468.147649832,
          16263522.565083103,
          16127904.320158716,
          15843903.5318063,
          16372768.465333188,
          15781886.3275472,
          15516220.699180132,
          14932423.29036441,
          15561732.325919135,
          14902019.742467128,
          14954115.783238884,
          14368915.392782293,
          14981341.671559282,
          14419311.812949158,
          14363767.80261542,
          14368491.899766356,
          15078522.104560116,
          14386075.560480854,
          15673993.691881653
         ],
         "xaxis": "x",
         "y": [
          182048.48510803282,
          -260676.2414913699,
          54546.53787915036,
          -369921.0342948586,
          219371.90227254853,
          131723.93567677587,
          63562.318759094924,
          -151179.48382812738,
          655060.4962259233,
          304361.07156477123,
          68976.33948747814,
          -144656.20041236654,
          344293.0267112106,
          -65126.708175670356,
          -91014.36248609796,
          -410997.665437527,
          -343140.3712458797,
          -101518.7855807431,
          -131725.92924467474,
          -331460.4765296653,
          -6178.1119853667915,
          -100356.92456805333,
          23483.713043939322,
          36576.80139787868,
          375644.61578772217,
          154067.41465619206,
          114421.18888887763,
          40358.62992700562,
          388583.7039160691,
          137930.5094391927,
          156588.95563161,
          421735.6605166979,
          536378.5170548204,
          140218.16270595416,
          -72814.14900235832,
          82500.52178235166,
          78219.13851581141,
          35666.57378092036,
          88189.82771345414,
          108046.36191321537,
          -28686.47632292658,
          -179603.61164983176,
          -310711.3320831042,
          -100438.54915871657,
          -224150.46780630015,
          -233228.81333318725,
          -255870.98254719935,
          -103174.35518013127,
          -29690.227364411578,
          -62127.19991913438,
          19433.06453287229,
          44283.56976111606,
          2806.105217706412,
          -98375.9685592819,
          -187370.36794915795,
          -350830.24361542054,
          -616343.0907663554,
          46531.45743988454,
          593419.1605191473,
          -287659.6368816532
         ],
         "yaxis": "y"
        }
       ],
       "layout": {
        "autosize": true,
        "coloraxis": {
         "colorbar": {
          "title": {
           "text": "Residuals"
          }
         },
         "colorscale": [
          [
           0,
           "#0d0887"
          ],
          [
           0.1111111111111111,
           "#46039f"
          ],
          [
           0.2222222222222222,
           "#7201a8"
          ],
          [
           0.3333333333333333,
           "#9c179e"
          ],
          [
           0.4444444444444444,
           "#bd3786"
          ],
          [
           0.5555555555555556,
           "#d8576b"
          ],
          [
           0.6666666666666666,
           "#ed7953"
          ],
          [
           0.7777777777777778,
           "#fb9f3a"
          ],
          [
           0.8888888888888888,
           "#fdca26"
          ],
          [
           1,
           "#f0f921"
          ]
         ]
        },
        "hovermode": "x unified",
        "legend": {
         "tracegroupgap": 0
        },
        "margin": {
         "b": 20,
         "r": 20,
         "t": 60
        },
        "paper_bgcolor": "#000",
        "plot_bgcolor": "#000",
        "shapes": [
         {
          "line": {
           "color": "white",
           "dash": "dot"
          },
          "type": "line",
          "x0": 14363767.80261542,
          "x1": 19180407.71749137,
          "y0": 0,
          "y1": 0
         }
        ],
        "template": {
         "data": {
          "bar": [
           {
            "error_x": {
             "color": "#f2f5fa"
            },
            "error_y": {
             "color": "#f2f5fa"
            },
            "marker": {
             "line": {
              "color": "rgb(17,17,17)",
              "width": 0.5
             },
             "pattern": {
              "fillmode": "overlay",
              "size": 10,
              "solidity": 0.2
             }
            },
            "type": "bar"
           }
          ],
          "barpolar": [
           {
            "marker": {
             "line": {
              "color": "rgb(17,17,17)",
              "width": 0.5
             },
             "pattern": {
              "fillmode": "overlay",
              "size": 10,
              "solidity": 0.2
             }
            },
            "type": "barpolar"
           }
          ],
          "carpet": [
           {
            "aaxis": {
             "endlinecolor": "#A2B1C6",
             "gridcolor": "#506784",
             "linecolor": "#506784",
             "minorgridcolor": "#506784",
             "startlinecolor": "#A2B1C6"
            },
            "baxis": {
             "endlinecolor": "#A2B1C6",
             "gridcolor": "#506784",
             "linecolor": "#506784",
             "minorgridcolor": "#506784",
             "startlinecolor": "#A2B1C6"
            },
            "type": "carpet"
           }
          ],
          "choropleth": [
           {
            "colorbar": {
             "outlinewidth": 0,
             "ticks": ""
            },
            "type": "choropleth"
           }
          ],
          "contour": [
           {
            "colorbar": {
             "outlinewidth": 0,
             "ticks": ""
            },
            "colorscale": [
             [
              0,
              "#0d0887"
             ],
             [
              0.1111111111111111,
              "#46039f"
             ],
             [
              0.2222222222222222,
              "#7201a8"
             ],
             [
              0.3333333333333333,
              "#9c179e"
             ],
             [
              0.4444444444444444,
              "#bd3786"
             ],
             [
              0.5555555555555556,
              "#d8576b"
             ],
             [
              0.6666666666666666,
              "#ed7953"
             ],
             [
              0.7777777777777778,
              "#fb9f3a"
             ],
             [
              0.8888888888888888,
              "#fdca26"
             ],
             [
              1,
              "#f0f921"
             ]
            ],
            "type": "contour"
           }
          ],
          "contourcarpet": [
           {
            "colorbar": {
             "outlinewidth": 0,
             "ticks": ""
            },
            "type": "contourcarpet"
           }
          ],
          "heatmap": [
           {
            "colorbar": {
             "outlinewidth": 0,
             "ticks": ""
            },
            "colorscale": [
             [
              0,
              "#0d0887"
             ],
             [
              0.1111111111111111,
              "#46039f"
             ],
             [
              0.2222222222222222,
              "#7201a8"
             ],
             [
              0.3333333333333333,
              "#9c179e"
             ],
             [
              0.4444444444444444,
              "#bd3786"
             ],
             [
              0.5555555555555556,
              "#d8576b"
             ],
             [
              0.6666666666666666,
              "#ed7953"
             ],
             [
              0.7777777777777778,
              "#fb9f3a"
             ],
             [
              0.8888888888888888,
              "#fdca26"
             ],
             [
              1,
              "#f0f921"
             ]
            ],
            "type": "heatmap"
           }
          ],
          "heatmapgl": [
           {
            "colorbar": {
             "outlinewidth": 0,
             "ticks": ""
            },
            "colorscale": [
             [
              0,
              "#0d0887"
             ],
             [
              0.1111111111111111,
              "#46039f"
             ],
             [
              0.2222222222222222,
              "#7201a8"
             ],
             [
              0.3333333333333333,
              "#9c179e"
             ],
             [
              0.4444444444444444,
              "#bd3786"
             ],
             [
              0.5555555555555556,
              "#d8576b"
             ],
             [
              0.6666666666666666,
              "#ed7953"
             ],
             [
              0.7777777777777778,
              "#fb9f3a"
             ],
             [
              0.8888888888888888,
              "#fdca26"
             ],
             [
              1,
              "#f0f921"
             ]
            ],
            "type": "heatmapgl"
           }
          ],
          "histogram": [
           {
            "marker": {
             "pattern": {
              "fillmode": "overlay",
              "size": 10,
              "solidity": 0.2
             }
            },
            "type": "histogram"
           }
          ],
          "histogram2d": [
           {
            "colorbar": {
             "outlinewidth": 0,
             "ticks": ""
            },
            "colorscale": [
             [
              0,
              "#0d0887"
             ],
             [
              0.1111111111111111,
              "#46039f"
             ],
             [
              0.2222222222222222,
              "#7201a8"
             ],
             [
              0.3333333333333333,
              "#9c179e"
             ],
             [
              0.4444444444444444,
              "#bd3786"
             ],
             [
              0.5555555555555556,
              "#d8576b"
             ],
             [
              0.6666666666666666,
              "#ed7953"
             ],
             [
              0.7777777777777778,
              "#fb9f3a"
             ],
             [
              0.8888888888888888,
              "#fdca26"
             ],
             [
              1,
              "#f0f921"
             ]
            ],
            "type": "histogram2d"
           }
          ],
          "histogram2dcontour": [
           {
            "colorbar": {
             "outlinewidth": 0,
             "ticks": ""
            },
            "colorscale": [
             [
              0,
              "#0d0887"
             ],
             [
              0.1111111111111111,
              "#46039f"
             ],
             [
              0.2222222222222222,
              "#7201a8"
             ],
             [
              0.3333333333333333,
              "#9c179e"
             ],
             [
              0.4444444444444444,
              "#bd3786"
             ],
             [
              0.5555555555555556,
              "#d8576b"
             ],
             [
              0.6666666666666666,
              "#ed7953"
             ],
             [
              0.7777777777777778,
              "#fb9f3a"
             ],
             [
              0.8888888888888888,
              "#fdca26"
             ],
             [
              1,
              "#f0f921"
             ]
            ],
            "type": "histogram2dcontour"
           }
          ],
          "mesh3d": [
           {
            "colorbar": {
             "outlinewidth": 0,
             "ticks": ""
            },
            "type": "mesh3d"
           }
          ],
          "parcoords": [
           {
            "line": {
             "colorbar": {
              "outlinewidth": 0,
              "ticks": ""
             }
            },
            "type": "parcoords"
           }
          ],
          "pie": [
           {
            "automargin": true,
            "type": "pie"
           }
          ],
          "scatter": [
           {
            "marker": {
             "line": {
              "color": "#283442"
             }
            },
            "type": "scatter"
           }
          ],
          "scatter3d": [
           {
            "line": {
             "colorbar": {
              "outlinewidth": 0,
              "ticks": ""
             }
            },
            "marker": {
             "colorbar": {
              "outlinewidth": 0,
              "ticks": ""
             }
            },
            "type": "scatter3d"
           }
          ],
          "scattercarpet": [
           {
            "marker": {
             "colorbar": {
              "outlinewidth": 0,
              "ticks": ""
             }
            },
            "type": "scattercarpet"
           }
          ],
          "scattergeo": [
           {
            "marker": {
             "colorbar": {
              "outlinewidth": 0,
              "ticks": ""
             }
            },
            "type": "scattergeo"
           }
          ],
          "scattergl": [
           {
            "marker": {
             "line": {
              "color": "#283442"
             }
            },
            "type": "scattergl"
           }
          ],
          "scattermapbox": [
           {
            "marker": {
             "colorbar": {
              "outlinewidth": 0,
              "ticks": ""
             }
            },
            "type": "scattermapbox"
           }
          ],
          "scatterpolar": [
           {
            "marker": {
             "colorbar": {
              "outlinewidth": 0,
              "ticks": ""
             }
            },
            "type": "scatterpolar"
           }
          ],
          "scatterpolargl": [
           {
            "marker": {
             "colorbar": {
              "outlinewidth": 0,
              "ticks": ""
             }
            },
            "type": "scatterpolargl"
           }
          ],
          "scatterternary": [
           {
            "marker": {
             "colorbar": {
              "outlinewidth": 0,
              "ticks": ""
             }
            },
            "type": "scatterternary"
           }
          ],
          "surface": [
           {
            "colorbar": {
             "outlinewidth": 0,
             "ticks": ""
            },
            "colorscale": [
             [
              0,
              "#0d0887"
             ],
             [
              0.1111111111111111,
              "#46039f"
             ],
             [
              0.2222222222222222,
              "#7201a8"
             ],
             [
              0.3333333333333333,
              "#9c179e"
             ],
             [
              0.4444444444444444,
              "#bd3786"
             ],
             [
              0.5555555555555556,
              "#d8576b"
             ],
             [
              0.6666666666666666,
              "#ed7953"
             ],
             [
              0.7777777777777778,
              "#fb9f3a"
             ],
             [
              0.8888888888888888,
              "#fdca26"
             ],
             [
              1,
              "#f0f921"
             ]
            ],
            "type": "surface"
           }
          ],
          "table": [
           {
            "cells": {
             "fill": {
              "color": "#506784"
             },
             "line": {
              "color": "rgb(17,17,17)"
             }
            },
            "header": {
             "fill": {
              "color": "#2a3f5f"
             },
             "line": {
              "color": "rgb(17,17,17)"
             }
            },
            "type": "table"
           }
          ]
         },
         "layout": {
          "annotationdefaults": {
           "arrowcolor": "#f2f5fa",
           "arrowhead": 0,
           "arrowwidth": 1
          },
          "autotypenumbers": "strict",
          "coloraxis": {
           "colorbar": {
            "outlinewidth": 0,
            "ticks": ""
           }
          },
          "colorscale": {
           "diverging": [
            [
             0,
             "#8e0152"
            ],
            [
             0.1,
             "#c51b7d"
            ],
            [
             0.2,
             "#de77ae"
            ],
            [
             0.3,
             "#f1b6da"
            ],
            [
             0.4,
             "#fde0ef"
            ],
            [
             0.5,
             "#f7f7f7"
            ],
            [
             0.6,
             "#e6f5d0"
            ],
            [
             0.7,
             "#b8e186"
            ],
            [
             0.8,
             "#7fbc41"
            ],
            [
             0.9,
             "#4d9221"
            ],
            [
             1,
             "#276419"
            ]
           ],
           "sequential": [
            [
             0,
             "#0d0887"
            ],
            [
             0.1111111111111111,
             "#46039f"
            ],
            [
             0.2222222222222222,
             "#7201a8"
            ],
            [
             0.3333333333333333,
             "#9c179e"
            ],
            [
             0.4444444444444444,
             "#bd3786"
            ],
            [
             0.5555555555555556,
             "#d8576b"
            ],
            [
             0.6666666666666666,
             "#ed7953"
            ],
            [
             0.7777777777777778,
             "#fb9f3a"
            ],
            [
             0.8888888888888888,
             "#fdca26"
            ],
            [
             1,
             "#f0f921"
            ]
           ],
           "sequentialminus": [
            [
             0,
             "#0d0887"
            ],
            [
             0.1111111111111111,
             "#46039f"
            ],
            [
             0.2222222222222222,
             "#7201a8"
            ],
            [
             0.3333333333333333,
             "#9c179e"
            ],
            [
             0.4444444444444444,
             "#bd3786"
            ],
            [
             0.5555555555555556,
             "#d8576b"
            ],
            [
             0.6666666666666666,
             "#ed7953"
            ],
            [
             0.7777777777777778,
             "#fb9f3a"
            ],
            [
             0.8888888888888888,
             "#fdca26"
            ],
            [
             1,
             "#f0f921"
            ]
           ]
          },
          "colorway": [
           "#636efa",
           "#EF553B",
           "#00cc96",
           "#ab63fa",
           "#FFA15A",
           "#19d3f3",
           "#FF6692",
           "#B6E880",
           "#FF97FF",
           "#FECB52"
          ],
          "font": {
           "color": "#f2f5fa"
          },
          "geo": {
           "bgcolor": "rgb(17,17,17)",
           "lakecolor": "rgb(17,17,17)",
           "landcolor": "rgb(17,17,17)",
           "showlakes": true,
           "showland": true,
           "subunitcolor": "#506784"
          },
          "hoverlabel": {
           "align": "left"
          },
          "hovermode": "closest",
          "mapbox": {
           "style": "dark"
          },
          "paper_bgcolor": "rgb(17,17,17)",
          "plot_bgcolor": "rgb(17,17,17)",
          "polar": {
           "angularaxis": {
            "gridcolor": "#506784",
            "linecolor": "#506784",
            "ticks": ""
           },
           "bgcolor": "rgb(17,17,17)",
           "radialaxis": {
            "gridcolor": "#506784",
            "linecolor": "#506784",
            "ticks": ""
           }
          },
          "scene": {
           "xaxis": {
            "backgroundcolor": "rgb(17,17,17)",
            "gridcolor": "#506784",
            "gridwidth": 2,
            "linecolor": "#506784",
            "showbackground": true,
            "ticks": "",
            "zerolinecolor": "#C8D4E3"
           },
           "yaxis": {
            "backgroundcolor": "rgb(17,17,17)",
            "gridcolor": "#506784",
            "gridwidth": 2,
            "linecolor": "#506784",
            "showbackground": true,
            "ticks": "",
            "zerolinecolor": "#C8D4E3"
           },
           "zaxis": {
            "backgroundcolor": "rgb(17,17,17)",
            "gridcolor": "#506784",
            "gridwidth": 2,
            "linecolor": "#506784",
            "showbackground": true,
            "ticks": "",
            "zerolinecolor": "#C8D4E3"
           }
          },
          "shapedefaults": {
           "line": {
            "color": "#f2f5fa"
           }
          },
          "sliderdefaults": {
           "bgcolor": "#C8D4E3",
           "bordercolor": "rgb(17,17,17)",
           "borderwidth": 1,
           "tickwidth": 0
          },
          "ternary": {
           "aaxis": {
            "gridcolor": "#506784",
            "linecolor": "#506784",
            "ticks": ""
           },
           "baxis": {
            "gridcolor": "#506784",
            "linecolor": "#506784",
            "ticks": ""
           },
           "bgcolor": "rgb(17,17,17)",
           "caxis": {
            "gridcolor": "#506784",
            "linecolor": "#506784",
            "ticks": ""
           }
          },
          "title": {
           "x": 0.05
          },
          "updatemenudefaults": {
           "bgcolor": "#506784",
           "borderwidth": 0
          },
          "xaxis": {
           "automargin": true,
           "gridcolor": "#283442",
           "linecolor": "#506784",
           "ticks": "",
           "title": {
            "standoff": 15
           },
           "zerolinecolor": "#283442",
           "zerolinewidth": 2
          },
          "yaxis": {
           "automargin": true,
           "gridcolor": "#283442",
           "linecolor": "#506784",
           "ticks": "",
           "title": {
            "standoff": 15
           },
           "zerolinecolor": "#283442",
           "zerolinewidth": 2
          }
         }
        },
        "title": {
         "text": "<b>Versus Fits</b>",
         "x": 0.5,
         "xanchor": "center",
         "y": 0.95,
         "yanchor": "top"
        },
        "xaxis": {
         "anchor": "y",
         "domain": [
          0,
          1
         ],
         "showticklabels": true,
         "title": {
          "text": "Fitted Value"
         }
        },
        "yaxis": {
         "anchor": "x",
         "domain": [
          0,
          1
         ],
         "title": {
          "text": "Residuals"
         }
        }
       }
      }
     },
     "metadata": {},
     "output_type": "display_data"
    }
   ],
   "source": [
    "fig = mejorModelo['versus_fit'].update_layout(hovermode='x unified').update_layout(margin=dict(r=20, b=20), autosize=True, plot_bgcolor='#000', paper_bgcolor='#000').update_xaxes(showticklabels=True).update_traces(hoverlabel=dict(bgcolor='#fff'))\n",
    "\n",
    "fig.show(config=config)"
   ]
  },
  {
   "cell_type": "markdown",
   "metadata": {},
   "source": [
    "# 3. Supuesto de Errores No Correlacionados\n",
    "\n",
    "Para que un modelo de regresión lineal sea válido, los errores o residuales deben ser independientes entre sí. Esto significa que el valor de un error no debe depender del valor de los errores anteriores, es decir, los errores deben estar no correlacionados. Si se presenta correlación, el modelo podría estar dejando patrones sin explicar, afectando la precisión de sus predicciones.\n",
    "\n",
    "## Método Gráfico: Versus Order Plot\n",
    "\n",
    "Una forma de validar la no correlación de los errores es mediante el Versus Order Plot. En este gráfico, el eje \"x\" representa la posición de cada observación en el orden temporal (1, 2, ..., n), y el eje \"y\" muestra el valor de los residuales. Este gráfico ayuda a identificar si los errores siguen algún patrón en función del tiempo u orden de observación. Si no se observa ningún patrón claro o tendencia en la dispersión de los puntos, podemos asumir que los errores no están correlacionados.\n",
    "\n",
    "### Análisis Gráfico\n",
    "Al observar el Versus Order Plot, notamos que no se presenta ningún patrón discernible o tendencia evidente en los residuales a través del tiempo, lo cual sugiere que los errores no están correlacionados. Por esta razón, podemos concluir que el supuesto de no correlación se cumple en base al análisis gráfico.\n",
    "\n",
    "## Método Analítico: Prueba de Durbin-Watson\n",
    "\n",
    "Para complementar la validación de este supuesto, utilizamos la prueba de Durbin-Watson, que es una prueba estadística que detecta la presencia de autocorrelación de primer orden en los errores de un modelo de regresión. Esta prueba es útil en contextos donde los errores se registran a intervalos de tiempo regulares y puede confirmar si existe correlación entre errores consecutivos.\n",
    "\n",
    "### Análisis de la Prueba de Durbin-Watson\n",
    "En este caso, los resultados de la prueba de Durbin-Watson no fueron concluyentes, por lo cual nos basamos en el análisis visual obtenido del Versus Order Plot. Dado que el gráfico no muestra un patrón de correlación, concluimos que se cumple el supuesto de no correlación en los errores."
   ]
  },
  {
   "cell_type": "code",
   "execution_count": 15,
   "metadata": {},
   "outputs": [
    {
     "data": {
      "application/vnd.plotly.v1+json": {
       "config": {
        "displayModeBar": false,
        "plotlyServerURL": "https://plot.ly",
        "responsive": true,
        "scrollZoom": false,
        "staticPlot": false
       },
       "data": [
        {
         "hoverlabel": {
          "bgcolor": "#fff"
         },
         "hovertemplate": "Observation Order: %{x}<br>Residuals: %{y}",
         "legendgroup": "",
         "line": {
          "dash": "dot"
         },
         "marker": {
          "color": "blue",
          "coloraxis": "coloraxis",
          "size": 8,
          "symbol": "circle"
         },
         "mode": "markers",
         "name": "",
         "orientation": "v",
         "showlegend": false,
         "type": "scatter",
         "x": [
          1,
          2,
          3,
          4,
          5,
          6,
          7,
          8,
          9,
          10,
          11,
          12,
          13,
          14,
          15,
          16,
          17,
          18,
          19,
          20,
          21,
          22,
          23,
          24,
          25,
          26,
          27,
          28,
          29,
          30,
          31,
          32,
          33,
          34,
          35,
          36,
          37,
          38,
          39,
          40,
          41,
          42,
          43,
          44,
          45,
          46,
          47,
          48,
          49,
          50,
          51,
          52,
          53,
          54,
          55,
          56,
          57,
          58,
          59,
          60
         ],
         "xaxis": "x",
         "y": [
          182048.48510803282,
          -260676.2414913699,
          54546.53787915036,
          -369921.0342948586,
          219371.90227254853,
          131723.93567677587,
          63562.318759094924,
          -151179.48382812738,
          655060.4962259233,
          304361.07156477123,
          68976.33948747814,
          -144656.20041236654,
          344293.0267112106,
          -65126.708175670356,
          -91014.36248609796,
          -410997.665437527,
          -343140.3712458797,
          -101518.7855807431,
          -131725.92924467474,
          -331460.4765296653,
          -6178.1119853667915,
          -100356.92456805333,
          23483.713043939322,
          36576.80139787868,
          375644.61578772217,
          154067.41465619206,
          114421.18888887763,
          40358.62992700562,
          388583.7039160691,
          137930.5094391927,
          156588.95563161,
          421735.6605166979,
          536378.5170548204,
          140218.16270595416,
          -72814.14900235832,
          82500.52178235166,
          78219.13851581141,
          35666.57378092036,
          88189.82771345414,
          108046.36191321537,
          -28686.47632292658,
          -179603.61164983176,
          -310711.3320831042,
          -100438.54915871657,
          -224150.46780630015,
          -233228.81333318725,
          -255870.98254719935,
          -103174.35518013127,
          -29690.227364411578,
          -62127.19991913438,
          19433.06453287229,
          44283.56976111606,
          2806.105217706412,
          -98375.9685592819,
          -187370.36794915795,
          -350830.24361542054,
          -616343.0907663554,
          46531.45743988454,
          593419.1605191473,
          -287659.6368816532
         ],
         "yaxis": "y"
        },
        {
         "hoverlabel": {
          "bgcolor": "#fff"
         },
         "hovertemplate": "Observation Order=%{x}<br>Residuals=%{y}<extra></extra>",
         "legendgroup": "",
         "line": {
          "color": "blue",
          "dash": "solid",
          "width": 2
         },
         "marker": {
          "symbol": "circle"
         },
         "mode": "lines",
         "name": "",
         "orientation": "v",
         "showlegend": false,
         "type": "scatter",
         "x": [
          1,
          2,
          3,
          4,
          5,
          6,
          7,
          8,
          9,
          10,
          11,
          12,
          13,
          14,
          15,
          16,
          17,
          18,
          19,
          20,
          21,
          22,
          23,
          24,
          25,
          26,
          27,
          28,
          29,
          30,
          31,
          32,
          33,
          34,
          35,
          36,
          37,
          38,
          39,
          40,
          41,
          42,
          43,
          44,
          45,
          46,
          47,
          48,
          49,
          50,
          51,
          52,
          53,
          54,
          55,
          56,
          57,
          58,
          59,
          60
         ],
         "xaxis": "x",
         "y": [
          182048.48510803282,
          -260676.2414913699,
          54546.53787915036,
          -369921.0342948586,
          219371.90227254853,
          131723.93567677587,
          63562.318759094924,
          -151179.48382812738,
          655060.4962259233,
          304361.07156477123,
          68976.33948747814,
          -144656.20041236654,
          344293.0267112106,
          -65126.708175670356,
          -91014.36248609796,
          -410997.665437527,
          -343140.3712458797,
          -101518.7855807431,
          -131725.92924467474,
          -331460.4765296653,
          -6178.1119853667915,
          -100356.92456805333,
          23483.713043939322,
          36576.80139787868,
          375644.61578772217,
          154067.41465619206,
          114421.18888887763,
          40358.62992700562,
          388583.7039160691,
          137930.5094391927,
          156588.95563161,
          421735.6605166979,
          536378.5170548204,
          140218.16270595416,
          -72814.14900235832,
          82500.52178235166,
          78219.13851581141,
          35666.57378092036,
          88189.82771345414,
          108046.36191321537,
          -28686.47632292658,
          -179603.61164983176,
          -310711.3320831042,
          -100438.54915871657,
          -224150.46780630015,
          -233228.81333318725,
          -255870.98254719935,
          -103174.35518013127,
          -29690.227364411578,
          -62127.19991913438,
          19433.06453287229,
          44283.56976111606,
          2806.105217706412,
          -98375.9685592819,
          -187370.36794915795,
          -350830.24361542054,
          -616343.0907663554,
          46531.45743988454,
          593419.1605191473,
          -287659.6368816532
         ],
         "yaxis": "y"
        }
       ],
       "layout": {
        "autosize": true,
        "coloraxis": {
         "colorbar": {
          "title": {
           "text": "Residuals"
          }
         },
         "colorscale": [
          [
           0,
           "#0d0887"
          ],
          [
           0.1111111111111111,
           "#46039f"
          ],
          [
           0.2222222222222222,
           "#7201a8"
          ],
          [
           0.3333333333333333,
           "#9c179e"
          ],
          [
           0.4444444444444444,
           "#bd3786"
          ],
          [
           0.5555555555555556,
           "#d8576b"
          ],
          [
           0.6666666666666666,
           "#ed7953"
          ],
          [
           0.7777777777777778,
           "#fb9f3a"
          ],
          [
           0.8888888888888888,
           "#fdca26"
          ],
          [
           1,
           "#f0f921"
          ]
         ]
        },
        "hovermode": "x unified",
        "legend": {
         "tracegroupgap": 0
        },
        "margin": {
         "b": 20,
         "r": 20,
         "t": 60
        },
        "paper_bgcolor": "#000",
        "plot_bgcolor": "#000",
        "shapes": [
         {
          "line": {
           "color": "white",
           "dash": "dot"
          },
          "type": "line",
          "x0": 1,
          "x1": 60,
          "y0": 0,
          "y1": 0
         }
        ],
        "template": {
         "data": {
          "bar": [
           {
            "error_x": {
             "color": "#f2f5fa"
            },
            "error_y": {
             "color": "#f2f5fa"
            },
            "marker": {
             "line": {
              "color": "rgb(17,17,17)",
              "width": 0.5
             },
             "pattern": {
              "fillmode": "overlay",
              "size": 10,
              "solidity": 0.2
             }
            },
            "type": "bar"
           }
          ],
          "barpolar": [
           {
            "marker": {
             "line": {
              "color": "rgb(17,17,17)",
              "width": 0.5
             },
             "pattern": {
              "fillmode": "overlay",
              "size": 10,
              "solidity": 0.2
             }
            },
            "type": "barpolar"
           }
          ],
          "carpet": [
           {
            "aaxis": {
             "endlinecolor": "#A2B1C6",
             "gridcolor": "#506784",
             "linecolor": "#506784",
             "minorgridcolor": "#506784",
             "startlinecolor": "#A2B1C6"
            },
            "baxis": {
             "endlinecolor": "#A2B1C6",
             "gridcolor": "#506784",
             "linecolor": "#506784",
             "minorgridcolor": "#506784",
             "startlinecolor": "#A2B1C6"
            },
            "type": "carpet"
           }
          ],
          "choropleth": [
           {
            "colorbar": {
             "outlinewidth": 0,
             "ticks": ""
            },
            "type": "choropleth"
           }
          ],
          "contour": [
           {
            "colorbar": {
             "outlinewidth": 0,
             "ticks": ""
            },
            "colorscale": [
             [
              0,
              "#0d0887"
             ],
             [
              0.1111111111111111,
              "#46039f"
             ],
             [
              0.2222222222222222,
              "#7201a8"
             ],
             [
              0.3333333333333333,
              "#9c179e"
             ],
             [
              0.4444444444444444,
              "#bd3786"
             ],
             [
              0.5555555555555556,
              "#d8576b"
             ],
             [
              0.6666666666666666,
              "#ed7953"
             ],
             [
              0.7777777777777778,
              "#fb9f3a"
             ],
             [
              0.8888888888888888,
              "#fdca26"
             ],
             [
              1,
              "#f0f921"
             ]
            ],
            "type": "contour"
           }
          ],
          "contourcarpet": [
           {
            "colorbar": {
             "outlinewidth": 0,
             "ticks": ""
            },
            "type": "contourcarpet"
           }
          ],
          "heatmap": [
           {
            "colorbar": {
             "outlinewidth": 0,
             "ticks": ""
            },
            "colorscale": [
             [
              0,
              "#0d0887"
             ],
             [
              0.1111111111111111,
              "#46039f"
             ],
             [
              0.2222222222222222,
              "#7201a8"
             ],
             [
              0.3333333333333333,
              "#9c179e"
             ],
             [
              0.4444444444444444,
              "#bd3786"
             ],
             [
              0.5555555555555556,
              "#d8576b"
             ],
             [
              0.6666666666666666,
              "#ed7953"
             ],
             [
              0.7777777777777778,
              "#fb9f3a"
             ],
             [
              0.8888888888888888,
              "#fdca26"
             ],
             [
              1,
              "#f0f921"
             ]
            ],
            "type": "heatmap"
           }
          ],
          "heatmapgl": [
           {
            "colorbar": {
             "outlinewidth": 0,
             "ticks": ""
            },
            "colorscale": [
             [
              0,
              "#0d0887"
             ],
             [
              0.1111111111111111,
              "#46039f"
             ],
             [
              0.2222222222222222,
              "#7201a8"
             ],
             [
              0.3333333333333333,
              "#9c179e"
             ],
             [
              0.4444444444444444,
              "#bd3786"
             ],
             [
              0.5555555555555556,
              "#d8576b"
             ],
             [
              0.6666666666666666,
              "#ed7953"
             ],
             [
              0.7777777777777778,
              "#fb9f3a"
             ],
             [
              0.8888888888888888,
              "#fdca26"
             ],
             [
              1,
              "#f0f921"
             ]
            ],
            "type": "heatmapgl"
           }
          ],
          "histogram": [
           {
            "marker": {
             "pattern": {
              "fillmode": "overlay",
              "size": 10,
              "solidity": 0.2
             }
            },
            "type": "histogram"
           }
          ],
          "histogram2d": [
           {
            "colorbar": {
             "outlinewidth": 0,
             "ticks": ""
            },
            "colorscale": [
             [
              0,
              "#0d0887"
             ],
             [
              0.1111111111111111,
              "#46039f"
             ],
             [
              0.2222222222222222,
              "#7201a8"
             ],
             [
              0.3333333333333333,
              "#9c179e"
             ],
             [
              0.4444444444444444,
              "#bd3786"
             ],
             [
              0.5555555555555556,
              "#d8576b"
             ],
             [
              0.6666666666666666,
              "#ed7953"
             ],
             [
              0.7777777777777778,
              "#fb9f3a"
             ],
             [
              0.8888888888888888,
              "#fdca26"
             ],
             [
              1,
              "#f0f921"
             ]
            ],
            "type": "histogram2d"
           }
          ],
          "histogram2dcontour": [
           {
            "colorbar": {
             "outlinewidth": 0,
             "ticks": ""
            },
            "colorscale": [
             [
              0,
              "#0d0887"
             ],
             [
              0.1111111111111111,
              "#46039f"
             ],
             [
              0.2222222222222222,
              "#7201a8"
             ],
             [
              0.3333333333333333,
              "#9c179e"
             ],
             [
              0.4444444444444444,
              "#bd3786"
             ],
             [
              0.5555555555555556,
              "#d8576b"
             ],
             [
              0.6666666666666666,
              "#ed7953"
             ],
             [
              0.7777777777777778,
              "#fb9f3a"
             ],
             [
              0.8888888888888888,
              "#fdca26"
             ],
             [
              1,
              "#f0f921"
             ]
            ],
            "type": "histogram2dcontour"
           }
          ],
          "mesh3d": [
           {
            "colorbar": {
             "outlinewidth": 0,
             "ticks": ""
            },
            "type": "mesh3d"
           }
          ],
          "parcoords": [
           {
            "line": {
             "colorbar": {
              "outlinewidth": 0,
              "ticks": ""
             }
            },
            "type": "parcoords"
           }
          ],
          "pie": [
           {
            "automargin": true,
            "type": "pie"
           }
          ],
          "scatter": [
           {
            "marker": {
             "line": {
              "color": "#283442"
             }
            },
            "type": "scatter"
           }
          ],
          "scatter3d": [
           {
            "line": {
             "colorbar": {
              "outlinewidth": 0,
              "ticks": ""
             }
            },
            "marker": {
             "colorbar": {
              "outlinewidth": 0,
              "ticks": ""
             }
            },
            "type": "scatter3d"
           }
          ],
          "scattercarpet": [
           {
            "marker": {
             "colorbar": {
              "outlinewidth": 0,
              "ticks": ""
             }
            },
            "type": "scattercarpet"
           }
          ],
          "scattergeo": [
           {
            "marker": {
             "colorbar": {
              "outlinewidth": 0,
              "ticks": ""
             }
            },
            "type": "scattergeo"
           }
          ],
          "scattergl": [
           {
            "marker": {
             "line": {
              "color": "#283442"
             }
            },
            "type": "scattergl"
           }
          ],
          "scattermapbox": [
           {
            "marker": {
             "colorbar": {
              "outlinewidth": 0,
              "ticks": ""
             }
            },
            "type": "scattermapbox"
           }
          ],
          "scatterpolar": [
           {
            "marker": {
             "colorbar": {
              "outlinewidth": 0,
              "ticks": ""
             }
            },
            "type": "scatterpolar"
           }
          ],
          "scatterpolargl": [
           {
            "marker": {
             "colorbar": {
              "outlinewidth": 0,
              "ticks": ""
             }
            },
            "type": "scatterpolargl"
           }
          ],
          "scatterternary": [
           {
            "marker": {
             "colorbar": {
              "outlinewidth": 0,
              "ticks": ""
             }
            },
            "type": "scatterternary"
           }
          ],
          "surface": [
           {
            "colorbar": {
             "outlinewidth": 0,
             "ticks": ""
            },
            "colorscale": [
             [
              0,
              "#0d0887"
             ],
             [
              0.1111111111111111,
              "#46039f"
             ],
             [
              0.2222222222222222,
              "#7201a8"
             ],
             [
              0.3333333333333333,
              "#9c179e"
             ],
             [
              0.4444444444444444,
              "#bd3786"
             ],
             [
              0.5555555555555556,
              "#d8576b"
             ],
             [
              0.6666666666666666,
              "#ed7953"
             ],
             [
              0.7777777777777778,
              "#fb9f3a"
             ],
             [
              0.8888888888888888,
              "#fdca26"
             ],
             [
              1,
              "#f0f921"
             ]
            ],
            "type": "surface"
           }
          ],
          "table": [
           {
            "cells": {
             "fill": {
              "color": "#506784"
             },
             "line": {
              "color": "rgb(17,17,17)"
             }
            },
            "header": {
             "fill": {
              "color": "#2a3f5f"
             },
             "line": {
              "color": "rgb(17,17,17)"
             }
            },
            "type": "table"
           }
          ]
         },
         "layout": {
          "annotationdefaults": {
           "arrowcolor": "#f2f5fa",
           "arrowhead": 0,
           "arrowwidth": 1
          },
          "autotypenumbers": "strict",
          "coloraxis": {
           "colorbar": {
            "outlinewidth": 0,
            "ticks": ""
           }
          },
          "colorscale": {
           "diverging": [
            [
             0,
             "#8e0152"
            ],
            [
             0.1,
             "#c51b7d"
            ],
            [
             0.2,
             "#de77ae"
            ],
            [
             0.3,
             "#f1b6da"
            ],
            [
             0.4,
             "#fde0ef"
            ],
            [
             0.5,
             "#f7f7f7"
            ],
            [
             0.6,
             "#e6f5d0"
            ],
            [
             0.7,
             "#b8e186"
            ],
            [
             0.8,
             "#7fbc41"
            ],
            [
             0.9,
             "#4d9221"
            ],
            [
             1,
             "#276419"
            ]
           ],
           "sequential": [
            [
             0,
             "#0d0887"
            ],
            [
             0.1111111111111111,
             "#46039f"
            ],
            [
             0.2222222222222222,
             "#7201a8"
            ],
            [
             0.3333333333333333,
             "#9c179e"
            ],
            [
             0.4444444444444444,
             "#bd3786"
            ],
            [
             0.5555555555555556,
             "#d8576b"
            ],
            [
             0.6666666666666666,
             "#ed7953"
            ],
            [
             0.7777777777777778,
             "#fb9f3a"
            ],
            [
             0.8888888888888888,
             "#fdca26"
            ],
            [
             1,
             "#f0f921"
            ]
           ],
           "sequentialminus": [
            [
             0,
             "#0d0887"
            ],
            [
             0.1111111111111111,
             "#46039f"
            ],
            [
             0.2222222222222222,
             "#7201a8"
            ],
            [
             0.3333333333333333,
             "#9c179e"
            ],
            [
             0.4444444444444444,
             "#bd3786"
            ],
            [
             0.5555555555555556,
             "#d8576b"
            ],
            [
             0.6666666666666666,
             "#ed7953"
            ],
            [
             0.7777777777777778,
             "#fb9f3a"
            ],
            [
             0.8888888888888888,
             "#fdca26"
            ],
            [
             1,
             "#f0f921"
            ]
           ]
          },
          "colorway": [
           "#636efa",
           "#EF553B",
           "#00cc96",
           "#ab63fa",
           "#FFA15A",
           "#19d3f3",
           "#FF6692",
           "#B6E880",
           "#FF97FF",
           "#FECB52"
          ],
          "font": {
           "color": "#f2f5fa"
          },
          "geo": {
           "bgcolor": "rgb(17,17,17)",
           "lakecolor": "rgb(17,17,17)",
           "landcolor": "rgb(17,17,17)",
           "showlakes": true,
           "showland": true,
           "subunitcolor": "#506784"
          },
          "hoverlabel": {
           "align": "left"
          },
          "hovermode": "closest",
          "mapbox": {
           "style": "dark"
          },
          "paper_bgcolor": "rgb(17,17,17)",
          "plot_bgcolor": "rgb(17,17,17)",
          "polar": {
           "angularaxis": {
            "gridcolor": "#506784",
            "linecolor": "#506784",
            "ticks": ""
           },
           "bgcolor": "rgb(17,17,17)",
           "radialaxis": {
            "gridcolor": "#506784",
            "linecolor": "#506784",
            "ticks": ""
           }
          },
          "scene": {
           "xaxis": {
            "backgroundcolor": "rgb(17,17,17)",
            "gridcolor": "#506784",
            "gridwidth": 2,
            "linecolor": "#506784",
            "showbackground": true,
            "ticks": "",
            "zerolinecolor": "#C8D4E3"
           },
           "yaxis": {
            "backgroundcolor": "rgb(17,17,17)",
            "gridcolor": "#506784",
            "gridwidth": 2,
            "linecolor": "#506784",
            "showbackground": true,
            "ticks": "",
            "zerolinecolor": "#C8D4E3"
           },
           "zaxis": {
            "backgroundcolor": "rgb(17,17,17)",
            "gridcolor": "#506784",
            "gridwidth": 2,
            "linecolor": "#506784",
            "showbackground": true,
            "ticks": "",
            "zerolinecolor": "#C8D4E3"
           }
          },
          "shapedefaults": {
           "line": {
            "color": "#f2f5fa"
           }
          },
          "sliderdefaults": {
           "bgcolor": "#C8D4E3",
           "bordercolor": "rgb(17,17,17)",
           "borderwidth": 1,
           "tickwidth": 0
          },
          "ternary": {
           "aaxis": {
            "gridcolor": "#506784",
            "linecolor": "#506784",
            "ticks": ""
           },
           "baxis": {
            "gridcolor": "#506784",
            "linecolor": "#506784",
            "ticks": ""
           },
           "bgcolor": "rgb(17,17,17)",
           "caxis": {
            "gridcolor": "#506784",
            "linecolor": "#506784",
            "ticks": ""
           }
          },
          "title": {
           "x": 0.05
          },
          "updatemenudefaults": {
           "bgcolor": "#506784",
           "borderwidth": 0
          },
          "xaxis": {
           "automargin": true,
           "gridcolor": "#283442",
           "linecolor": "#506784",
           "ticks": "",
           "title": {
            "standoff": 15
           },
           "zerolinecolor": "#283442",
           "zerolinewidth": 2
          },
          "yaxis": {
           "automargin": true,
           "gridcolor": "#283442",
           "linecolor": "#506784",
           "ticks": "",
           "title": {
            "standoff": 15
           },
           "zerolinecolor": "#283442",
           "zerolinewidth": 2
          }
         }
        },
        "title": {
         "text": "<b>Versus Order</b>",
         "x": 0.5,
         "xanchor": "center",
         "y": 0.95,
         "yanchor": "top"
        },
        "xaxis": {
         "anchor": "y",
         "domain": [
          0,
          1
         ],
         "showticklabels": true,
         "title": {
          "text": "Observation Order"
         }
        },
        "yaxis": {
         "anchor": "x",
         "domain": [
          0,
          1
         ],
         "title": {
          "text": "Residuals"
         }
        }
       }
      }
     },
     "metadata": {},
     "output_type": "display_data"
    }
   ],
   "source": [
    "fig = mejorModelo['versus_order'].update_layout(hovermode='x unified', margin=dict(r=20, b=20), autosize=True, plot_bgcolor='#000', paper_bgcolor='#000').update_xaxes(showticklabels=True).update_traces(hoverlabel=dict(bgcolor='#fff'))\n",
    "\n",
    "fig.show(config=config)"
   ]
  },
  {
   "cell_type": "code",
   "execution_count": 24,
   "metadata": {},
   "outputs": [
    {
     "name": "stdout",
     "output_type": "stream",
     "text": [
      "1.29758 < 1.354938851715875 < 1.89393, Inconclusive test.\n"
     ]
    }
   ],
   "source": [
    "print(mejorModelo['incorrel_res_assumption'])"
   ]
  },
  {
   "cell_type": "markdown",
   "metadata": {},
   "source": [
    "# Detección de Datos Atípicos\n",
    "\n",
    "La identificación de datos atípicos es fundamental en el análisis de regresión, ya que estos pueden influir negativamente en el ajuste y en la precisión del modelo. Para abordar esta cuestión, aplicamos un método de residuos estandarizados, que permite evaluar si alguna observación se desvía significativamente del comportamiento general de los datos.\n",
    "\n",
    "## Descripción del Método\n",
    "\n",
    "El método de residuos estandarizados consiste en calcular un residuo ajustado para cada observación, tomando en cuenta su influencia en el modelo. De esta manera, podemos detectar observaciones inusuales. En este análisis, una observación se considera atípica si su residuo estandarizado tiene un valor absoluto mayor a 3.\n",
    "\n",
    "### Proceso de Detección\n",
    "- Cálculo de Residuos Estandarizados: Se calcula el residuo estandarizado de cada observación.\n",
    "- Criterio de Detección de Datos Atípicos: Se consideran atípicas aquellas observaciones cuyo residuo estandarizado excede el valor absoluto de 3.\n",
    "\n",
    "## Análisis y Conclusión\n",
    "\n",
    "En este caso, el análisis no detectó datos atípicos, lo cual indica que todas las observaciones están dentro de un rango aceptable de variabilidad. Esto significa que no hay valores extremos que puedan distorsionar la interpretación del modelo.\n",
    "\n",
    "La ausencia de datos atípicos nos permite afirmar que el modelo es estable y confiable, representando de manera adecuada la relación entre las variables sin ser afectado por puntos de datos inusuales."
   ]
  },
  {
   "cell_type": "code",
   "execution_count": 24,
   "metadata": {},
   "outputs": [
    {
     "name": "stdout",
     "output_type": "stream",
     "text": [
      "There is not atypical data in the sample\n"
     ]
    }
   ],
   "source": [
    "print(mejorModelo['atypical_data'])"
   ]
  },
  {
   "cell_type": "markdown",
   "metadata": {},
   "source": [
    "# Conclusión del Modelo\n",
    "\n",
    "Tras realizar un análisis exhaustivo de nuestro modelo de regresión, evaluamos y verificamos cada uno de los supuestos fundamentales: normalidad de los residuales, varianza constante, independencia de errores y ausencia de datos atípicos. Cada uno de estos pasos contribuyó a confirmar que nuestro modelo cumple con los requisitos estadísticos necesarios para considerarlo robusto y confiable.\n",
    "\n",
    "La ausencia de patrones o tendencias en los residuales y la confirmación de una varianza constante indican que el modelo captura de manera estable la relación entre las variables. Asimismo, la verificación de errores no correlacionados y la falta de observaciones atípicas refuerzan que el modelo no está distorsionado por influencias externas o inusuales en los datos.\n",
    "\n",
    "En conjunto, estos resultados validan que nuestro modelo es estadísticamente sólido y adecuado para realizar predicciones confiables, ofreciendo un alto grado de precisión y rendimiento en su aplicación práctica."
   ]
  },
  {
   "cell_type": "markdown",
   "metadata": {},
   "source": [
    "# Gráfico de Línea de Valores Reales vs. Valores Estimados\n",
    "\n",
    "A continuación, mostramos un gráfico de línea que compara los valores reales con los valores estimados del modelo, permitiéndonos evaluar visualmente su precisión. Superponer ambas series facilita la observación de cómo de cerca el modelo sigue las tendencias y variaciones de los datos reales, ofreciendo una visión intuitiva de su efectividad predictiva."
   ]
  },
  {
   "cell_type": "code",
   "execution_count": 16,
   "metadata": {},
   "outputs": [
    {
     "data": {
      "application/vnd.plotly.v1+json": {
       "config": {
        "displayModeBar": false,
        "plotlyServerURL": "https://plot.ly",
        "responsive": true,
        "scrollZoom": false,
        "staticPlot": false
       },
       "data": [
        {
         "hoverlabel": {
          "bgcolor": "#fff",
          "font": {
           "color": "#fff"
          }
         },
         "mode": "lines",
         "name": "PIB Nacional",
         "type": "scatter",
         "x": [
          "2008/02",
          "2008/03",
          "2008/04",
          "2009/01",
          "2009/02",
          "2009/03",
          "2009/04",
          "2010/01",
          "2010/02",
          "2010/03",
          "2010/04",
          "2011/01",
          "2011/02",
          "2011/03",
          "2011/04",
          "2012/01",
          "2012/02",
          "2012/03",
          "2012/04",
          "2013/01",
          "2013/02",
          "2013/03",
          "2013/04",
          "2014/01",
          "2014/02",
          "2014/03",
          "2014/04",
          "2015/01",
          "2015/02",
          "2015/03",
          "2015/04",
          "2016/01",
          "2016/02",
          "2016/03",
          "2016/04",
          "2017/01",
          "2017/02",
          "2017/03",
          "2017/04",
          "2018/01",
          "2018/02",
          "2018/03",
          "2018/04",
          "2019/01",
          "2019/02",
          "2019/03",
          "2019/04",
          "2020/01",
          "2020/02",
          "2020/03",
          "2020/04",
          "2021/01",
          "2021/02",
          "2021/03",
          "2021/04",
          "2022/01",
          "2022/02",
          "2022/03",
          "2022/04",
          "2023/01"
         ],
         "y": [
          15386334.055,
          14979494.721,
          15125053.562,
          13752148.809,
          14012937.559,
          14231941.445,
          14882965.703,
          14371721.498,
          14998399.353,
          14921452.807,
          15499605.126,
          14902733.063,
          15413046.344,
          15526015.345,
          16139539.652,
          15619753.064,
          16027465.771,
          15952811.233,
          16638864.536,
          15719785.52,
          16361861.954,
          16186108.992,
          16840991.846,
          16162076.2,
          16743452.366,
          16649895.274,
          17408776.168,
          16710194.61,
          17261201.45,
          17331653.443,
          17866383.081,
          17166403.724,
          17781132.449,
          17625640.881,
          18415779.883,
          17757514.086,
          18084773.089,
          17900742.089,
          18746016.004,
          18018930.837,
          18670500.787,
          18405829.504,
          18984914.861,
          18240078.949,
          18463510.755,
          18371333.403,
          18857797.941,
          18073356.385,
          15026658.409,
          16842555.307,
          18094329.203,
          17433400.57,
          17973718.295,
          17565261.35,
          18274246.256,
          17757302.809,
          18396336.819,
          18313519.73,
          18919731.476,
          18419531.841
         ]
        },
        {
         "hoverlabel": {
          "bgcolor": "#fff",
          "font": {
           "color": "#fff"
          }
         },
         "mode": "lines",
         "name": "Ŷ",
         "type": "scatter",
         "x": [
          "2008/02",
          "2008/03",
          "2008/04",
          "2009/01",
          "2009/02",
          "2009/03",
          "2009/04",
          "2010/01",
          "2010/02",
          "2010/03",
          "2010/04",
          "2011/01",
          "2011/02",
          "2011/03",
          "2011/04",
          "2012/01",
          "2012/02",
          "2012/03",
          "2012/04",
          "2013/01",
          "2013/02",
          "2013/03",
          "2013/04",
          "2014/01",
          "2014/02",
          "2014/03",
          "2014/04",
          "2015/01",
          "2015/02",
          "2015/03",
          "2015/04",
          "2016/01",
          "2016/02",
          "2016/03",
          "2016/04",
          "2017/01",
          "2017/02",
          "2017/03",
          "2017/04",
          "2018/01",
          "2018/02",
          "2018/03",
          "2018/04",
          "2019/01",
          "2019/02",
          "2019/03",
          "2019/04",
          "2020/01",
          "2020/02",
          "2020/03",
          "2020/04",
          "2021/01",
          "2021/02",
          "2021/03",
          "2021/04",
          "2022/01",
          "2022/02",
          "2022/03",
          "2022/04",
          "2023/01"
         ],
         "y": [
          15673993.691881653,
          14386075.560480854,
          15078522.104560116,
          14368491.899766356,
          14363767.80261542,
          14419311.812949158,
          14981341.671559282,
          14368915.392782293,
          14954115.783238884,
          14902019.742467128,
          15561732.325919135,
          14932423.29036441,
          15516220.699180132,
          15781886.3275472,
          16372768.465333188,
          15843903.5318063,
          16127904.320158716,
          16263522.565083103,
          16818468.147649832,
          15748471.996322926,
          16253815.592086785,
          16097919.164286546,
          16805325.27221908,
          16083857.061484188,
          16660951.844217649,
          16722709.423002359,
          17268558.005294047,
          16173816.092945179,
          16839465.7894833,
          17175064.48736839,
          17728452.571560808,
          16777820.02008393,
          17740773.819072995,
          17511219.692111123,
          18261712.46834381,
          17381869.470212277,
          18048196.287602123,
          17877258.375956062,
          18846372.928568054,
          18025108.948985368,
          19001961.263529666,
          18537555.433244675,
          19086433.646580745,
          18583219.32024588,
          18874508.420437526,
          18462347.7654861,
          18922924.64917567,
          17729063.35828879,
          15171314.609412367,
          16773578.967512522,
          17789968.13143523,
          16778340.073774077,
          18124897.77882813,
          17501699.031240907,
          18142522.320323225,
          17537930.90672745,
          18766257.853294857,
          18258973.19212085,
          19180407.71749137,
          18237483.355891965
         ]
        }
       ],
       "layout": {
        "autosize": true,
        "hovermode": "x unified",
        "legend": {
         "font": {
          "color": "white"
         }
        },
        "margin": {
         "b": 20,
         "l": 20,
         "r": 20,
         "t": 50
        },
        "paper_bgcolor": "#000",
        "plot_bgcolor": "#000",
        "template": {
         "data": {
          "bar": [
           {
            "error_x": {
             "color": "rgb(36,36,36)"
            },
            "error_y": {
             "color": "rgb(36,36,36)"
            },
            "marker": {
             "line": {
              "color": "white",
              "width": 0.5
             },
             "pattern": {
              "fillmode": "overlay",
              "size": 10,
              "solidity": 0.2
             }
            },
            "type": "bar"
           }
          ],
          "barpolar": [
           {
            "marker": {
             "line": {
              "color": "white",
              "width": 0.5
             },
             "pattern": {
              "fillmode": "overlay",
              "size": 10,
              "solidity": 0.2
             }
            },
            "type": "barpolar"
           }
          ],
          "carpet": [
           {
            "aaxis": {
             "endlinecolor": "rgb(36,36,36)",
             "gridcolor": "white",
             "linecolor": "white",
             "minorgridcolor": "white",
             "startlinecolor": "rgb(36,36,36)"
            },
            "baxis": {
             "endlinecolor": "rgb(36,36,36)",
             "gridcolor": "white",
             "linecolor": "white",
             "minorgridcolor": "white",
             "startlinecolor": "rgb(36,36,36)"
            },
            "type": "carpet"
           }
          ],
          "choropleth": [
           {
            "colorbar": {
             "outlinewidth": 1,
             "tickcolor": "rgb(36,36,36)",
             "ticks": "outside"
            },
            "type": "choropleth"
           }
          ],
          "contour": [
           {
            "colorbar": {
             "outlinewidth": 1,
             "tickcolor": "rgb(36,36,36)",
             "ticks": "outside"
            },
            "colorscale": [
             [
              0,
              "#440154"
             ],
             [
              0.1111111111111111,
              "#482878"
             ],
             [
              0.2222222222222222,
              "#3e4989"
             ],
             [
              0.3333333333333333,
              "#31688e"
             ],
             [
              0.4444444444444444,
              "#26828e"
             ],
             [
              0.5555555555555556,
              "#1f9e89"
             ],
             [
              0.6666666666666666,
              "#35b779"
             ],
             [
              0.7777777777777778,
              "#6ece58"
             ],
             [
              0.8888888888888888,
              "#b5de2b"
             ],
             [
              1,
              "#fde725"
             ]
            ],
            "type": "contour"
           }
          ],
          "contourcarpet": [
           {
            "colorbar": {
             "outlinewidth": 1,
             "tickcolor": "rgb(36,36,36)",
             "ticks": "outside"
            },
            "type": "contourcarpet"
           }
          ],
          "heatmap": [
           {
            "colorbar": {
             "outlinewidth": 1,
             "tickcolor": "rgb(36,36,36)",
             "ticks": "outside"
            },
            "colorscale": [
             [
              0,
              "#440154"
             ],
             [
              0.1111111111111111,
              "#482878"
             ],
             [
              0.2222222222222222,
              "#3e4989"
             ],
             [
              0.3333333333333333,
              "#31688e"
             ],
             [
              0.4444444444444444,
              "#26828e"
             ],
             [
              0.5555555555555556,
              "#1f9e89"
             ],
             [
              0.6666666666666666,
              "#35b779"
             ],
             [
              0.7777777777777778,
              "#6ece58"
             ],
             [
              0.8888888888888888,
              "#b5de2b"
             ],
             [
              1,
              "#fde725"
             ]
            ],
            "type": "heatmap"
           }
          ],
          "heatmapgl": [
           {
            "colorbar": {
             "outlinewidth": 1,
             "tickcolor": "rgb(36,36,36)",
             "ticks": "outside"
            },
            "colorscale": [
             [
              0,
              "#440154"
             ],
             [
              0.1111111111111111,
              "#482878"
             ],
             [
              0.2222222222222222,
              "#3e4989"
             ],
             [
              0.3333333333333333,
              "#31688e"
             ],
             [
              0.4444444444444444,
              "#26828e"
             ],
             [
              0.5555555555555556,
              "#1f9e89"
             ],
             [
              0.6666666666666666,
              "#35b779"
             ],
             [
              0.7777777777777778,
              "#6ece58"
             ],
             [
              0.8888888888888888,
              "#b5de2b"
             ],
             [
              1,
              "#fde725"
             ]
            ],
            "type": "heatmapgl"
           }
          ],
          "histogram": [
           {
            "marker": {
             "line": {
              "color": "white",
              "width": 0.6
             }
            },
            "type": "histogram"
           }
          ],
          "histogram2d": [
           {
            "colorbar": {
             "outlinewidth": 1,
             "tickcolor": "rgb(36,36,36)",
             "ticks": "outside"
            },
            "colorscale": [
             [
              0,
              "#440154"
             ],
             [
              0.1111111111111111,
              "#482878"
             ],
             [
              0.2222222222222222,
              "#3e4989"
             ],
             [
              0.3333333333333333,
              "#31688e"
             ],
             [
              0.4444444444444444,
              "#26828e"
             ],
             [
              0.5555555555555556,
              "#1f9e89"
             ],
             [
              0.6666666666666666,
              "#35b779"
             ],
             [
              0.7777777777777778,
              "#6ece58"
             ],
             [
              0.8888888888888888,
              "#b5de2b"
             ],
             [
              1,
              "#fde725"
             ]
            ],
            "type": "histogram2d"
           }
          ],
          "histogram2dcontour": [
           {
            "colorbar": {
             "outlinewidth": 1,
             "tickcolor": "rgb(36,36,36)",
             "ticks": "outside"
            },
            "colorscale": [
             [
              0,
              "#440154"
             ],
             [
              0.1111111111111111,
              "#482878"
             ],
             [
              0.2222222222222222,
              "#3e4989"
             ],
             [
              0.3333333333333333,
              "#31688e"
             ],
             [
              0.4444444444444444,
              "#26828e"
             ],
             [
              0.5555555555555556,
              "#1f9e89"
             ],
             [
              0.6666666666666666,
              "#35b779"
             ],
             [
              0.7777777777777778,
              "#6ece58"
             ],
             [
              0.8888888888888888,
              "#b5de2b"
             ],
             [
              1,
              "#fde725"
             ]
            ],
            "type": "histogram2dcontour"
           }
          ],
          "mesh3d": [
           {
            "colorbar": {
             "outlinewidth": 1,
             "tickcolor": "rgb(36,36,36)",
             "ticks": "outside"
            },
            "type": "mesh3d"
           }
          ],
          "parcoords": [
           {
            "line": {
             "colorbar": {
              "outlinewidth": 1,
              "tickcolor": "rgb(36,36,36)",
              "ticks": "outside"
             }
            },
            "type": "parcoords"
           }
          ],
          "pie": [
           {
            "automargin": true,
            "type": "pie"
           }
          ],
          "scatter": [
           {
            "fillpattern": {
             "fillmode": "overlay",
             "size": 10,
             "solidity": 0.2
            },
            "type": "scatter"
           }
          ],
          "scatter3d": [
           {
            "line": {
             "colorbar": {
              "outlinewidth": 1,
              "tickcolor": "rgb(36,36,36)",
              "ticks": "outside"
             }
            },
            "marker": {
             "colorbar": {
              "outlinewidth": 1,
              "tickcolor": "rgb(36,36,36)",
              "ticks": "outside"
             }
            },
            "type": "scatter3d"
           }
          ],
          "scattercarpet": [
           {
            "marker": {
             "colorbar": {
              "outlinewidth": 1,
              "tickcolor": "rgb(36,36,36)",
              "ticks": "outside"
             }
            },
            "type": "scattercarpet"
           }
          ],
          "scattergeo": [
           {
            "marker": {
             "colorbar": {
              "outlinewidth": 1,
              "tickcolor": "rgb(36,36,36)",
              "ticks": "outside"
             }
            },
            "type": "scattergeo"
           }
          ],
          "scattergl": [
           {
            "marker": {
             "colorbar": {
              "outlinewidth": 1,
              "tickcolor": "rgb(36,36,36)",
              "ticks": "outside"
             }
            },
            "type": "scattergl"
           }
          ],
          "scattermapbox": [
           {
            "marker": {
             "colorbar": {
              "outlinewidth": 1,
              "tickcolor": "rgb(36,36,36)",
              "ticks": "outside"
             }
            },
            "type": "scattermapbox"
           }
          ],
          "scatterpolar": [
           {
            "marker": {
             "colorbar": {
              "outlinewidth": 1,
              "tickcolor": "rgb(36,36,36)",
              "ticks": "outside"
             }
            },
            "type": "scatterpolar"
           }
          ],
          "scatterpolargl": [
           {
            "marker": {
             "colorbar": {
              "outlinewidth": 1,
              "tickcolor": "rgb(36,36,36)",
              "ticks": "outside"
             }
            },
            "type": "scatterpolargl"
           }
          ],
          "scatterternary": [
           {
            "marker": {
             "colorbar": {
              "outlinewidth": 1,
              "tickcolor": "rgb(36,36,36)",
              "ticks": "outside"
             }
            },
            "type": "scatterternary"
           }
          ],
          "surface": [
           {
            "colorbar": {
             "outlinewidth": 1,
             "tickcolor": "rgb(36,36,36)",
             "ticks": "outside"
            },
            "colorscale": [
             [
              0,
              "#440154"
             ],
             [
              0.1111111111111111,
              "#482878"
             ],
             [
              0.2222222222222222,
              "#3e4989"
             ],
             [
              0.3333333333333333,
              "#31688e"
             ],
             [
              0.4444444444444444,
              "#26828e"
             ],
             [
              0.5555555555555556,
              "#1f9e89"
             ],
             [
              0.6666666666666666,
              "#35b779"
             ],
             [
              0.7777777777777778,
              "#6ece58"
             ],
             [
              0.8888888888888888,
              "#b5de2b"
             ],
             [
              1,
              "#fde725"
             ]
            ],
            "type": "surface"
           }
          ],
          "table": [
           {
            "cells": {
             "fill": {
              "color": "rgb(237,237,237)"
             },
             "line": {
              "color": "white"
             }
            },
            "header": {
             "fill": {
              "color": "rgb(217,217,217)"
             },
             "line": {
              "color": "white"
             }
            },
            "type": "table"
           }
          ]
         },
         "layout": {
          "annotationdefaults": {
           "arrowhead": 0,
           "arrowwidth": 1
          },
          "autotypenumbers": "strict",
          "coloraxis": {
           "colorbar": {
            "outlinewidth": 1,
            "tickcolor": "rgb(36,36,36)",
            "ticks": "outside"
           }
          },
          "colorscale": {
           "diverging": [
            [
             0,
             "rgb(103,0,31)"
            ],
            [
             0.1,
             "rgb(178,24,43)"
            ],
            [
             0.2,
             "rgb(214,96,77)"
            ],
            [
             0.3,
             "rgb(244,165,130)"
            ],
            [
             0.4,
             "rgb(253,219,199)"
            ],
            [
             0.5,
             "rgb(247,247,247)"
            ],
            [
             0.6,
             "rgb(209,229,240)"
            ],
            [
             0.7,
             "rgb(146,197,222)"
            ],
            [
             0.8,
             "rgb(67,147,195)"
            ],
            [
             0.9,
             "rgb(33,102,172)"
            ],
            [
             1,
             "rgb(5,48,97)"
            ]
           ],
           "sequential": [
            [
             0,
             "#440154"
            ],
            [
             0.1111111111111111,
             "#482878"
            ],
            [
             0.2222222222222222,
             "#3e4989"
            ],
            [
             0.3333333333333333,
             "#31688e"
            ],
            [
             0.4444444444444444,
             "#26828e"
            ],
            [
             0.5555555555555556,
             "#1f9e89"
            ],
            [
             0.6666666666666666,
             "#35b779"
            ],
            [
             0.7777777777777778,
             "#6ece58"
            ],
            [
             0.8888888888888888,
             "#b5de2b"
            ],
            [
             1,
             "#fde725"
            ]
           ],
           "sequentialminus": [
            [
             0,
             "#440154"
            ],
            [
             0.1111111111111111,
             "#482878"
            ],
            [
             0.2222222222222222,
             "#3e4989"
            ],
            [
             0.3333333333333333,
             "#31688e"
            ],
            [
             0.4444444444444444,
             "#26828e"
            ],
            [
             0.5555555555555556,
             "#1f9e89"
            ],
            [
             0.6666666666666666,
             "#35b779"
            ],
            [
             0.7777777777777778,
             "#6ece58"
            ],
            [
             0.8888888888888888,
             "#b5de2b"
            ],
            [
             1,
             "#fde725"
            ]
           ]
          },
          "colorway": [
           "#1F77B4",
           "#FF7F0E",
           "#2CA02C",
           "#D62728",
           "#9467BD",
           "#8C564B",
           "#E377C2",
           "#7F7F7F",
           "#BCBD22",
           "#17BECF"
          ],
          "font": {
           "color": "rgb(36,36,36)"
          },
          "geo": {
           "bgcolor": "white",
           "lakecolor": "white",
           "landcolor": "white",
           "showlakes": true,
           "showland": true,
           "subunitcolor": "white"
          },
          "hoverlabel": {
           "align": "left"
          },
          "hovermode": "closest",
          "mapbox": {
           "style": "light"
          },
          "paper_bgcolor": "white",
          "plot_bgcolor": "white",
          "polar": {
           "angularaxis": {
            "gridcolor": "rgb(232,232,232)",
            "linecolor": "rgb(36,36,36)",
            "showgrid": false,
            "showline": true,
            "ticks": "outside"
           },
           "bgcolor": "white",
           "radialaxis": {
            "gridcolor": "rgb(232,232,232)",
            "linecolor": "rgb(36,36,36)",
            "showgrid": false,
            "showline": true,
            "ticks": "outside"
           }
          },
          "scene": {
           "xaxis": {
            "backgroundcolor": "white",
            "gridcolor": "rgb(232,232,232)",
            "gridwidth": 2,
            "linecolor": "rgb(36,36,36)",
            "showbackground": true,
            "showgrid": false,
            "showline": true,
            "ticks": "outside",
            "zeroline": false,
            "zerolinecolor": "rgb(36,36,36)"
           },
           "yaxis": {
            "backgroundcolor": "white",
            "gridcolor": "rgb(232,232,232)",
            "gridwidth": 2,
            "linecolor": "rgb(36,36,36)",
            "showbackground": true,
            "showgrid": false,
            "showline": true,
            "ticks": "outside",
            "zeroline": false,
            "zerolinecolor": "rgb(36,36,36)"
           },
           "zaxis": {
            "backgroundcolor": "white",
            "gridcolor": "rgb(232,232,232)",
            "gridwidth": 2,
            "linecolor": "rgb(36,36,36)",
            "showbackground": true,
            "showgrid": false,
            "showline": true,
            "ticks": "outside",
            "zeroline": false,
            "zerolinecolor": "rgb(36,36,36)"
           }
          },
          "shapedefaults": {
           "fillcolor": "black",
           "line": {
            "width": 0
           },
           "opacity": 0.3
          },
          "ternary": {
           "aaxis": {
            "gridcolor": "rgb(232,232,232)",
            "linecolor": "rgb(36,36,36)",
            "showgrid": false,
            "showline": true,
            "ticks": "outside"
           },
           "baxis": {
            "gridcolor": "rgb(232,232,232)",
            "linecolor": "rgb(36,36,36)",
            "showgrid": false,
            "showline": true,
            "ticks": "outside"
           },
           "bgcolor": "white",
           "caxis": {
            "gridcolor": "rgb(232,232,232)",
            "linecolor": "rgb(36,36,36)",
            "showgrid": false,
            "showline": true,
            "ticks": "outside"
           }
          },
          "title": {
           "x": 0.05
          },
          "xaxis": {
           "automargin": true,
           "gridcolor": "rgb(232,232,232)",
           "linecolor": "rgb(36,36,36)",
           "showgrid": false,
           "showline": true,
           "ticks": "outside",
           "title": {
            "standoff": 15
           },
           "zeroline": false,
           "zerolinecolor": "rgb(36,36,36)"
          },
          "yaxis": {
           "automargin": true,
           "gridcolor": "rgb(232,232,232)",
           "linecolor": "rgb(36,36,36)",
           "showgrid": false,
           "showline": true,
           "ticks": "outside",
           "title": {
            "standoff": 15
           },
           "zeroline": false,
           "zerolinecolor": "rgb(36,36,36)"
          }
         }
        },
        "title": {
         "font": {
          "color": "white"
         },
         "text": "<b>Modelo PIB Nacional</b>",
         "x": 0.5
        },
        "xaxis": {
         "dtick": 4,
         "tickangle": 35,
         "tickfont": {
          "color": "white"
         }
        },
        "yaxis": {
         "tickfont": {
          "color": "white"
         }
        }
       }
      }
     },
     "metadata": {},
     "output_type": "display_data"
    }
   ],
   "source": [
    "# Data frame con las variables del modelo final\n",
    "dfFinal = pibPorActividad[nuevoDF.columns]\n",
    "betas = mejorModelo['model_data']['bi']\n",
    "estEcuation = mejorModelo['model_data']['est_ecuation']\n",
    "\n",
    "fig = mg.olsVsRealValues(dfFinal, betas, estEcuation).update_layout(margin=dict(l=20,r=20, b=20, t=50),autosize=True, plot_bgcolor='#000', paper_bgcolor='#000', template='simple_white',title=dict(font=dict(color='white'), text=\"<b>Modelo PIB Nacional</b>\"),hovermode='x unified').update_xaxes(tickfont=dict(color='white'), tickangle=35, dtick=4).update_yaxes(tickfont=dict(color='white')).update_traces(hoverlabel=dict(bgcolor='#fff', font=dict(color='#fff'))).update_legends(font=dict(color='white'))\n",
    "\n",
    "fig.show(config=config)"
   ]
  },
  {
   "cell_type": "markdown",
   "metadata": {},
   "source": [
    "# Propuesta de Inversión para el Crecimiento del PIB\n",
    "\n",
    "A partir del análisis del modelo de regresión lineal, se identificaron las siguientes actividades económicas como prioritarias para la inversión, dado que sus coeficientes son positivos:\n",
    "\n",
    "- Agricultura\n",
    "- Generación, Transmisión y Distribución de Energía Eléctrica\n",
    "- Construcción\n",
    "- Industria de las Bebidas y del Tabaco\n",
    "- Fabricación de Maquinaria y Equipo\n",
    "- Servicios de Salud y Asistencia Social\n",
    "- Servicios Educativos\n",
    "- Servicios de Alojamiento Temporal\n",
    "- Asignación de Inversión\n",
    "\n",
    "Se propone que el gobierno destine un monto total para estas actividades. La asignación de la inversión se realizará en función de la proporción de cada coeficiente positivo en relación a la suma total de estos coeficientes.\n",
    "\n",
    "## Conclusión\n",
    "La inversión estratégica en estas actividades tiene el potencial de impulsar significativamente el crecimiento del PIB nacional, orientando los recursos hacia sectores clave que pueden fomentar un desarrollo económico sostenible y productivo."
   ]
  },
  {
   "cell_type": "code",
   "execution_count": 17,
   "metadata": {},
   "outputs": [
    {
     "data": {
      "application/vnd.plotly.v1+json": {
       "config": {
        "plotlyServerURL": "https://plot.ly"
       },
       "data": [
        {
         "hole": 0.35,
         "hoverinfo": "label+percent",
         "labels": [
          "Agricultura",
          "Generación, Transmisión y Distribución de Energía Eléctrica",
          "Construcción",
          "Industria de las Bebidas y del Tabaco",
          "Fabricación de Maquinaria y Equipo",
          "Servicios de Salud y Asistencia Social",
          "Servicios Educativos",
          "Servicios de Alojamiento Temporal"
         ],
         "marker": {
          "line": {
           "color": "#000",
           "width": 1
          }
         },
         "textfont": {
          "size": 11
         },
         "textinfo": "percent",
         "type": "pie",
         "values": [
          2.9934982191727215,
          8.702598616707782,
          3.1002261545563545,
          14.521767082612655,
          8.959510809445604,
          14.110408437789985,
          10.832356110890771,
          3.8436616550432205
         ]
        }
       ],
       "layout": {
        "height": 600,
        "template": {
         "data": {
          "bar": [
           {
            "error_x": {
             "color": "#2a3f5f"
            },
            "error_y": {
             "color": "#2a3f5f"
            },
            "marker": {
             "line": {
              "color": "#E5ECF6",
              "width": 0.5
             },
             "pattern": {
              "fillmode": "overlay",
              "size": 10,
              "solidity": 0.2
             }
            },
            "type": "bar"
           }
          ],
          "barpolar": [
           {
            "marker": {
             "line": {
              "color": "#E5ECF6",
              "width": 0.5
             },
             "pattern": {
              "fillmode": "overlay",
              "size": 10,
              "solidity": 0.2
             }
            },
            "type": "barpolar"
           }
          ],
          "carpet": [
           {
            "aaxis": {
             "endlinecolor": "#2a3f5f",
             "gridcolor": "white",
             "linecolor": "white",
             "minorgridcolor": "white",
             "startlinecolor": "#2a3f5f"
            },
            "baxis": {
             "endlinecolor": "#2a3f5f",
             "gridcolor": "white",
             "linecolor": "white",
             "minorgridcolor": "white",
             "startlinecolor": "#2a3f5f"
            },
            "type": "carpet"
           }
          ],
          "choropleth": [
           {
            "colorbar": {
             "outlinewidth": 0,
             "ticks": ""
            },
            "type": "choropleth"
           }
          ],
          "contour": [
           {
            "colorbar": {
             "outlinewidth": 0,
             "ticks": ""
            },
            "colorscale": [
             [
              0,
              "#0d0887"
             ],
             [
              0.1111111111111111,
              "#46039f"
             ],
             [
              0.2222222222222222,
              "#7201a8"
             ],
             [
              0.3333333333333333,
              "#9c179e"
             ],
             [
              0.4444444444444444,
              "#bd3786"
             ],
             [
              0.5555555555555556,
              "#d8576b"
             ],
             [
              0.6666666666666666,
              "#ed7953"
             ],
             [
              0.7777777777777778,
              "#fb9f3a"
             ],
             [
              0.8888888888888888,
              "#fdca26"
             ],
             [
              1,
              "#f0f921"
             ]
            ],
            "type": "contour"
           }
          ],
          "contourcarpet": [
           {
            "colorbar": {
             "outlinewidth": 0,
             "ticks": ""
            },
            "type": "contourcarpet"
           }
          ],
          "heatmap": [
           {
            "colorbar": {
             "outlinewidth": 0,
             "ticks": ""
            },
            "colorscale": [
             [
              0,
              "#0d0887"
             ],
             [
              0.1111111111111111,
              "#46039f"
             ],
             [
              0.2222222222222222,
              "#7201a8"
             ],
             [
              0.3333333333333333,
              "#9c179e"
             ],
             [
              0.4444444444444444,
              "#bd3786"
             ],
             [
              0.5555555555555556,
              "#d8576b"
             ],
             [
              0.6666666666666666,
              "#ed7953"
             ],
             [
              0.7777777777777778,
              "#fb9f3a"
             ],
             [
              0.8888888888888888,
              "#fdca26"
             ],
             [
              1,
              "#f0f921"
             ]
            ],
            "type": "heatmap"
           }
          ],
          "heatmapgl": [
           {
            "colorbar": {
             "outlinewidth": 0,
             "ticks": ""
            },
            "colorscale": [
             [
              0,
              "#0d0887"
             ],
             [
              0.1111111111111111,
              "#46039f"
             ],
             [
              0.2222222222222222,
              "#7201a8"
             ],
             [
              0.3333333333333333,
              "#9c179e"
             ],
             [
              0.4444444444444444,
              "#bd3786"
             ],
             [
              0.5555555555555556,
              "#d8576b"
             ],
             [
              0.6666666666666666,
              "#ed7953"
             ],
             [
              0.7777777777777778,
              "#fb9f3a"
             ],
             [
              0.8888888888888888,
              "#fdca26"
             ],
             [
              1,
              "#f0f921"
             ]
            ],
            "type": "heatmapgl"
           }
          ],
          "histogram": [
           {
            "marker": {
             "pattern": {
              "fillmode": "overlay",
              "size": 10,
              "solidity": 0.2
             }
            },
            "type": "histogram"
           }
          ],
          "histogram2d": [
           {
            "colorbar": {
             "outlinewidth": 0,
             "ticks": ""
            },
            "colorscale": [
             [
              0,
              "#0d0887"
             ],
             [
              0.1111111111111111,
              "#46039f"
             ],
             [
              0.2222222222222222,
              "#7201a8"
             ],
             [
              0.3333333333333333,
              "#9c179e"
             ],
             [
              0.4444444444444444,
              "#bd3786"
             ],
             [
              0.5555555555555556,
              "#d8576b"
             ],
             [
              0.6666666666666666,
              "#ed7953"
             ],
             [
              0.7777777777777778,
              "#fb9f3a"
             ],
             [
              0.8888888888888888,
              "#fdca26"
             ],
             [
              1,
              "#f0f921"
             ]
            ],
            "type": "histogram2d"
           }
          ],
          "histogram2dcontour": [
           {
            "colorbar": {
             "outlinewidth": 0,
             "ticks": ""
            },
            "colorscale": [
             [
              0,
              "#0d0887"
             ],
             [
              0.1111111111111111,
              "#46039f"
             ],
             [
              0.2222222222222222,
              "#7201a8"
             ],
             [
              0.3333333333333333,
              "#9c179e"
             ],
             [
              0.4444444444444444,
              "#bd3786"
             ],
             [
              0.5555555555555556,
              "#d8576b"
             ],
             [
              0.6666666666666666,
              "#ed7953"
             ],
             [
              0.7777777777777778,
              "#fb9f3a"
             ],
             [
              0.8888888888888888,
              "#fdca26"
             ],
             [
              1,
              "#f0f921"
             ]
            ],
            "type": "histogram2dcontour"
           }
          ],
          "mesh3d": [
           {
            "colorbar": {
             "outlinewidth": 0,
             "ticks": ""
            },
            "type": "mesh3d"
           }
          ],
          "parcoords": [
           {
            "line": {
             "colorbar": {
              "outlinewidth": 0,
              "ticks": ""
             }
            },
            "type": "parcoords"
           }
          ],
          "pie": [
           {
            "automargin": true,
            "type": "pie"
           }
          ],
          "scatter": [
           {
            "fillpattern": {
             "fillmode": "overlay",
             "size": 10,
             "solidity": 0.2
            },
            "type": "scatter"
           }
          ],
          "scatter3d": [
           {
            "line": {
             "colorbar": {
              "outlinewidth": 0,
              "ticks": ""
             }
            },
            "marker": {
             "colorbar": {
              "outlinewidth": 0,
              "ticks": ""
             }
            },
            "type": "scatter3d"
           }
          ],
          "scattercarpet": [
           {
            "marker": {
             "colorbar": {
              "outlinewidth": 0,
              "ticks": ""
             }
            },
            "type": "scattercarpet"
           }
          ],
          "scattergeo": [
           {
            "marker": {
             "colorbar": {
              "outlinewidth": 0,
              "ticks": ""
             }
            },
            "type": "scattergeo"
           }
          ],
          "scattergl": [
           {
            "marker": {
             "colorbar": {
              "outlinewidth": 0,
              "ticks": ""
             }
            },
            "type": "scattergl"
           }
          ],
          "scattermapbox": [
           {
            "marker": {
             "colorbar": {
              "outlinewidth": 0,
              "ticks": ""
             }
            },
            "type": "scattermapbox"
           }
          ],
          "scatterpolar": [
           {
            "marker": {
             "colorbar": {
              "outlinewidth": 0,
              "ticks": ""
             }
            },
            "type": "scatterpolar"
           }
          ],
          "scatterpolargl": [
           {
            "marker": {
             "colorbar": {
              "outlinewidth": 0,
              "ticks": ""
             }
            },
            "type": "scatterpolargl"
           }
          ],
          "scatterternary": [
           {
            "marker": {
             "colorbar": {
              "outlinewidth": 0,
              "ticks": ""
             }
            },
            "type": "scatterternary"
           }
          ],
          "surface": [
           {
            "colorbar": {
             "outlinewidth": 0,
             "ticks": ""
            },
            "colorscale": [
             [
              0,
              "#0d0887"
             ],
             [
              0.1111111111111111,
              "#46039f"
             ],
             [
              0.2222222222222222,
              "#7201a8"
             ],
             [
              0.3333333333333333,
              "#9c179e"
             ],
             [
              0.4444444444444444,
              "#bd3786"
             ],
             [
              0.5555555555555556,
              "#d8576b"
             ],
             [
              0.6666666666666666,
              "#ed7953"
             ],
             [
              0.7777777777777778,
              "#fb9f3a"
             ],
             [
              0.8888888888888888,
              "#fdca26"
             ],
             [
              1,
              "#f0f921"
             ]
            ],
            "type": "surface"
           }
          ],
          "table": [
           {
            "cells": {
             "fill": {
              "color": "#EBF0F8"
             },
             "line": {
              "color": "white"
             }
            },
            "header": {
             "fill": {
              "color": "#C8D4E3"
             },
             "line": {
              "color": "white"
             }
            },
            "type": "table"
           }
          ]
         },
         "layout": {
          "annotationdefaults": {
           "arrowcolor": "#2a3f5f",
           "arrowhead": 0,
           "arrowwidth": 1
          },
          "autotypenumbers": "strict",
          "coloraxis": {
           "colorbar": {
            "outlinewidth": 0,
            "ticks": ""
           }
          },
          "colorscale": {
           "diverging": [
            [
             0,
             "#8e0152"
            ],
            [
             0.1,
             "#c51b7d"
            ],
            [
             0.2,
             "#de77ae"
            ],
            [
             0.3,
             "#f1b6da"
            ],
            [
             0.4,
             "#fde0ef"
            ],
            [
             0.5,
             "#f7f7f7"
            ],
            [
             0.6,
             "#e6f5d0"
            ],
            [
             0.7,
             "#b8e186"
            ],
            [
             0.8,
             "#7fbc41"
            ],
            [
             0.9,
             "#4d9221"
            ],
            [
             1,
             "#276419"
            ]
           ],
           "sequential": [
            [
             0,
             "#0d0887"
            ],
            [
             0.1111111111111111,
             "#46039f"
            ],
            [
             0.2222222222222222,
             "#7201a8"
            ],
            [
             0.3333333333333333,
             "#9c179e"
            ],
            [
             0.4444444444444444,
             "#bd3786"
            ],
            [
             0.5555555555555556,
             "#d8576b"
            ],
            [
             0.6666666666666666,
             "#ed7953"
            ],
            [
             0.7777777777777778,
             "#fb9f3a"
            ],
            [
             0.8888888888888888,
             "#fdca26"
            ],
            [
             1,
             "#f0f921"
            ]
           ],
           "sequentialminus": [
            [
             0,
             "#0d0887"
            ],
            [
             0.1111111111111111,
             "#46039f"
            ],
            [
             0.2222222222222222,
             "#7201a8"
            ],
            [
             0.3333333333333333,
             "#9c179e"
            ],
            [
             0.4444444444444444,
             "#bd3786"
            ],
            [
             0.5555555555555556,
             "#d8576b"
            ],
            [
             0.6666666666666666,
             "#ed7953"
            ],
            [
             0.7777777777777778,
             "#fb9f3a"
            ],
            [
             0.8888888888888888,
             "#fdca26"
            ],
            [
             1,
             "#f0f921"
            ]
           ]
          },
          "colorway": [
           "#636efa",
           "#EF553B",
           "#00cc96",
           "#ab63fa",
           "#FFA15A",
           "#19d3f3",
           "#FF6692",
           "#B6E880",
           "#FF97FF",
           "#FECB52"
          ],
          "font": {
           "color": "#2a3f5f"
          },
          "geo": {
           "bgcolor": "white",
           "lakecolor": "white",
           "landcolor": "#E5ECF6",
           "showlakes": true,
           "showland": true,
           "subunitcolor": "white"
          },
          "hoverlabel": {
           "align": "left"
          },
          "hovermode": "closest",
          "mapbox": {
           "style": "light"
          },
          "paper_bgcolor": "white",
          "plot_bgcolor": "#E5ECF6",
          "polar": {
           "angularaxis": {
            "gridcolor": "white",
            "linecolor": "white",
            "ticks": ""
           },
           "bgcolor": "#E5ECF6",
           "radialaxis": {
            "gridcolor": "white",
            "linecolor": "white",
            "ticks": ""
           }
          },
          "scene": {
           "xaxis": {
            "backgroundcolor": "#E5ECF6",
            "gridcolor": "white",
            "gridwidth": 2,
            "linecolor": "white",
            "showbackground": true,
            "ticks": "",
            "zerolinecolor": "white"
           },
           "yaxis": {
            "backgroundcolor": "#E5ECF6",
            "gridcolor": "white",
            "gridwidth": 2,
            "linecolor": "white",
            "showbackground": true,
            "ticks": "",
            "zerolinecolor": "white"
           },
           "zaxis": {
            "backgroundcolor": "#E5ECF6",
            "gridcolor": "white",
            "gridwidth": 2,
            "linecolor": "white",
            "showbackground": true,
            "ticks": "",
            "zerolinecolor": "white"
           }
          },
          "shapedefaults": {
           "line": {
            "color": "#2a3f5f"
           }
          },
          "ternary": {
           "aaxis": {
            "gridcolor": "white",
            "linecolor": "white",
            "ticks": ""
           },
           "baxis": {
            "gridcolor": "white",
            "linecolor": "white",
            "ticks": ""
           },
           "bgcolor": "#E5ECF6",
           "caxis": {
            "gridcolor": "white",
            "linecolor": "white",
            "ticks": ""
           }
          },
          "title": {
           "x": 0.05
          },
          "xaxis": {
           "automargin": true,
           "gridcolor": "white",
           "linecolor": "white",
           "ticks": "",
           "title": {
            "standoff": 15
           },
           "zerolinecolor": "white",
           "zerolinewidth": 2
          },
          "yaxis": {
           "automargin": true,
           "gridcolor": "white",
           "linecolor": "white",
           "ticks": "",
           "title": {
            "standoff": 15
           },
           "zerolinecolor": "white",
           "zerolinewidth": 2
          }
         }
        },
        "title": {
         "text": "<b>Participación de Inversión en Sectores Clave para el PIB Nacional</b>",
         "x": 0.5
        }
       }
      }
     },
     "metadata": {},
     "output_type": "display_data"
    }
   ],
   "source": [
    "mg.donutChartInvRecommendations(betas)"
   ]
  },
  {
   "cell_type": "markdown",
   "metadata": {},
   "source": [
    "# Hipótesis\n",
    "Suponiendo que si nos da el gobierno para invertir 15 millones de pesos, y distribuyéndolos de la manera que propusimos, obtenríamos el siguiente PIB"
   ]
  },
  {
   "cell_type": "code",
   "execution_count": 18,
   "metadata": {},
   "outputs": [
    {
     "name": "stdout",
     "output_type": "stream",
     "text": [
      "PIB Nacional Estimado: $7,587,816.67\n"
     ]
    }
   ],
   "source": [
    "import numpy as np\n",
    "m10 = 10000000\n",
    "\n",
    "x = np.array([1, 45000, 130000, 46000, 220000, 130000, 0, 210000, 162000, 57000])\n",
    "\n",
    "print(f\"PIB Nacional Estimado: ${x @ betas['beta']:,.2f}\")"
   ]
  },
  {
   "cell_type": "markdown",
   "metadata": {},
   "source": [
    "# Conclusión del Proyecto\n",
    "\n",
    "Este proyecto desarrolló un modelo de regresión lineal para estimar el PIB nacional de México a partir de sectores clave, logrando un rendimiento del 96.51%, lo que indica un alto nivel de ajuste y precisión en las predicciones. En este análisis, se seleccionaron las actividades económicas más significativas que impactan el crecimiento del PIB, garantizando la solidez del modelo al eliminar variables redundantes.\n",
    "\n",
    "Las variables identificadas como fundamentales para el crecimiento económico fueron:\n",
    "## Sector Primario\n",
    "- Agricultura\n",
    "\n",
    "## Sector Secundario\n",
    "- Generación, Transmisión y Distribución de Energía Eléctrica\n",
    "- Construcción\n",
    "- Industria de las Bebidas y del Tabaco\n",
    "- Fabricación de Maquinaria y Equipo\n",
    "- Fabricación de Productos Químicos\n",
    "\n",
    "## Sector Terciario\n",
    "- Servicios de Salud y Asistencia Social\n",
    "- Servicios Educativos\n",
    "- Servicios de Alojamiento Temporal\n",
    "\n",
    "Estas áreas representan sectores con un impacto positivo significativo en el PIB, y es recomendable que el gobierno priorice su inversión en ellos.\n",
    "\n",
    "Adoptar un enfoque estratégico en estas actividades no solo orienta las decisiones de inversión, sino que también apoya el desarrollo de políticas económicas más efectivas, capaces de maximizar el crecimiento y mejorar la estabilidad económica del país a largo plazo. Este modelo proporciona una herramienta valiosa para la planificación económica, contribuyendo a un futuro más próspero para México."
   ]
  }
 ],
 "metadata": {
  "kernelspec": {
   "display_name": "Python 3",
   "language": "python",
   "name": "python3"
  },
  "language_info": {
   "codemirror_mode": {
    "name": "ipython",
    "version": 3
   },
   "file_extension": ".py",
   "mimetype": "text/x-python",
   "name": "python",
   "nbconvert_exporter": "python",
   "pygments_lexer": "ipython3",
   "version": "3.11.4"
  }
 },
 "nbformat": 4,
 "nbformat_minor": 2
}
